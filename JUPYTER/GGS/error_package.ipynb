{
 "cells": [
  {
   "cell_type": "code",
   "execution_count": null,
   "metadata": {},
   "outputs": [],
   "source": [
    "in_file = \"C:\\\\Users\\\\mchmir\\\\Desktop\\\\Новая папка\\\\Горгаз №580.txt\"\n",
    "\n",
    "lst = ['upd','ins','if ','del']\n",
    "\n",
    "with open(in_file, 'r') as read_file:\n",
    "    n = 0\n",
    "    for line in read_file:\n",
    "        n += 1\n",
    "        my_string = line.strip()\n",
    "        if my_string[0:3] not in lst:\n",
    "            print('проверьте строки: ', my_string[0:20], '...под номером: ', n)"
   ]
  }
 ],
 "metadata": {
  "kernelspec": {
   "display_name": "Python 3.9.7 64-bit",
   "language": "python",
   "name": "python3"
  },
  "language_info": {
   "name": "python",
   "version": "3.9.7"
  },
  "orig_nbformat": 4,
  "vscode": {
   "interpreter": {
    "hash": "25034407fed5d681614dac11a1c0537e8cb49e3a8883c071303eea01322943d9"
   }
  }
 },
 "nbformat": 4,
 "nbformat_minor": 2
}

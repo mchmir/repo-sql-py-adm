{
 "cells": [
  {
   "cell_type": "code",
   "execution_count": 12,
   "metadata": {},
   "outputs": [
    {
     "name": "stdout",
     "output_type": "stream",
     "text": [
      "Разделитель ascii-код 182, ascii-символ ¶\n"
     ]
    }
   ],
   "source": [
    "print(\"Разделитель ascii-код {}, ascii-символ {}\".format(str(ord('¶')), chr(182)))"
   ]
  },
  {
   "cell_type": "code",
   "execution_count": 13,
   "metadata": {},
   "outputs": [
    {
     "name": "stdout",
     "output_type": "stream",
     "text": [
      "проверьте строки:  1¶30.09.2022¶3¶530 ...под номером:  1\n",
      "проверьте строки:  \"Газ. ассоц.\"¶14.10. ...под номером:  1035\n"
     ]
    }
   ],
   "source": [
    "in_file = \"C:\\\\Users\\\\mchmir\\\\Desktop\\\\Новая папка\\\\Горгаз-сервис № 530.txt\"\n",
    "\n",
    "lst = ['docume','gmeter','contra','typegm']\n",
    "\n",
    "with open(in_file, 'r') as read_file:\n",
    "    n = 0\n",
    "    for line in read_file:\n",
    "        n += 1\n",
    "        my_string = line.strip()\n",
    "        if my_string[4:10] not in lst:\n",
    "            print('проверьте строки: ', my_string[0:20], '...под номером: ', n)\n"
   ]
  }
 ],
 "metadata": {
  "kernelspec": {
   "display_name": "Python 3.9.12 ('base')",
   "language": "python",
   "name": "python3"
  },
  "language_info": {
   "codemirror_mode": {
    "name": "ipython",
    "version": 3
   },
   "file_extension": ".py",
   "mimetype": "text/x-python",
   "name": "python",
   "nbconvert_exporter": "python",
   "pygments_lexer": "ipython3",
   "version": "3.9.12"
  },
  "orig_nbformat": 4,
  "vscode": {
   "interpreter": {
    "hash": "ad2bdc8ecc057115af97d19610ffacc2b4e99fae6737bb82f5d7fb13d2f2c186"
   }
  }
 },
 "nbformat": 4,
 "nbformat_minor": 2
}

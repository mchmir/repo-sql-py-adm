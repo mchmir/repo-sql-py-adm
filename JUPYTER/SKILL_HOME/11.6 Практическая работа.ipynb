{
 "cells": [
  {
   "cell_type": "markdown",
   "id": "b878f3a7",
   "metadata": {
    "id": "b878f3a7"
   },
   "source": [
    "# Чтение файлов в Python и командной строке. Домашнее задание\n",
    "\n",
    "### Цели домашнего задания\n",
    "1. Научиться считывать информацию из файлов и соверщать над ней опервции с помощью кода на Python и командной строки.\n",
    "2. Закрепить навыки стыковки команд в конвейеры и установки внешних пакетов с помощью пакетного менеджера pip.\n"
   ]
  },
  {
   "cell_type": "markdown",
   "id": "8qwWbGel67S3",
   "metadata": {
    "id": "8qwWbGel67S3"
   },
   "source": [
    "### Что входит в задание\n",
    "1. Работа с файлами в командной строке.\n",
    "2. Работа с файлами в Python 1.\n",
    "3. Работа с файлами в Python 2.\n",
    "4. Импортирование модулей.\n",
    "5. Установка внешних модулей через pip.\n",
    "6. Бонусное задание\n",
    "\n",
    "### Критерии оценки\n",
    "Обязательные задания (1-5) выполнены верно. \n",
    "\n",
    "### Как отправить задание на проверку\n",
    "Все задания собраны в один Jupyter Notebook. Выполните их, сохраните изменения при помощи опции Save and Checkpoint из вкладки меню File или кнопки Save and Checkpoint на панели инструментов. Отправьте итоговый файл Jupyter Notebook (в формате .ipynb) или ссылку на него через форму ниже.\n"
   ]
  },
  {
   "cell_type": "markdown",
   "id": "a44f6df4",
   "metadata": {
    "id": "a44f6df4"
   },
   "source": [
    "## Задание 1. Работа с файлами в командной строке\n",
    "\n",
    "В уроках модуля вы считали количество всех слов в рассказе А. П. Чехова «Анна на шее». Теперь необходимо определить, сколько раз каждое слово встречается в тексте.\n",
    "\n",
    "По практике после урока 3 вы знаете команды sort и uniq, умеете с их помощью считать количество уникальных строк в построчном файле. В результате у вас должен был получиться такой конвейер команд: `cat anna_words.txt | sort | uniq | wc -l`.\n",
    "\n",
    "Команда cat перенаправляет слова из файла в команду sort, которая сортирует слова и передаёт упорядоченный список в команду uniq. Последняя удаляет дубликаты и направляет список уникальных слов в команду wc -l, которая их считает.\n",
    "\n",
    "### Что нужно сделать\n",
    "\n",
    "Посчитайте количество уникальных слов и определите частоту встречаемости каждого слова. Информацию в виде `частота слово` сохраните в текстовый файл. Для этого нужно:\n",
    "1. изменить конвейер команд так, чтобы он выводил слова и их частоту встречаемости на экран;\n",
    "2. перенаправить вывод конвейера в текстовый файл `words_freq.txt`.\n",
    "\n",
    "Если всё сделаете правильно, то получится текстовый файл `words_freq.txt`, в котором будут слова и их частота в виде:\n",
    "\n",
    "```\n",
    "...\n",
    "   1 по-прежнему\n",
    "   2 по-французски\n",
    "  40 аня\n",
    "   6 бал\n",
    "   1 бог\n",
    "   2 ваш\n",
    "   2 вид\n",
    "...\n",
    "```\n",
    "\n",
    "3. Скопируйте конвейер команд в ячейку, которая расположена непосредственно под этой.\n",
    "\n",
    "### Подсказки\n",
    "1. Ознакомьтесь с документацией команды uniq, обратите внимание на её ключ `-с`. Официальную документацию можно почитать прямо в командной строке: для этого выполните команду `man uniq`. Команда `man` (от английского manual) выводит справку для команды, которая передаётся в man как аргумент. Если читать текст в терминале непривычно, то можете поискать информацию в интернете.\n",
    "\n",
    "2. Перенаправить вывод команды в bash можно с помощью символа `>`. О том, как это сделать, читайте в интернете. Например, в статье [**«Перенаправление ввода вывода Linux»**](https://losst.ru/perenapravlenie-vvoda-vyvoda-linux). "
   ]
  },
  {
   "cell_type": "markdown",
   "id": "ac416392",
   "metadata": {
    "id": "ac416392"
   },
   "source": [
    "### Вставьте конвейер команд, который у вас получился, в эту ячейку. \n",
    "\n",
    "`cat anna_words.txt | sort | uniq -c | sort -nr`\n",
    "\n",
    "`cat anna_words.txt | sort | uniq -c | sort -nr > words_freq.txt`"
   ]
  },
  {
   "cell_type": "markdown",
   "id": "3952c1a6",
   "metadata": {
    "id": "3952c1a6"
   },
   "source": [
    "---\n",
    "\n",
    "## Задание 2. Работа с файлами в Python 1\n",
    "\n",
    "### Что нужно сделать\n",
    "В рассказе А. П. Чехова «Анна на шее» найдите десять слов, которые встречаются чаще всего. \n",
    "\n",
    "1. Напишите код на Python, который читает файл `word_freq.txt` по строкам, преобразует каждую из них в кортеж `(частота, слово)` и складывает полученные кортежи в список. \n",
    "2. Отсортируйте список по частотам, выведите на экран десять самых популярных слов и их частоты.\n",
    "\n",
    "### Подсказки\n",
    "1. Обратите внимание, что строки в файле содержат «лишние» символы: пробелы в начале и символ перевода строки в конце. Работать будет удобнее, если предварительно удалить их. Сделать это можно с помощью метода  `strip`. Ознакомьтесь с ним подробнее в [**официальной документации**](https://docs.python.org/3/library/stdtypes.html?highlight=strip#str.strip).\n",
    "\n",
    "2. Сейчас частота и слово — это одна строка, в которой они разделены пробелом. Их можно разделить с помощью метода [**`split`**](https://docs.python.org/3/library/stdtypes.html?highlight=split#str.split).\n",
    "\n",
    "3. Для сортировки в Python есть функция `sorted`. Она принимает на вход итерируемый объект, сравнивает его элементы между собой и возвращает с возвращает итерируемый объект, который отсортирован. По умолчанию функция размещает элементы в порядке возрастания. Например, `sorted([2, 4, 1, 0])` вернёт `[0, 1, 2, 4]`. Подробнее про работу функции можно почитать в [**официальной документации**](https://docs.python.org/3/library/functions.html?highlight=sorted#sorted)"
   ]
  },
  {
   "cell_type": "code",
   "execution_count": 29,
   "id": "c98e4d0b",
   "metadata": {
    "id": "c98e4d0b"
   },
   "outputs": [
    {
     "name": "stdout",
     "output_type": "stream",
     "text": [
      "1) 40 аня\n",
      "2) 28 свой\n",
      "3) 19 говорить\n",
      "4) 17 это\n",
      "5) 17 сказать\n",
      "6) 17 модест\n",
      "7) 17 который\n",
      "8) 17 алексеич\n",
      "9) 16 человек\n",
      "10) 16 рука\n"
     ]
    }
   ],
   "source": [
    "##\n",
    "## Вставьте свой код сюда.\n",
    "##\n",
    "words_freq = []\n",
    "string     = ()\n",
    "words_freq_new = []\n",
    "\n",
    "with open('words_freq.txt', encoding='UTF-8') as file:\n",
    "    for string in file:\n",
    "        string = (string.strip()).split()\n",
    "        # приведем первое значение кортежа к целому числу для сортировки\n",
    "        string = (int(string[0]), string[1])\n",
    "        words_freq.append(tuple(string))\n",
    "        # отсортируем список (по убыванию), хотя мы отсортировали уже его еще \n",
    "        # при создании файла\n",
    "        words_freq = sorted(words_freq, reverse=True)\n",
    "        \n",
    "for i in range(10):\n",
    "    tuple_sort = words_freq[i]\n",
    "    print(f\"{i+1})\",tuple_sort[0], tuple_sort[1])\n",
    "\n"
   ]
  },
  {
   "cell_type": "markdown",
   "id": "8639569c",
   "metadata": {
    "id": "8639569c"
   },
   "source": [
    "---\n",
    "\n",
    "## Задание 3. Работа с файлами в Python 2\n",
    "\n",
    "### Что нужно сделать\n",
    "Найдите букву, с которой чаще всего начинаются слова в рассказе А. П. Чехова «Анна на шее». \n",
    "1. Используйте файл с частотами слов `words_freq.txt`. \n",
    "2. Напишите код в Python, который выводит на экран самую популярную первую букву и количество слов на неё.\n",
    "\n",
    "\n",
    "### Подсказки\n",
    "Скорее всего, вы будете искать в словаре ключ с максимальным значением. Чтобы упростить работу, отсортируйте словарь. Сортировать словарь по значениям сложнее, чем список объектов, которые можно сравнивать непосредственно. Обратите внимание на параметр key функции [**sorted**](https://docs.python.org/3/library/functions.html?highlight=sorted#sorted)."
   ]
  },
  {
   "cell_type": "code",
   "execution_count": 52,
   "id": "6da9050c",
   "metadata": {
    "id": "6da9050c"
   },
   "outputs": [
    {
     "name": "stdout",
     "output_type": "stream",
     "text": [
      "п 196\n"
     ]
    }
   ],
   "source": [
    "##\n",
    "## Вставьте свой код сюда.\n",
    "##\n",
    "words  = []\n",
    "string = ()\n",
    "letter_dict = {}\n",
    "\n",
    "with open('words_freq.txt', encoding='UTF-8') as file:\n",
    "    for string in file:\n",
    "        string = (string.strip()).split()\n",
    "        string = (string[1])\n",
    "        words.append(string)\n",
    "\n",
    "summ = 0\n",
    "letters = set()\n",
    "letters_freq = {}\n",
    "\n",
    "for word in words:\n",
    "    letter = word[0].lower()\n",
    "    letters.add(letter)\n",
    "letters = sorted(letters)\n",
    "\n",
    "for letter in letters:\n",
    "    count = 0\n",
    "    for word in words:\n",
    "        if letter == (word.lower())[0]:\n",
    "            count += 1\n",
    "            letters_freq[letter] = count\n",
    "            summ += 1\n",
    "\n",
    "letters_freq = dict(sorted(letters_freq.items(), key=lambda item: item[1], reverse=True))\n",
    "#print(summ) проверка - 1198 строк в файле words_freq.txt \n",
    "\n",
    "for key, value in letters_freq.items():\n",
    "    print(key, value)\n",
    "    break\n"
   ]
  },
  {
   "cell_type": "markdown",
   "id": "b94a18e9",
   "metadata": {
    "id": "b94a18e9"
   },
   "source": [
    "---\n",
    "\n",
    "## Задание 4. Импортирование модулей\n",
    "\n",
    "###Что нужно сделать\n",
    "Напишите функцию `circ_sqrt`. Она должна принимать один параметр `r` типа `float` и возвращать квадратный корень из длины окружности радиуса `r`.\n",
    "\n",
    "### Подсказки\n",
    "- Используйте функции встроенного модуля math.\n",
    "- В работе функции учтите область определения квадратного корня."
   ]
  },
  {
   "cell_type": "code",
   "execution_count": 54,
   "id": "f9ddadb6",
   "metadata": {
    "id": "f9ddadb6"
   },
   "outputs": [
    {
     "name": "stdout",
     "output_type": "stream",
     "text": [
      "8.0\n"
     ]
    }
   ],
   "source": [
    "# нам нужна всего одна функция, зачем импортировать весь модуль\n",
    "from math import sqrt\n",
    "\n",
    "def circ_sqrt(r: float) -> float:\n",
    "    # так как функция одна, можем не писать math.sqrt\n",
    "    return sqrt(r)\n",
    "\n",
    "print(circ_sqrt(64))"
   ]
  },
  {
   "cell_type": "markdown",
   "id": "73df457b",
   "metadata": {
    "id": "73df457b"
   },
   "source": [
    "---\n",
    "\n",
    "## Задание 5. Установка внешних модулей через pip\n",
    "\n",
    "### Что нужно сделать\n",
    "\n",
    "Установите пакеты из PyPi с помощью пакетного менеджера pip и используйте их в коде. \n",
    "1. Установите пакет `cowsay`.\n",
    "2. Установите в систему пакет `wikipedia` — Python API для очень популярной онлайн-энциклопедии.\n",
    "3. Напишите функцию `random_article`, которая выводит на экран очень умную корову. Корова должна «рассказывать» краткое содержание случайной статьи из Википедии на английском языке.\n",
    "\n",
    "\n",
    "### Подсказки\n",
    "\n",
    "Вам понадобятся следующие функции пакета `wikipedia`:\n",
    "\n",
    "1. [**wikipedia.random**](https://wikipedia.readthedocs.io/en/latest/code.html#wikipedia.random)\n",
    "1. [**wikipedia.summary**](https://wikipedia.readthedocs.io/en/latest/code.html#wikipedia.summary)"
   ]
  },
  {
   "cell_type": "code",
   "execution_count": 63,
   "id": "0ac65710",
   "metadata": {
    "id": "0ac65710"
   },
   "outputs": [
    {
     "name": "stdout",
     "output_type": "stream",
     "text": [
      "  _________________________________________________\n",
      " /                                                 \\\n",
      "| XAML Browser Applications (XBAP, pronounced \"ex-b |\n",
      "| ap\") are Windows Presentation Foundation (.xbap)  |\n",
      "| applications that are hosted and run inside a web |\n",
      "|  browser such as Firefox or Internet Explorer. Ho |\n",
      "| sted applications run in a partial trust sandbox  |\n",
      "| environment and are not given full access to the  |\n",
      "| computer's resources like opening a new network c |\n",
      "| onnection or saving a file to the computer disk a |\n",
      "| nd not all WPF functionality is available. The ho |\n",
      "| sted environment is intended to protect the compu |\n",
      "| ter from malicious applications; however it can a |\n",
      "| lso run in full trust mode by the client changing |\n",
      "|  the permission. Starting an XBAP from an HTML pa |\n",
      "| ge is seamless (with no security or installation  |\n",
      "| prompt). Although one perceives the application r |\n",
      "| unning in the browser, it actually runs in an out |\n",
      "| -of-process executable (PresentationHost.exe) man |\n",
      "| aged by a virtual machine. In the initial release |\n",
      "|  of .NET Framework 3.0, XBAPs only ran in Interne |\n",
      "| t Explorer. With the release of .NET Framework 3. |\n",
      "| 5 SP1, which includes an XBAP extension, they als |\n",
      "| o run in Mozilla Firefox.                         |\n",
      " \\                                                 /\n",
      "  =================================================\n",
      "                                                 \\\n",
      "                                                  \\\n",
      "                                                    ^__^\n",
      "                                                    (oo)\\_______\n",
      "                                                    (__)\\       )\\/\\\n",
      "                                                        ||----w |\n",
      "                                                        ||     ||\n"
     ]
    }
   ],
   "source": [
    "import cowsay\n",
    "from wikipedia import random as wikirandom, summary\n",
    "\n",
    "def random_article():\n",
    "    cowsay.cow(str(summary(wikirandom(1))))\n",
    "\n",
    "\n",
    "random_article()\n",
    "\n",
    "\n"
   ]
  },
  {
   "cell_type": "markdown",
   "id": "af263b7d",
   "metadata": {
    "id": "af263b7d"
   },
   "source": [
    "---\n",
    "\n",
    "## Задание 6. Бонусное\n",
    "\n",
    "### Что нужно сделать\n",
    "\n",
    "Выясните, как слова в рассказе «Анна на шее» распределяются по длине. \n",
    "\n",
    "1. Посчитайте, сколько слов длины 1, 2 и так далее в файле anna_words.txt.\n",
    "\n",
    "2. Выведите на экран информацию в формате `длина количество_слов`, отсортируйте её по возрастанию длины.\n",
    "\n",
    "3. Перенесите вывод программы в Excel или Google Таблицы и постройте столбчатую диаграмму. \n",
    "\n",
    "4. Сравните ваш график с [распределением русских слов по длине](http://nskhuman.ru/unislov/statist.php?nstat=21). В гистограмме по ссылке больше данных, поэтому она лучше показывает соотношение длины слов и их количества в русском языке.\n",
    "\n",
    "### Советы и рекомендации\n",
    "Вероятнее всего, вы снова будете использовать словарь. Ключами в нём будет длина слов, а значениями — количество слов этой длины. Обратите внимание, что словарь нужно сортировать по ключам, а не по значениям, как вы делали ранее."
   ]
  },
  {
   "cell_type": "code",
   "execution_count": 81,
   "id": "31cd934a",
   "metadata": {
    "id": "31cd934a"
   },
   "outputs": [
    {
     "name": "stdout",
     "output_type": "stream",
     "text": [
      "1 \t 6\n",
      "2 \t 13\n",
      "3 \t 127\n",
      "4 \t 299\n",
      "5 \t 288\n",
      "6 \t 334\n",
      "7 \t 399\n",
      "8 \t 314\n",
      "9 \t 182\n",
      "10 \t 124\n",
      "11 \t 111\n",
      "12 \t 45\n",
      "13 \t 21\n",
      "14 \t 11\n",
      "15 \t 7\n",
      "16 \t 1\n",
      "17 \t 4\n",
      "18 \t 2\n"
     ]
    }
   ],
   "source": [
    "lengths = set()\n",
    "words = []\n",
    "count_lengths = {}\n",
    "\n",
    "with open('anna_words.txt', encoding='UTF-8') as file:\n",
    "    for string in file:\n",
    "        # удалит символ переноса строки \\n в конце строк\n",
    "        string = string.rstrip()\n",
    "        \n",
    "        # создадим список слов, чтобы уже не трогать файл \n",
    "        words.append(string)\n",
    "        \n",
    "        lengths.add(len(str(string)))\n",
    "        \n",
    "    for len_words in lengths:\n",
    "        count = 0\n",
    "        for word in words:\n",
    "            if len_words == len(word):\n",
    "                count += 1\n",
    "                count_lengths[len_words] = count\n",
    "    \n",
    "    count_lengths = dict(sorted(count_lengths.items(), key=lambda item: item[0], reverse=False))\n",
    "\n",
    "for key, value in count_lengths.items():\n",
    "    # для удобство переноса в Excel разделим табуляцией\n",
    "    print(key, '\\t', value)\n",
    "    \n",
    "\n",
    "\n"
   ]
  },
  {
   "cell_type": "markdown",
   "id": "04da1b0d",
   "metadata": {
    "id": "bda34089"
   },
   "source": [
    "![diagram](https://drive.google.com/open?id=1-PjTWouNoUaEjNGV3omwvvsNqkxDk0xj&authuser=mp.chmir%40gmail.com&usp=drive_fs)\n"
   ]
  }
 ],
 "metadata": {
  "colab": {
   "collapsed_sections": [],
   "name": "11.6_Домашнее_задание.ipynb",
   "provenance": []
  },
  "kernelspec": {
   "display_name": "Python 3 (ipykernel)",
   "language": "python",
   "name": "python3"
  },
  "language_info": {
   "codemirror_mode": {
    "name": "ipython",
    "version": 3
   },
   "file_extension": ".py",
   "mimetype": "text/x-python",
   "name": "python",
   "nbconvert_exporter": "python",
   "pygments_lexer": "ipython3",
   "version": "3.9.12"
  }
 },
 "nbformat": 4,
 "nbformat_minor": 5
}

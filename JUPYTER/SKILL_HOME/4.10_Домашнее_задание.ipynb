{
 "cells": [
  {
   "cell_type": "markdown",
   "id": "764ec3eb",
   "metadata": {},
   "source": [
    "# Чмир Михаил."
   ]
  },
  {
   "cell_type": "markdown",
   "id": "a46773f4",
   "metadata": {
    "id": "a46773f4"
   },
   "source": [
    "# Цель домашнего задания:\n",
    "## Повторить пройденный в модуле материал:\n",
    "* работа в Jupyter Notebook;\n",
    "* арифметические операции;\n",
    "* работа с функцией print()."
   ]
  },
  {
   "cell_type": "markdown",
   "id": "9523c736",
   "metadata": {
    "id": "9523c736"
   },
   "source": [
    "## Что нужно сделать:"
   ]
  },
  {
   "cell_type": "markdown",
   "id": "edc32e30",
   "metadata": {
    "id": "edc32e30"
   },
   "source": [
    "1. В вашем отделе работает пять человек, их возраст 23, 27, 33, 41 и 62 года. Создайте новую ячейку и напишите в ней выражение, которое рассчитало бы средний возраст сотрудника вашего отдела."
   ]
  },
  {
   "cell_type": "code",
   "execution_count": 1,
   "id": "6b1423e8",
   "metadata": {},
   "outputs": [
    {
     "name": "stdout",
     "output_type": "stream",
     "text": [
      "Средний возраст сотрудника отдела: 37.2 лет\n"
     ]
    }
   ],
   "source": [
    "print(\"Средний возраст сотрудника отдела:\", (23 + 27 + 33 + 41 + 62)/5, \"лет\")"
   ]
  },
  {
   "cell_type": "markdown",
   "id": "ba0254b5",
   "metadata": {
    "id": "ba0254b5"
   },
   "source": [
    "2. По наследству вам досталась советская кафельная плитка размером 15х15 см, 200 штук. Создайте новую ячейку и напишите в ней выражение, которое рассчитывало бы площадь этой плитки в квадратных метрах."
   ]
  },
  {
   "cell_type": "code",
   "execution_count": 3,
   "id": "84d8e41d",
   "metadata": {},
   "outputs": [
    {
     "name": "stdout",
     "output_type": "stream",
     "text": [
      "Площадь плитки 15х15 см. в кол-во 200 штук:\n",
      "Итого прямоугольник покрытия плиткой 20х10(150см х 300см)\n",
      "S = a * b; S =  4.5 кв.метров\n"
     ]
    }
   ],
   "source": [
    "print(\"Площадь плитки 15х15 см. в кол-во 200 штук:\")\n",
    "print(\"Итого прямоугольник покрытия плиткой 20х10(150см х 300см)\")\n",
    "print(\"S = a * b; S = \", (150 * 300)/10000, \"кв.метров\")"
   ]
  },
  {
   "cell_type": "markdown",
   "id": "56062770",
   "metadata": {
    "id": "56062770"
   },
   "source": [
    "3. Ваш друг решил заработать на День Святого Валентина. Он купил 5 упаковок роз по 100 штук в каждой и собрал их в букеты по 7 роз. Создайте новую ячейку и напишите выражение, которое рассчитывает, сколько целых букетов получится у вашего друга."
   ]
  },
  {
   "cell_type": "code",
   "execution_count": 6,
   "id": "0a3c2e62",
   "metadata": {},
   "outputs": [
    {
     "name": "stdout",
     "output_type": "stream",
     "text": [
      "Количество букетов по 7 роз: 71 , остаток 3 розы\n"
     ]
    }
   ],
   "source": [
    "print(\"Количество букетов по 7 роз:\", (100 * 5) // 7, \", остаток\", (100 * 5) - 7 * ((100 * 5) // 7), \"розы\")"
   ]
  },
  {
   "cell_type": "markdown",
   "id": "4671d6bb",
   "metadata": {
    "id": "4671d6bb"
   },
   "source": [
    "4. Сколько роз останется у вашего друга после того, как он соберет последний полный букет? В новой ячейке напишите выражение, которое рассчитывает это число."
   ]
  },
  {
   "cell_type": "code",
   "execution_count": 7,
   "id": "67d23801",
   "metadata": {},
   "outputs": [
    {
     "name": "stdout",
     "output_type": "stream",
     "text": [
      "остаток 3 розы\n"
     ]
    }
   ],
   "source": [
    "print(\"остаток\", (100 * 5) - 7 * ((100 * 5) // 7), \"розы\")"
   ]
  },
  {
   "cell_type": "markdown",
   "id": "cd1c1a60",
   "metadata": {
    "id": "cd1c1a60"
   },
   "source": [
    "5. Используя функцию print() в новой ячейке, напишите команду, которая выведет на экран ваше имя."
   ]
  },
  {
   "cell_type": "code",
   "execution_count": 8,
   "id": "1cdf1153",
   "metadata": {},
   "outputs": [
    {
     "name": "stdout",
     "output_type": "stream",
     "text": [
      "Моё имя - Михаил\n"
     ]
    }
   ],
   "source": [
    "print(\"Моё имя - Михаил\")"
   ]
  },
  {
   "cell_type": "markdown",
   "id": "3111cf4d",
   "metadata": {
    "id": "3111cf4d"
   },
   "source": [
    "6. Запустите ячейку ниже и посмотрите, что получилось. Добавьте разделитель (аргумент sep), чтобы на выходе получилось, как у Блока в оригинале:"
   ]
  },
  {
   "cell_type": "code",
   "execution_count": 10,
   "id": "43d34899",
   "metadata": {
    "id": "43d34899"
   },
   "outputs": [
    {
     "name": "stdout",
     "output_type": "stream",
     "text": [
      "Ночь, улица, фонарь, аптека\n"
     ]
    }
   ],
   "source": [
    "print('Ночь','улица','фонарь','аптека', sep = ', ')"
   ]
  },
  {
   "cell_type": "markdown",
   "id": "978eb37b",
   "metadata": {
    "id": "978eb37b"
   },
   "source": [
    "7. На бензозаправке вы поняли, что проехав 255 км, вы потратили 19 литров бензина. Дополните команду в следующей ячейке таким образом, чтобы к тексту она выводила ещё и значение расхода:"
   ]
  },
  {
   "cell_type": "code",
   "execution_count": 14,
   "id": "23105d1d",
   "metadata": {
    "id": "23105d1d"
   },
   "outputs": [
    {
     "name": "stdout",
     "output_type": "stream",
     "text": [
      "Расход бензина на 100 км - 7.45 литров\n"
     ]
    }
   ],
   "source": [
    "print('Расход бензина на 100 км -', round((19 / 255) * 100, 2), \"литров\")"
   ]
  }
 ],
 "metadata": {
  "colab": {
   "name": "Модуль 4. Домашнее задание (Женя Ракина).ipynb",
   "provenance": []
  },
  "kernelspec": {
   "display_name": "Python 3 (ipykernel)",
   "language": "python",
   "name": "python3"
  },
  "language_info": {
   "codemirror_mode": {
    "name": "ipython",
    "version": 3
   },
   "file_extension": ".py",
   "mimetype": "text/x-python",
   "name": "python",
   "nbconvert_exporter": "python",
   "pygments_lexer": "ipython3",
   "version": "3.9.12"
  }
 },
 "nbformat": 4,
 "nbformat_minor": 5
}

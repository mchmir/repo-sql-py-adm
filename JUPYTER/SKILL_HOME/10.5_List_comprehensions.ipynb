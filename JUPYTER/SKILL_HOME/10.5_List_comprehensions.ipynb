{
 "cells": [
  {
   "cell_type": "markdown",
   "id": "d2MTNvfWIJ-e",
   "metadata": {
    "id": "d2MTNvfWIJ-e"
   },
   "source": [
    "# List comprehensions и функция zip\n",
    "\n",
    "В этом уроке:\n",
    "- ещё немного поработаем со словарями\n",
    "- разберём различные методы инициализации словарей\n",
    "- научимся  работать с генераторами для множеств, словарей и списков.\n",
    "\n",
    "Рассмотрим простую задачу со словарями. Вам на вход приходит два списка: список товаров и список соответствующих данным товарам цен. \n"
   ]
  },
  {
   "cell_type": "code",
   "execution_count": null,
   "id": "65924fb9",
   "metadata": {
    "id": "65924fb9"
   },
   "outputs": [],
   "source": [
    "items = ['Кофта', 'Брюки', 'Кроссовки', 'Шляпа', 'Игрушка']\n",
    "prices = [1000, 2000, 1999, 3000, 500]"
   ]
  },
  {
   "cell_type": "markdown",
   "id": "U1coMf-KInYg",
   "metadata": {
    "id": "U1coMf-KInYg"
   },
   "source": [
    "Нужно написать программу, которая будет выдавать стоимость товара. Наименование товара пишется пользователем через стандартный ввод.\n",
    "\n",
    "На первый взгляд задача проста, но как нам собрать пары ключ-значение из двух списков одновременно? Можно сделать что-то подобное с помощью цикла `for`. Запустить цикл по всем индексам одного из списков и в словарь класть ключ из списка `items` по индексу `i` и значение из списка `prices` по индексу `i`.\n",
    "\n",
    "\n"
   ]
  },
  {
   "cell_type": "code",
   "execution_count": null,
   "id": "00b77001",
   "metadata": {
    "id": "00b77001"
   },
   "outputs": [],
   "source": [
    "item_prices = {}\n",
    "\n",
    "for i in range(len(items)):\n",
    "    item_prices[items[i]] = prices[i]"
   ]
  },
  {
   "cell_type": "code",
   "execution_count": null,
   "id": "501c09bd",
   "metadata": {
    "id": "501c09bd",
    "outputId": "63944c5b-05c4-416d-eb9b-f472db876806"
   },
   "outputs": [
    {
     "data": {
      "text/plain": [
       "{'Кофта': 1000,\n",
       " 'Брюки': 2000,\n",
       " 'Кроссовки': 1999,\n",
       " 'Шляпа': 3000,\n",
       " 'Игрушка': 500}"
      ]
     },
     "execution_count": 3,
     "metadata": {},
     "output_type": "execute_result"
    }
   ],
   "source": [
    "item_prices"
   ]
  },
  {
   "cell_type": "markdown",
   "id": "i8asLhJiJpNR",
   "metadata": {
    "id": "i8asLhJiJpNR"
   },
   "source": [
    "Вариант вполне рабочий, но можно и полегче, итерируясь сразу по двум спискам одновременно. Для этого есть специальная функция  `zip`, которая позволяет одновременно работать с несколькими списками (можно двумя, тремя и так далее).\n",
    "\n"
   ]
  },
  {
   "cell_type": "code",
   "execution_count": null,
   "id": "8896d534",
   "metadata": {
    "id": "8896d534"
   },
   "outputs": [],
   "source": [
    "item_prices = {}\n",
    "\n",
    "for item, price in zip(items, prices):\n",
    "    item_prices[item] = price"
   ]
  },
  {
   "cell_type": "code",
   "execution_count": null,
   "id": "c56c267e",
   "metadata": {
    "id": "c56c267e",
    "outputId": "2da36005-0558-4275-9f95-0f4579f4f2c4"
   },
   "outputs": [
    {
     "data": {
      "text/plain": [
       "{'Кофта': 1000,\n",
       " 'Брюки': 2000,\n",
       " 'Кроссовки': 1999,\n",
       " 'Шляпа': 3000,\n",
       " 'Игрушка': 500}"
      ]
     },
     "execution_count": 6,
     "metadata": {},
     "output_type": "execute_result"
    }
   ],
   "source": [
    "item_prices"
   ]
  },
  {
   "cell_type": "markdown",
   "id": "5cdAzklcJ9Y8",
   "metadata": {
    "id": "5cdAzklcJ9Y8"
   },
   "source": [
    "Есть вариант еще легче: просто положить в `dict` функцию `zip` над двумя списками: "
   ]
  },
  {
   "cell_type": "code",
   "execution_count": null,
   "id": "6ded21ad",
   "metadata": {
    "id": "6ded21ad",
    "outputId": "35669887-2aba-47de-b2ba-684d19eb5413"
   },
   "outputs": [
    {
     "data": {
      "text/plain": [
       "{'Кофта': 1000,\n",
       " 'Брюки': 2000,\n",
       " 'Кроссовки': 1999,\n",
       " 'Шляпа': 3000,\n",
       " 'Игрушка': 500}"
      ]
     },
     "execution_count": 7,
     "metadata": {},
     "output_type": "execute_result"
    }
   ],
   "source": [
    "item_prices = dict(zip(items, prices))\n",
    "item_prices"
   ]
  },
  {
   "cell_type": "markdown",
   "id": "O04zteXHKSWc",
   "metadata": {
    "id": "O04zteXHKSWc"
   },
   "source": [
    "Почему это работает? Потому что `zip` на выходе выдаёт список кортежей, что по факту является списком пар ключ-значение. Попробуем увидеть результат функции `zip` в отдельной ячейке. "
   ]
  },
  {
   "cell_type": "code",
   "execution_count": null,
   "id": "aacfa5ee",
   "metadata": {
    "id": "aacfa5ee",
    "outputId": "cc9e150a-1627-49ba-f45f-cffb1781118c"
   },
   "outputs": [
    {
     "data": {
      "text/plain": [
       "<zip at 0x7fe8d46ad9c0>"
      ]
     },
     "execution_count": 8,
     "metadata": {},
     "output_type": "execute_result"
    }
   ],
   "source": [
    "zip(items, prices)"
   ]
  },
  {
   "cell_type": "markdown",
   "id": "goD7cxiqKZFU",
   "metadata": {
    "id": "goD7cxiqKZFU"
   },
   "source": [
    "Получили объект типа `zip`. Обернём его в `list` и посмотрим результат на списке:\n",
    "\n",
    "\n",
    "\n"
   ]
  },
  {
   "cell_type": "code",
   "execution_count": null,
   "id": "cd96f8e4",
   "metadata": {
    "id": "cd96f8e4",
    "outputId": "47d602bb-3d67-42ef-c431-3650aa62f46e"
   },
   "outputs": [
    {
     "data": {
      "text/plain": [
       "[('Кофта', 1000),\n",
       " ('Брюки', 2000),\n",
       " ('Кроссовки', 1999),\n",
       " ('Шляпа', 3000),\n",
       " ('Игрушка', 500)]"
      ]
     },
     "execution_count": 9,
     "metadata": {},
     "output_type": "execute_result"
    }
   ],
   "source": [
    "list(zip(items, prices))"
   ]
  },
  {
   "cell_type": "markdown",
   "id": "Gjq6otWgKnWF",
   "metadata": {
    "id": "Gjq6otWgKnWF"
   },
   "source": [
    "Теперь осталось считать строку с товаром с экрана и проверить, есть ли данный ключ в словаре. Если есть — выводить стоимость, если нет — будем выводить, что товара нет: \n",
    "\n"
   ]
  },
  {
   "cell_type": "code",
   "execution_count": null,
   "id": "46675242",
   "metadata": {
    "id": "46675242",
    "outputId": "efad2372-743d-4752-a5c7-37ad1f216fda"
   },
   "outputs": [
    {
     "name": "stdout",
     "output_type": "stream",
     "text": [
      "Шляпа\n",
      "3000\n"
     ]
    }
   ],
   "source": [
    "item_prices = dict( zip(items, prices))\n",
    "\n",
    "input_item = input()\n",
    "\n",
    "if input_item in item_prices.keys():\n",
    "    result = item_prices[input_item]\n",
    "else:\n",
    "    result = 'Товара нет'\n",
    "\n",
    "print(result)"
   ]
  },
  {
   "cell_type": "markdown",
   "id": "O7GwseeUK33Y",
   "metadata": {
    "id": "O7GwseeUK33Y"
   },
   "source": [
    "4 строчки условия можно заменить одной строчкой кода, применив метод `.get()`: он вытаскивает значения по ключу, а если такого ключа нет — выводится сообщение, указанное вторым аргументом.\n",
    "\n",
    "\n"
   ]
  },
  {
   "cell_type": "code",
   "execution_count": null,
   "id": "a6f8acf5",
   "metadata": {
    "id": "a6f8acf5",
    "outputId": "8591dda3-2ad1-4742-ce98-234802e9208f"
   },
   "outputs": [
    {
     "name": "stdout",
     "output_type": "stream",
     "text": [
      "123\n",
      "Товара нет\n"
     ]
    }
   ],
   "source": [
    "item_prices = dict( zip(items, prices))\n",
    "\n",
    "input_item = input()\n",
    "result = item_prices.get(input_item, 'Товара нет')\n",
    "\n",
    "print(result)"
   ]
  },
  {
   "cell_type": "markdown",
   "id": "SRMEgSBeLGip",
   "metadata": {
    "id": "SRMEgSBeLGip"
   },
   "source": [
    "Отлично, наше решение уместилось в 4 строчки кода! Но случилось невероятное: пользователи всегда получали сообщение, что товара нет. Оказалось, что данные в `input_item` всегда приходят в нижнем регистре. И когда программа пытается найти в словаре слово в нижнем регистре, она его не находит, потому что все наши ключи записаны с большой буквы. Нужно привести все айтемы к нижнему регистру.\n",
    "\n",
    "Как это можно сделать? Можно переписать весь список `items` в нижний регистр:\n",
    "\n"
   ]
  },
  {
   "cell_type": "code",
   "execution_count": null,
   "id": "ff61e761",
   "metadata": {
    "id": "ff61e761",
    "outputId": "bf6ec5ba-44f9-47d4-d07c-c77c2fba3a74"
   },
   "outputs": [
    {
     "name": "stdout",
     "output_type": "stream",
     "text": [
      "['кофта', 'брюки', 'кроссовки', 'шляпа', 'игрушка']\n"
     ]
    }
   ],
   "source": [
    "result_item = []\n",
    "for item in items:\n",
    "    result_item.append(item.lower())\n",
    "    \n",
    "print(result_item)"
   ]
  },
  {
   "cell_type": "markdown",
   "id": "zwg5EuC_LhEo",
   "metadata": {
    "id": "zwg5EuC_LhEo"
   },
   "source": [
    "Но можно сделать по-другому: с помощью генератора или list comprehension:\n",
    "\n"
   ]
  },
  {
   "cell_type": "code",
   "execution_count": null,
   "id": "60c42f3c",
   "metadata": {
    "id": "60c42f3c",
    "outputId": "eae283cb-0ddc-4ce7-c1dc-b9f3442c33a3"
   },
   "outputs": [
    {
     "data": {
      "text/plain": [
       "['кофта', 'брюки', 'кроссовки', 'шляпа', 'игрушка']"
      ]
     },
     "execution_count": 13,
     "metadata": {},
     "output_type": "execute_result"
    }
   ],
   "source": [
    "items = [item.lower() for item in items]\n",
    "items"
   ]
  },
  {
   "cell_type": "markdown",
   "id": "uEmwmTnmLtBu",
   "metadata": {
    "id": "uEmwmTnmLtBu"
   },
   "source": [
    "Мы записали всё тот же цикл `for`, который был до этого, но в одну строчку. Это и называется *генератор списка*. \n",
    "\n",
    "Синтаксис генератора: \n",
    "- В результате генерации у нас снова должен получиться список, поэтому ставим квадратные скобки [ ]\n",
    "- Пишем конструкцию цикла `for`: `for item in items`\n",
    "- Что нужно сделать с каждым айтемом? Привести в нижний регистр. Перед циклом пишем то, какое действие нужно произвести с каждым элементом списка\n",
    "\n",
    "![list compr](https://drive.google.com/uc?id=1caaacvfnU7h6irmQnR1LYiGds8zi9ut2)\n",
    "\n",
    "Писать с помощью генераторов не только удобнее и более легко читаемо, но и быстрее по времени выполнения кода. Сравним время выполнения в двух ячейках на исходном маленьком списке из 5 элементов. "
   ]
  },
  {
   "cell_type": "code",
   "execution_count": null,
   "id": "00f76cb6",
   "metadata": {
    "id": "00f76cb6"
   },
   "outputs": [],
   "source": [
    "items = ['Кофта', 'Брюки', 'Кроссовки', 'Шляпа', 'Игрушка']"
   ]
  },
  {
   "cell_type": "code",
   "execution_count": null,
   "id": "1a084fc3",
   "metadata": {
    "id": "1a084fc3",
    "outputId": "433bb77a-5b7a-4c2e-989c-2ede2779b8f3"
   },
   "outputs": [
    {
     "name": "stdout",
     "output_type": "stream",
     "text": [
      "831 ns ± 14.2 ns per loop (mean ± std. dev. of 7 runs, 1000000 loops each)\n"
     ]
    }
   ],
   "source": [
    "%%timeit\n",
    "\n",
    "result_item = []\n",
    "for item in items:\n",
    "    result_item.append(item.lower())"
   ]
  },
  {
   "cell_type": "code",
   "execution_count": null,
   "id": "1d82275c",
   "metadata": {
    "id": "1d82275c",
    "outputId": "e8f2ce06-d981-4e10-f147-667f91a44768"
   },
   "outputs": [
    {
     "name": "stdout",
     "output_type": "stream",
     "text": [
      "803 ns ± 5.81 ns per loop (mean ± std. dev. of 7 runs, 1000000 loops each)\n"
     ]
    }
   ],
   "source": [
    "%%timeit\n",
    "\n",
    "result_item = []\n",
    "result_item = [item.lower() for item in items]"
   ]
  },
  {
   "cell_type": "markdown",
   "id": "TSaCjkMqNlVE",
   "metadata": {
    "id": "TSaCjkMqNlVE"
   },
   "source": [
    "Генератор оказался быстрее.\n",
    "\n",
    "А теперь попробуем размножить данные в 5 тысяч раз: "
   ]
  },
  {
   "cell_type": "code",
   "execution_count": null,
   "id": "fabd6faf",
   "metadata": {
    "id": "fabd6faf",
    "outputId": "33b76ef5-e8f5-40da-ea8d-c4b4261b7ea3"
   },
   "outputs": [
    {
     "name": "stdout",
     "output_type": "stream",
     "text": [
      "3.83 ms ± 21.5 µs per loop (mean ± std. dev. of 7 runs, 100 loops each)\n"
     ]
    }
   ],
   "source": [
    "%%timeit\n",
    "\n",
    "result_item = []\n",
    "for item in items*5000:\n",
    "    result_item.append(item.lower())"
   ]
  },
  {
   "cell_type": "code",
   "execution_count": null,
   "id": "82558182",
   "metadata": {
    "id": "82558182",
    "outputId": "60fb2f6e-3fd6-4bd2-94f5-85bff6525d50"
   },
   "outputs": [
    {
     "name": "stdout",
     "output_type": "stream",
     "text": [
      "3.33 ms ± 96.6 µs per loop (mean ± std. dev. of 7 runs, 100 loops each)\n"
     ]
    }
   ],
   "source": [
    "%%timeit\n",
    "\n",
    "result_item = []\n",
    "result_item = [item.lower() for item in items*5000]"
   ]
  },
  {
   "cell_type": "markdown",
   "id": "khfDzrvoNumV",
   "metadata": {
    "id": "khfDzrvoNumV"
   },
   "source": [
    "Тут уже видим явное преимущество генератора.\n",
    "\n",
    "Сгенерируем список из квадратов чисел от 1 до 10: \n",
    "\n",
    "\n",
    "\n"
   ]
  },
  {
   "cell_type": "code",
   "execution_count": null,
   "id": "c4e9217c",
   "metadata": {
    "id": "c4e9217c",
    "outputId": "6f773a93-3ded-459c-bcda-5b720c628d81"
   },
   "outputs": [
    {
     "data": {
      "text/plain": [
       "[1, 4, 9, 16, 25, 36, 49, 64, 81, 100]"
      ]
     },
     "execution_count": 19,
     "metadata": {},
     "output_type": "execute_result"
    }
   ],
   "source": [
    "numbers = [x**2 for x in range(1,11)]\n",
    "numbers"
   ]
  },
  {
   "cell_type": "markdown",
   "id": "a7fspvGsOBYU",
   "metadata": {
    "id": "a7fspvGsOBYU"
   },
   "source": [
    "Можно писать генераторы и посложнее. Например, нам нужно выводить только чётные числа. Значит, нужно дописать условие генератору. Если условие без `else`, то оно пишется после `for`:\n",
    "\n"
   ]
  },
  {
   "cell_type": "code",
   "execution_count": null,
   "id": "500cbeeb",
   "metadata": {
    "id": "500cbeeb",
    "outputId": "6ed23e34-c2e2-44a7-80f0-9327a2368b82"
   },
   "outputs": [
    {
     "data": {
      "text/plain": [
       "[4, 16, 36, 64, 100]"
      ]
     },
     "execution_count": 21,
     "metadata": {},
     "output_type": "execute_result"
    }
   ],
   "source": [
    "numbers = [x**2 for x in range(1,11) if x%2==0]\n",
    "numbers"
   ]
  },
  {
   "cell_type": "markdown",
   "id": "4I62Nyb7OOlk",
   "metadata": {
    "id": "4I62Nyb7OOlk"
   },
   "source": [
    "Итак, если в генератор нужно добавить условие `if` без `else`, порядок действий будет следующим: сначала то, что нужно сделать, потом перебор с помощью `for`, потом условие.\n",
    "\n",
    "![list compr if](https://drive.google.com/uc?id=11JqoIz6ahDA7ndfzXJWvj_aCfBh_MR8Y)\n",
    "\n",
    "Третий тип генератора — с `if-else`. Переберём все числа от 1 до 20. Если встречается чётное число — будем выводить его, а если нечётное — будем выводить его квадрат. Теперь условие пишется до `for`. Будем выводить x, если остаток от деления на 2 равен 0, в противном случае — будем выводить квадрат:\n",
    "\n"
   ]
  },
  {
   "cell_type": "code",
   "execution_count": null,
   "id": "a0fa167a",
   "metadata": {
    "id": "a0fa167a",
    "outputId": "7df25adb-f3b3-421e-fc4a-5bf6ee15e273"
   },
   "outputs": [
    {
     "data": {
      "text/plain": [
       "[1, 2, 9, 4, 25, 6, 49, 8, 81, 10, 121, 12, 169, 14, 225, 16, 289, 18, 361, 20]"
      ]
     },
     "execution_count": 22,
     "metadata": {},
     "output_type": "execute_result"
    }
   ],
   "source": [
    "numbers = [x if x%2==0 else x**2 for x in range(1,21)]\n",
    "numbers"
   ]
  },
  {
   "cell_type": "markdown",
   "id": "DSp20dgiPD2V",
   "metadata": {
    "id": "DSp20dgiPD2V"
   },
   "source": [
    "Если в генераторе нужно добавить условие `if-else`, порядок следующий:\n",
    "- то, что нужно возвращать при выполнении условия в `if`\n",
    "- условие `if`\n",
    "- `else` \n",
    "- что нужно выводить, если условие в `if` не выполнилось\n",
    "- перебор элементов в `for`.\n",
    "\n",
    "![list compr if else](https://drive.google.com/uc?id=11i2rrn07unRycd_gbBwBprhz41C8mkDM)\n",
    "\n",
    "Аналогичные операции можно проводить и с множествами. Сгенерируем множество из строк от одного до 10:\n",
    "- Объявим переменную string_set\n",
    "- Раз это множество, ставим фигурные скобки, а не квадратные. \n",
    "- Какое будет условие перебора в `for`? Все элементы от 1 до 11. \n",
    "- Что нужно делать? Нужно преобразовывать в строку каждый элемент.\n",
    "\n",
    "\n"
   ]
  },
  {
   "cell_type": "code",
   "execution_count": null,
   "id": "c1f4a515",
   "metadata": {
    "id": "c1f4a515",
    "outputId": "ac4d93b0-6e80-46e1-a442-e71e3d18c06e"
   },
   "outputs": [
    {
     "data": {
      "text/plain": [
       "{'1', '10', '2', '3', '4', '5', '6', '7', '8', '9'}"
      ]
     },
     "execution_count": 23,
     "metadata": {},
     "output_type": "execute_result"
    }
   ],
   "source": [
    "string_set = {str(x) for x in range(1,11)}\n",
    "string_set"
   ]
  },
  {
   "cell_type": "markdown",
   "id": "CVRmb1YkP3pB",
   "metadata": {
    "id": "CVRmb1YkP3pB"
   },
   "source": [
    "Генератор также работает и для словарей. Попробуем сгенерировать словарь, где будет пять пар, с ключами от одного до пяти. Для каждого ключа значением будет ключ, умноженный на пять.\n",
    "- Поскольку это словарь, ставим фигурные скобки. \n",
    "- Перебор будет от одного до 6. \n",
    "- Что нужно делать? Нужно создавать пару ключ-значение: на первом месте значение из перебора — x, через двоеточие — x * 5.\n",
    "\n",
    "\n"
   ]
  },
  {
   "cell_type": "code",
   "execution_count": null,
   "id": "f344c379",
   "metadata": {
    "id": "f344c379",
    "outputId": "abd71aa9-1f18-4483-9324-8fd947ce2a3f"
   },
   "outputs": [
    {
     "data": {
      "text/plain": [
       "{1: 5, 2: 10, 3: 15, 4: 20, 5: 25}"
      ]
     },
     "execution_count": 27,
     "metadata": {},
     "output_type": "execute_result"
    }
   ],
   "source": [
    "test_dict = {x: x*5 for x in range(1,6)}\n",
    "test_dict"
   ]
  },
  {
   "cell_type": "code",
   "execution_count": null,
   "id": "8f57173b",
   "metadata": {
    "id": "8f57173b",
    "outputId": "28e60d08-2c98-4daf-99f8-7b70f69ccce6"
   },
   "outputs": [
    {
     "data": {
      "text/plain": [
       "dict"
      ]
     },
     "execution_count": 28,
     "metadata": {},
     "output_type": "execute_result"
    }
   ],
   "source": [
    "type(test_dict)"
   ]
  },
  {
   "cell_type": "markdown",
   "id": "i6_dK6PuQRmJ",
   "metadata": {
    "id": "i6_dK6PuQRmJ"
   },
   "source": [
    "В генераторе можно манипулировать сразу несколькими списками с помощью `zip()`. В самом начале занятия мы объявляли словарь из двух списков. \n",
    "\n"
   ]
  },
  {
   "cell_type": "code",
   "execution_count": null,
   "id": "46e831d4",
   "metadata": {
    "id": "46e831d4",
    "outputId": "d4983935-63a4-4852-fc31-895aa9ee0bd6"
   },
   "outputs": [
    {
     "data": {
      "text/plain": [
       "{'Кофта': 1000,\n",
       " 'Брюки': 2000,\n",
       " 'Кроссовки': 1999,\n",
       " 'Шляпа': 3000,\n",
       " 'Игрушка': 500}"
      ]
     },
     "execution_count": 29,
     "metadata": {},
     "output_type": "execute_result"
    }
   ],
   "source": [
    "dict(zip(items, prices))"
   ]
  },
  {
   "cell_type": "markdown",
   "id": "V1Mye_WrQpij",
   "metadata": {
    "id": "V1Mye_WrQpij"
   },
   "source": [
    "Это можно было сделать и с помощью генератора: перебираем все элементы из `zip()` и формируем из них пары ключ-значение:\n",
    " "
   ]
  },
  {
   "cell_type": "code",
   "execution_count": null,
   "id": "ffde3b9a",
   "metadata": {
    "id": "ffde3b9a",
    "outputId": "7a906a55-3619-469d-9afb-f6e17bbc9962"
   },
   "outputs": [
    {
     "data": {
      "text/plain": [
       "{'Кофта': 1000,\n",
       " 'Брюки': 2000,\n",
       " 'Кроссовки': 1999,\n",
       " 'Шляпа': 3000,\n",
       " 'Игрушка': 500}"
      ]
     },
     "execution_count": 30,
     "metadata": {},
     "output_type": "execute_result"
    }
   ],
   "source": [
    "test_dict = {item: price for item, price in zip(items, prices)}\n",
    "test_dict"
   ]
  },
  {
   "cell_type": "markdown",
   "id": "szPxaSnoQnIc",
   "metadata": {
    "id": "szPxaSnoQnIc"
   },
   "source": [
    "Генераторы — это своего рода синтаксический сахар Python, но очень удобный, хорошо экономит место и сокращает расходы по памяти и времени выполнения программы.\n",
    "\n",
    "## Итоги урока\n",
    "\n",
    "В этом уроке мы:\n",
    "- узнали ещё больше о словарях,\n",
    "- научились итерироваться по двум спискам одновременно с помощью `zip()`\n",
    "- узнали про list, dict, set comprehensions. \n",
    "\n",
    "Вспомним классификацию структур данных, о которой мы говорили в самом начале.\n",
    "\n",
    "![collections](https://drive.google.com/uc?id=1iwdOREH4ZAXc5vvnVv3lwm_-f_XiBTRD)\n",
    "\n",
    "Коллекции в Python бывают упорядоченные — те, у которых элементы расположены по порядку, у них есть индексы. Такие коллекции называются ***последовательностями (sequence)***. \n",
    "\n",
    "Самая гибкая структура данных из последовательностей — ***списки (list)***. Их удобно использовать, когда вам нужно записывать элементы по ходу программы, а после — иметь возможность их удалять и менять. \n",
    "\n",
    "Если вы хотите защитить данные от изменения, но также хотите иметь возможность обращаться к ним по индексу, вам подойдут ***кортежи (tuple)***. Записав элементы в кортеж при инициализации, вы не сможете их удалить или изменить в будущем. \n",
    "\n",
    "Есть также неупорядоченные коллекции, к элементам которых нельзя обратиться по индексу, но по ним можно итерироваться с помощью циклов. \n",
    "\n",
    "***Множества (set)*** — неупорядоченные коллекции. Все элементы в множестве уникальны, и элементы в него можно добавлять по ходу программы. Множества удобно использовать для хранения чего-то уникального: например, списков категорий, городов. \n",
    "\n",
    "К неупорядоченным коллекциям также относятся ***словари (dict)***. В словарях хранятся пары ключ-значение. Они позволяют хранить значения как по численным индексам, так и по строковым или, например, индексам-кортежам. В словарях удобно хранить соответствия. Например, количество заказов по региону, где ключом будет регион, а значением — количество заказов.\n",
    "\n"
   ]
  },
  {
   "cell_type": "code",
   "execution_count": null,
   "id": "ee2145de",
   "metadata": {
    "id": "ee2145de"
   },
   "outputs": [],
   "source": []
  }
 ],
 "metadata": {
  "colab": {
   "collapsed_sections": [],
   "name": "10.5_List_comprehensions_и_функция_zip.ipynb",
   "provenance": []
  },
  "kernelspec": {
   "display_name": "Python 3 (ipykernel)",
   "language": "python",
   "name": "python3"
  },
  "language_info": {
   "codemirror_mode": {
    "name": "ipython",
    "version": 3
   },
   "file_extension": ".py",
   "mimetype": "text/x-python",
   "name": "python",
   "nbconvert_exporter": "python",
   "pygments_lexer": "ipython3",
   "version": "3.9.12"
  }
 },
 "nbformat": 4,
 "nbformat_minor": 5
}

{
 "cells": [
  {
   "cell_type": "markdown",
   "metadata": {},
   "source": [
    "# Bokeh: quick (and partial) summary\n",
    "Giuseppe Jurman\n",
    "\n",
    "April, 29th 2019\n",
    "\n",
    "(partially abridged from [Data Visualisation with Bokeh](https://github.com/ernestoarbitrio/bokeh-data-visualisation))"
   ]
  },
  {
   "cell_type": "markdown",
   "metadata": {},
   "source": [
    "**Bokeh** is a `Python` interactive visualization library that targets modern web browsers for presentation. Bokeh provides elegant, concise construction of novel graphics with high-performance interactivity over very large or streaming datasets in a quick and easy way.\n",
    "\n",
    "To offer both simplicity and the powerful and flexible features needed for advanced customizations, Bokeh exposes two interface levels to users:\n",
    "\n",
    "- a low-level bokeh.models interface that provides the most flexibility to application developers.\n",
    "- an higher-level bokeh.plotting interface centered around composing visual glyphs.\n",
    "\n",
    "This Introduction focuses on the bokeh.plotting interface."
   ]
  },
  {
   "cell_type": "markdown",
   "metadata": {},
   "source": [
    "## Defining key concepts\n",
    "\n",
    "### Glossary\n",
    "\n",
    "In order to make the best use of this User Guide, it is important to have context for some high level concepts and terms. Here is a small glossary of some of the most important concepts in Bokeh.\n",
    "\n",
    "**Application**\n",
    "\n",
    "A Bokeh application is a rendered Bokeh document, running in a browser.\n",
    "\n",
    "**BokehJS**\n",
    "\n",
    "The JavaScript client library that actually renders the visuals and handles the UI interactions for Bokeh plots and widgets in the browser. Typically, users will not have to think about this aspect of Bokeh much (“We write the JavaScript, so you don’t have to!”) but it is good to have basic knowledge of this dichotomy. For full details, see the BokehJS chapter of the Developer Guide.\n",
    "\n",
    "**Documents**\n",
    "\n",
    "An organizing data structure for Bokeh applications. Documents contain all the Bokeh Models and data needed to render an interactive visualization or application in the browser.\n",
    "\n",
    "**Embedding**\n",
    "\n",
    "Various methods of including Bokeh plots and widgets into web apps and pages, or the IPython notebook. See Embedding Plots and Apps for more details.\n",
    "\n",
    "**Glyphs**\n",
    "\n",
    "The basic visual building blocks of Bokeh plots, e.g. lines, rectangles, squares, wedges, patches, etc. The bokeh.plotting interface provides a convenient way to create plots centered around glyphs. See Plotting with Basic Glyphs for more information.\n",
    "\n",
    "**Models**\n",
    "\n",
    "The lowest-level objects that comprise Bokeh “scenegraphs”. These live in the bokeh.models interface. Most users will not use this level of interface to assemble plots directly. However, ultimately all Bokeh plots consist of collections of models, so it is important to understand them enough to configure their attributes and properties. See Styling Visual Attributes for more information.\n",
    "\n",
    "**Server**\n",
    "\n",
    "The Bokeh server is an optional component that can be used for sharing and publishing Bokeh plots and apps, for handling streaming of large data sets, or for enabling sophisticated user interactions based off of widgets and selections. See Running a Bokeh Server for more explanation.\n",
    "\n",
    "**Widgets**\n",
    "\n",
    "User interface elements outside of a Bokeh plot such as sliders, drop down menus, buttons, etc. Events and updates from widgets can inform additional computations, or cause Bokeh plots to update. Widgets can be used in both standalone applications or with the Bokeh server. For examples and information, see Adding Interactions."
   ]
  },
  {
   "cell_type": "markdown",
   "metadata": {},
   "source": [
    "### Getting Started\n",
    "\n",
    "Let’s begin with some examples.\n",
    "\n",
    "Anyway Bokeh is composed by a lot of capabilities and functions. In this tutorial we will see a little part of the library, so for more detailed information please consult the full [User Guide](http://bokeh.pydata.org/en/latest/docs/user_guide.html#userguide).\n",
    "\n",
    "Plotting data in basic Python lists as a line plot including zoom, pan, save, and other tools is simple and straightforward:"
   ]
  },
  {
   "cell_type": "code",
   "execution_count": null,
   "metadata": {},
   "outputs": [],
   "source": [
    "import bokeh"
   ]
  },
  {
   "cell_type": "code",
   "execution_count": null,
   "metadata": {},
   "outputs": [],
   "source": [
    "bokeh.__version__"
   ]
  },
  {
   "cell_type": "code",
   "execution_count": null,
   "metadata": {},
   "outputs": [],
   "source": [
    "from bokeh.plotting import figure, output_notebook, show\n",
    "output_notebook()"
   ]
  },
  {
   "cell_type": "code",
   "execution_count": null,
   "metadata": {},
   "outputs": [],
   "source": [
    "p = figure(plot_width=400, plot_height=400)\n",
    "\n",
    "# add a circle renderer with a size, color, and alpha\n",
    "p.circle([1, 2, 3, 4, 5], [6, 7, 2, 4, 5], size=20, color=\"navy\", alpha=0.5)\n",
    "\n",
    "# show the results\n",
    "show(p)"
   ]
  },
  {
   "cell_type": "markdown",
   "metadata": {},
   "source": [
    "### Multiple lines"
   ]
  },
  {
   "cell_type": "code",
   "execution_count": null,
   "metadata": {},
   "outputs": [],
   "source": [
    "p = figure(plot_width=400, plot_height=400)\n",
    "p.multi_line([[1, 3, 2], [3, 4, 6, 6]], [[2, 1, 4], [4, 7, 8, 5]],\n",
    "             color=[\"firebrick\", \"navy\"], alpha=[0.8, 0.3], line_width=4)\n",
    "show(p)"
   ]
  },
  {
   "cell_type": "markdown",
   "metadata": {},
   "source": [
    "### Plotting bars"
   ]
  },
  {
   "cell_type": "code",
   "execution_count": null,
   "metadata": {},
   "outputs": [],
   "source": [
    "p = figure(plot_width=400, plot_height=400)\n",
    "p.vbar(x=[1, 2, 3], width=0.5, bottom=0,\n",
    "       top=[1.2, 2.5, 3.7], color=\"red\")\n",
    "show(p)"
   ]
  },
  {
   "cell_type": "code",
   "execution_count": null,
   "metadata": {},
   "outputs": [],
   "source": [
    "p = figure(plot_width=400, plot_height=400)\n",
    "p.hbar(y=[1, 2, 3], height=0.5, left=0,\n",
    "       right=[1.2, 2.5, 3.7], color=\"navy\")\n",
    "show(p)"
   ]
  },
  {
   "cell_type": "markdown",
   "metadata": {},
   "source": [
    "### Plotting line"
   ]
  },
  {
   "cell_type": "code",
   "execution_count": null,
   "metadata": {},
   "outputs": [],
   "source": [
    "# prepare some demo data\n",
    "x = [1, 2, 3, 4, 5, 6, 7]\n",
    "y = [6, 7, 2, 4, 5, 10, 4]\n",
    "\n",
    "# create a new plot with a title and axis labels\n",
    "p = figure(title=\"line example\", x_axis_label='x', y_axis_label='y', width=500, height=400)\n",
    "\n",
    "# add a line renderer with legend and line thickness\n",
    "p.line(x, y, legend=\"Temp.\", line_width=2)\n",
    "\n",
    "# show the results\n",
    "show(p)"
   ]
  },
  {
   "cell_type": "markdown",
   "metadata": {},
   "source": [
    "### Twin Axes"
   ]
  },
  {
   "cell_type": "code",
   "execution_count": null,
   "metadata": {},
   "outputs": [],
   "source": [
    "from numpy import pi, arange, sin, linspace\n",
    "from bokeh.models import LinearAxis, Range1d\n",
    "\n",
    "x = arange(-2*pi, 2*pi, 0.1)\n",
    "y = sin(x)\n",
    "y2 = linspace(0, 100, len(y))\n",
    "\n",
    "p = figure(x_range=(-6.5, 6.5), y_range=(-1.1, 1.1))\n",
    "\n",
    "p.circle(x, y, color=\"red\")\n",
    "\n",
    "p.extra_y_ranges = {\"foo\": Range1d(start=0, end=100)}\n",
    "p.circle(x, y2, color=\"blue\", y_range_name=\"foo\")\n",
    "p.add_layout(LinearAxis(y_range_name=\"foo\"), 'left')\n",
    "\n",
    "show(p)"
   ]
  },
  {
   "cell_type": "markdown",
   "metadata": {},
   "source": [
    "The basic steps to creating plots with the [bokeh.plotting](http://bokeh.pydata.org/en/latest/docs/reference/plotting.html#bokeh-plotting) interface are:\n",
    "\n",
    " - Prepare some data (in this case plain python lists).\n",
    " - Tell Bokeh where to generate output (in this case using `output_notebook()`).\n",
    " - Call `figure()` to create a plot with some overall options like title, tools and axes labels.\n",
    " - Add renderers (in this case, `Figure.line`) for our data, with visual customizations like colors, legends and widths  to the plot.\n",
    " - Ask Bokeh to `show()` or `save()` the results.\n",
    "\n",
    "Steps three and four can be repeated to create more than one plot, as shown in some of the examples below.\n",
    "\n",
    "The [bokeh.plotting](http://bokeh.pydata.org/en/latest/docs/reference/plotting.html#bokeh-plotting) interface is also quite handy if we need to customize the output a bit more by adding more data series, glyphs, logarithmic axis, and so on. It’s also possible to easily combine multiple glyphs together on one plot as shown below:"
   ]
  },
  {
   "cell_type": "code",
   "execution_count": null,
   "metadata": {},
   "outputs": [],
   "source": [
    "# prepare some data\n",
    "x = [0.1, 0.5, 1.0, 1.5, 2.0, 2.5, 3.0]\n",
    "y0 = [i**2 for i in x]\n",
    "y1 = [10**i for i in x]\n",
    "y2 = [10**(i**2) for i in x]\n",
    "\n",
    "# create a new plot\n",
    "p = figure(\n",
    "    tools=\"pan,box_zoom,reset,save\",\n",
    "    y_axis_type=\"log\", title=\"log axis example\",\n",
    "    x_axis_label='sections', y_axis_label='particles',\n",
    "    width=700, height=350)\n",
    "\n",
    "\n",
    "# add some renderers\n",
    "p.line(x, x, legend_label=\"y=x\")\n",
    "p.circle(x, x, legend_label=\"y=x\", fill_color=\"white\", size=8)\n",
    "\n",
    "p.line(x, y0, legend_label=\"y=x^2\", line_width=3)\n",
    "\n",
    "p.line(x, y1, legend_label=\"y=10^x\", line_color=\"red\")\n",
    "p.circle(x, y1, legend_label=\"y=10^x\", fill_color=\"red\", line_color=\"red\", size=6)\n",
    "\n",
    "p.line(x, y2, legend_label=\"y=10^x^2\", line_color=\"orange\", line_dash=\"4 4\")\n",
    "\n",
    "# show the results\n",
    "show(p)"
   ]
  },
  {
   "cell_type": "markdown",
   "metadata": {},
   "source": [
    "From the 0.12.9 it's possible to define the click policy on the legend. So for example if you want to hide the series you click on the legend:"
   ]
  },
  {
   "cell_type": "code",
   "execution_count": null,
   "metadata": {},
   "outputs": [],
   "source": [
    "p.legend.location = \"top_left\"\n",
    "p.legend.click_policy=\"hide\" # >mute< is the other option"
   ]
  },
  {
   "cell_type": "code",
   "execution_count": null,
   "metadata": {},
   "outputs": [],
   "source": [
    "show(p)"
   ]
  },
  {
   "cell_type": "markdown",
   "metadata": {},
   "source": [
    "## Sample Data\n",
    "Some of the examples included in the Bokeh source make use of sample data files that are distributed separately. To download this data, execute the following commands at a Bash or Windows command prompt:\n",
    "\n",
    "```bash\n",
    "bokeh sampledata\n",
    "```"
   ]
  },
  {
   "cell_type": "markdown",
   "metadata": {},
   "source": [
    "## Concepts\n",
    "\n",
    "Let’s consider the plots above, and use them to help define some core concepts.\n",
    "\n",
    "### Plot\n",
    "\n",
    "Plots are a central concept in Bokeh. They are containers that hold all the various objects (renderers, guides, data, and tools) that comprise the final visualization that is presented to users. The bokeh.plotting interface provides a Figure class to help with assembling all the necessary objects, and a convenience function figure() for creating Figure objects.\n",
    "\n",
    "### Glyphs\n",
    "\n",
    "Glyphs are the basic visual marks that Bokeh can display. At the lowest level, there are glyph objects, such as Line. If you are using the low-level bokeh.models interface, it is your responsibility to create and coordinate all the various Bokeh objects, including glyph objects and their data sources. To make life easier, the bokeh.plotting interface exposes higher level glyph methods such as the Figure.line method used in the first example. The second example also adds in calls to Figure.circle to display circle and line glyphs together on the same plot. Besides lines and circles, Bokeh makes many additional glyphs and markers available.\n",
    "\n",
    "The visual appearance of a glyph is tied directly to the data values that are associated with the glyph’s various attributes. In the example above we see that positional attributes like x and y can be set to vectors of data. But glyphs also have some combination of Line Properties, Fill Properties, and Text Properties to control their appearance. All of these attributes can be set with “vectorized” values as well. We will show examples of this below.\n",
    "\n",
    "### Guides and Annotations\n",
    "\n",
    "Bokeh plots can also have other visual components that aid presentation or help the user make comparisons. These fall into two categories. Guides are visual aids that help users judge distances, angles, etc. These include grid lines or bands, axes (such as linear, log, or datetime) that may have ticks and tick labels as well. Annotations are visual aids that label or name parts of the plot. These include titles, legends, etc.\n",
    "\n",
    "### Ranges\n",
    "\n",
    "Ranges describe the data-space bounds of a plot. By default, plots generated with the bokeh.plotting interface come configured with DataRange1d objects that try to automatically set the plot bounds to encompass all the available data. But it is possible to supply explicit Range1d objects for fixed bounds. As a convenience these can also typically be spelled as 2-tuples or lists:\n",
    "\n",
    "`p = figure(x_range=[0,10], y_range=(10, 20))`\n",
    "\n",
    "\n",
    "### Resources\n",
    "\n",
    "To generate plots, the client library BokehJS JavaScript and CSS code must be loaded into the browser. By default, the output_file() function will load BokehJS from http://cdn.pydata.org . However, you can also configure Bokeh to generate static HTML files with BokehJS resources embedded directly inside, by passing the argument mode=\"inline\" to the output_file() function.\n",
    "\n",
    "### More examples¶\n",
    "\n",
    "Here are a few more examples to demonstrate other common tasks and use-cases with the bokeh.plotting interface.\n",
    "Vectorized colors and sizes¶\n",
    "\n",
    "This example shows how it is possible to provide sequences of data values for glyph attributes like fill_color and radius. Other things to look out for in this example:\n",
    "- supplying an explicit list of tool names to figure()\n",
    "- fetching BokehJS resources from CDN using the mode argument\n",
    "- setting the x_range and y_range explicitly\n",
    "- turning a line off (by setting its value to None)\n",
    "- using NumPy arrays for supplying data"
   ]
  },
  {
   "cell_type": "code",
   "execution_count": null,
   "metadata": {},
   "outputs": [],
   "source": [
    "import numpy as np\n",
    "\n",
    "from bokeh.plotting import figure, output_file, show\n",
    "\n",
    "# prepare some data\n",
    "N = 4000\n",
    "x = np.random.random(size=N) * 100\n",
    "y = np.random.random(size=N) * 100\n",
    "radii = np.random.random(size=N) * 1.5\n",
    "colors = [\n",
    "    \"#%02x%02x%02x\" % (int(r), int(g), 150) for r, g in zip(50+2*x, 30+2*y)\n",
    "]\n",
    "\n",
    "TOOLS=\"crosshair,pan,wheel_zoom,box_zoom,reset,box_select,lasso_select\"\n",
    "\n",
    "# create a new plot with the tools above, and explicit ranges\n",
    "p = figure(tools=TOOLS, x_range=(0,100), y_range=(0,100), width=500, height=500)\n",
    "\n",
    "# add a circle renderer with vectorized colors and sizes\n",
    "p.circle(x,y, radius=radii, fill_color=colors, fill_alpha=0.6, line_color=None)\n",
    "\n",
    "# show the results\n",
    "show(p)"
   ]
  },
  {
   "cell_type": "markdown",
   "metadata": {},
   "source": [
    "# Data Sources and Transformations"
   ]
  },
  {
   "cell_type": "markdown",
   "metadata": {},
   "source": [
    "We've seen how Bokeh can work well with Python lists, NumPy arrays, Pandas series, etc. At lower levels, these inputs are converted to a Bokeh `ColumnDataSource`. This data type is the central data source object used throughout Bokeh. Although Bokeh often creates them for us transparently, there are times when it is useful to create them explicitly.\n",
    "\n",
    "In later sections we will see features like hover tooltips, computed transforms, and CustomJS interactions that make use of the `ColumnDataSource`, so let's take a quick look now."
   ]
  },
  {
   "cell_type": "markdown",
   "metadata": {},
   "source": [
    "## Creating with Python Dicts\n",
    "The `ColumnDataSource` can be imported from `bokeh.models`:"
   ]
  },
  {
   "cell_type": "code",
   "execution_count": null,
   "metadata": {},
   "outputs": [],
   "source": [
    "from bokeh.models import ColumnDataSource"
   ]
  },
  {
   "cell_type": "markdown",
   "metadata": {},
   "source": [
    "The `ColumnDataSource` is a mapping of column names (strings) to sequences of values. Here is a simple example. The mapping is provided by passing a Python `dict` with string keys and simple Python lists as values. The values could also be NumPy arrays, or Pandas sequences.\n",
    "\n",
    "***NOTE: ALL the columns in a `ColumnDataSource` must always be the SAME length.***\n"
   ]
  },
  {
   "cell_type": "code",
   "execution_count": null,
   "metadata": {},
   "outputs": [],
   "source": [
    "source = ColumnDataSource(data={\n",
    "    'x' : [1, 2, 3, 4, 5],\n",
    "    'y' : [3, 7, 8, 5, 1],\n",
    "})"
   ]
  },
  {
   "cell_type": "markdown",
   "metadata": {},
   "source": [
    "Up until now we have called functions like `p.circle` by passing in literal lists or arrays of data directly, when we do this, Bokeh creates a `ColumnDataSource` for us, automatically. But it is possible to specify a `ColumnDataSource` explicitly by passing it as the `source` argument to a glyph method. Whenever we do this, if we want a property (like `\"x\"` or `\"y\"` or `\"fill_color\"`) to have a sequence of values, we pass the ***name of the column*** that we would like to use for a property:"
   ]
  },
  {
   "cell_type": "code",
   "execution_count": null,
   "metadata": {},
   "outputs": [],
   "source": [
    "p = figure(plot_width=400, plot_height=400)\n",
    "p.circle('x', 'y', size=20, source=source)\n",
    "show(p)"
   ]
  },
  {
   "cell_type": "markdown",
   "metadata": {},
   "source": [
    "## Creating with Pandas DataFrames\n",
    "\n",
    "It's also simple to create `ColumnDataSource` objects directly from Pandas data frames. To do this, just pass the data frame to  `ColumnDataSource` when you create it:"
   ]
  },
  {
   "cell_type": "code",
   "execution_count": null,
   "metadata": {},
   "outputs": [],
   "source": [
    "from bokeh.sampledata.iris import flowers as df\n",
    "\n",
    "source = ColumnDataSource(df)\n",
    "\n",
    "p = figure(plot_width=400, plot_height=400)\n",
    "p.circle('petal_length', 'petal_width', source=source)\n",
    "show(p)"
   ]
  },
  {
   "cell_type": "markdown",
   "metadata": {},
   "source": [
    "## Automatic Conversion\n",
    "\n",
    "If you do not need to share data sources, it may be convenient to pass dicts, Pandas `DataFrame` or `GroupBy` objects directly to glhyph methods, without explicitly creating a `ColumnDataSource`. In this case, a `ColumnDataSource` will be created automatically."
   ]
  },
  {
   "cell_type": "code",
   "execution_count": null,
   "metadata": {},
   "outputs": [],
   "source": [
    "from bokeh.sampledata.iris import flowers as df\n",
    "\n",
    "p = figure(plot_width=400, plot_height=400)\n",
    "p.circle('petal_length', 'petal_width', source=df, color='green')\n",
    "show(p)"
   ]
  },
  {
   "cell_type": "markdown",
   "metadata": {},
   "source": [
    "## Deal with datetime and categorical axes"
   ]
  },
  {
   "cell_type": "markdown",
   "metadata": {},
   "source": [
    "### Datetime axes\n",
    "Dealing with date and time series is another common task. Bokeh has a sophisticated `DatetimeAxis` that can change the displayed ticks based on the current scale of the plot. There are some inputs for which Bokeh will automatically default to DatetimeAxis, but you can always explicitly ask for one by passing the value \"datetime\" to the `x_axis_type` or `y_axis_type` parameters to `figure()`. A few things of interest to look out for in this example:\n",
    "\n",
    "- setting the width and height arguments to figure()\n",
    "- customizing plots and other objects by assigning values to their attributes\n",
    "- accessing guides and annotations with convenience Figure attributes: `legend, grid, xgrid, ygrid, axis, xaxis, yaxis`"
   ]
  },
  {
   "cell_type": "code",
   "execution_count": null,
   "metadata": {},
   "outputs": [],
   "source": [
    "bokeh.sampledata.download()"
   ]
  },
  {
   "cell_type": "code",
   "execution_count": null,
   "metadata": {},
   "outputs": [],
   "source": [
    "from bokeh.sampledata.stocks import AAPL"
   ]
  },
  {
   "cell_type": "code",
   "execution_count": null,
   "metadata": {},
   "outputs": [],
   "source": [
    "# prepare some data\n",
    "aapl = np.array(AAPL['adj_close'])\n",
    "aapl_dates = np.array(AAPL['date'], dtype=np.datetime64)\n",
    "\n",
    "window_size = 30\n",
    "window = np.ones(window_size)/float(window_size)\n",
    "aapl_avg = np.convolve(aapl, window, 'same')\n",
    "\n",
    "# create a new plot with a a datetime axis type\n",
    "p = figure(width=800, height=350, x_axis_type=\"datetime\")\n",
    "\n",
    "# add renderers\n",
    "p.circle(aapl_dates, aapl, size=4, color='darkgrey', alpha=0.2, legend_label='close')\n",
    "p.line(aapl_dates, aapl_avg, color='red', legend_label='avg')\n",
    "\n",
    "# NEW: customize by setting attributes\n",
    "p.title.text = \"AAPL One-Month Average\"\n",
    "p.legend.location = \"top_left\"\n",
    "p.grid.grid_line_alpha=0\n",
    "p.xaxis.axis_label = 'Date'\n",
    "p.yaxis.axis_label = 'Price'\n",
    "\n",
    "p.ygrid.band_fill_color=\"gray\"\n",
    "p.ygrid.band_fill_alpha = 0.1\n",
    "\n",
    "p.legend.click_policy=\"hide\" # enable the click policy on the legend\n",
    "\n",
    "# show the results\n",
    "show(p)"
   ]
  },
  {
   "cell_type": "markdown",
   "metadata": {},
   "source": [
    "## Categorical axes\n",
    "To inform Bokeh that the `x-axis` is `categorical`, we pass this list of factors as the `x_range` argument to bokeh plotting figure:\n",
    "\n",
    "```python\n",
    "p = figure(x_range=fruits, ... )\n",
    "```\n",
    "\n",
    "Note that passing the list of factors is a convenient shorthand notation for creating a FactorRange. The equivalent explicit notation is:\n",
    "```python\n",
    "p = figure(x_range=FactorRange(field=fruits), ... )\n",
    "```\n",
    "This more explicit for is useful when you want to customize the FactorRange, e.g. by changing the range or category padding.\n",
    "\n",
    "Next we can call vbar with the list of fruit name factors as the x coordinate, the bar height as the top coordinate, and optionally any width or other properties that we would like to set:\n",
    "```python\n",
    "p.vbar(x=fruits, top=[5, 3, 4, 2, 4, 6], width=0.9)\n",
    "```\n",
    "\n",
    "Now putting this stuff together we will see the output:"
   ]
  },
  {
   "cell_type": "code",
   "execution_count": null,
   "metadata": {},
   "outputs": [],
   "source": [
    "fruits = ['Apples', 'Pears', 'Nectarines', 'Plums', 'Grapes', 'Strawberries']\n",
    "\n",
    "p = figure(x_range=fruits, plot_height=250, title=\"Fruit Counts\",\n",
    "           toolbar_location=None, tools=\"\")\n",
    "\n",
    "p.vbar(x=fruits, top=[5, 3, 4, 2, 4, 6], width=0.6)\n",
    "\n",
    "p.xgrid.grid_line_color = None\n",
    "p.y_range.start = 0\n",
    "\n",
    "show(p)"
   ]
  },
  {
   "cell_type": "markdown",
   "metadata": {},
   "source": [
    "Often times we may want to have bars that are shaded some color. One way is to supply all the colors up front. This can be done by putting all the data, including the colors for each bar, in a `ColumnDataSource`. Then the name of the column containing the colors is passed to figure as the color (or line_color/fill_color) arguments. This is shown below:"
   ]
  },
  {
   "cell_type": "code",
   "execution_count": null,
   "metadata": {},
   "outputs": [],
   "source": [
    "from bokeh.models import ColumnDataSource\n",
    "from bokeh.palettes import Spectral6\n",
    "\n",
    "fruits = ['Apples', 'Pears', 'Nectarines', 'Plums', 'Grapes', 'Strawberries']\n",
    "counts = [5, 3, 4, 2, 4, 6]\n",
    "\n",
    "source = ColumnDataSource(data=dict(fruits=fruits, counts=counts, color=Spectral6))\n",
    "\n",
    "p = figure(x_range=fruits, y_range=(0,9), plot_height=250, title=\"Fruit Counts\",\n",
    "           toolbar_location=None, tools=\"\")\n",
    "\n",
    "p.vbar(x='fruits', top='counts', width=0.6, color='color', legend_label=\"fruits\", source=source)\n",
    "\n",
    "p.xgrid.grid_line_color = None\n",
    "p.legend.orientation = \"horizontal\"\n",
    "p.legend.location = \"top_center\"\n",
    "\n",
    "show(p)"
   ]
  },
  {
   "cell_type": "markdown",
   "metadata": {},
   "source": [
    "### Grouped\n",
    "\n",
    "When creating bar charts, it is often desirable to visually display the data according to sub-groups. There are two basic methods that can be used, depending on your use case: using nested categorical coordinates, or applying vidual dodges.\n",
    "\n",
    "### Nested Categories\n",
    "\n",
    "If the coordinates of a plot range and data have two or three levels, then Bokeh will automatically group the factors on the axis, including a hierarchical tick labeling with separators between the groups. In the case of bar charts, this results in bars grouped together by the top-level factors. This is probably the most common way to achieve grouped bars, especially if you are starting from “tidy” data.\n",
    "\n",
    "The example below shows this approach by creating a single column of coordinates that are each 2-tuples of the form (fruit, year). Accordingly, the plot groups the axes by fruit type, with a single call to vbar:"
   ]
  },
  {
   "cell_type": "code",
   "execution_count": null,
   "metadata": {},
   "outputs": [],
   "source": [
    "from bokeh.models import ColumnDataSource, FactorRange\n",
    "from bokeh.plotting import figure\n",
    "\n",
    "fruits = ['Apples', 'Pears', 'Nectarines', 'Plums', 'Grapes', 'Strawberries']\n",
    "years = ['2015', '2016', '2017']\n",
    "\n",
    "data = {'fruits' : fruits,\n",
    "        '2015'   : [2, 1, 4, 3, 2, 4],\n",
    "        '2016'   : [5, 3, 3, 2, 4, 6],\n",
    "        '2017'   : [3, 2, 4, 4, 5, 3]}\n",
    "\n",
    "# this creates [ (\"Apples\", \"2015\"), (\"Apples\", \"2016\"), (\"Apples\", \"2017\"), (\"Pears\", \"2015), ... ]\n",
    "x = [ (fruit, year) for fruit in fruits for year in years ]\n",
    "counts = sum(zip(data['2015'], data['2016'], data['2017']), ()) # like an hstack in numpy\n",
    "\n",
    "source = ColumnDataSource(data=dict(x=x, counts=counts))\n",
    "\n",
    "p = figure(x_range=FactorRange(*x), plot_height=250, title=\"Fruit Counts by Year\",\n",
    "           toolbar_location=None, tools=\"\")\n",
    "\n",
    "p.vbar(x='x', top='counts', width=0.9, source=source)\n",
    "\n",
    "p.y_range.start = 0\n",
    "p.x_range.range_padding = 0.1\n",
    "p.xaxis.major_label_orientation = 1\n",
    "p.xgrid.grid_line_color = None\n",
    "\n",
    "show(p)"
   ]
  },
  {
   "cell_type": "markdown",
   "metadata": {},
   "source": [
    "We can also apply a color mapping, similar to the earlier example. To obtain same grouped bar plot of fruits data as above, except with the bars shaded by the year, changethe vbar function call to use `factor_cmap` for the fill_color:"
   ]
  },
  {
   "cell_type": "code",
   "execution_count": null,
   "metadata": {},
   "outputs": [],
   "source": [
    "from bokeh.transform import factor_cmap\n",
    "from bokeh.palettes import Spectral10\n",
    "\n",
    "# use the palette to colormap based on the the x[1:2] values\n",
    "p.vbar(x='x', top='counts', width=0.9, source=source, line_color=\"white\",\n",
    "       fill_color=factor_cmap('x', palette=Spectral10, factors=years, start=1, end=2))\n",
    "show(p)"
   ]
  },
  {
   "cell_type": "markdown",
   "metadata": {},
   "source": [
    "Another method for achieving grouped bars is to explicitly specify a visual displacement for the bars. Such a visual offset is also referred to as a dodge.\n",
    "\n",
    "In this scenario, our data is not “tidy”. Instead a single table with rows indexed by factors (fruit, year), we have separate series for each year. We can plot all the year series using separate calls to vbar but since every bar in each group has the same fruit factor, the bars would overlap visually. We can prevent this overlap and distinguish the bars visually by using the dodge() function to provide an offset for each different call to vbar:"
   ]
  },
  {
   "cell_type": "code",
   "execution_count": null,
   "metadata": {},
   "outputs": [],
   "source": [
    "from bokeh.core.properties import value\n",
    "from bokeh.models import ColumnDataSource\n",
    "from bokeh.transform import dodge\n",
    "\n",
    "fruits = ['Apples', 'Pears', 'Nectarines', 'Plums', 'Grapes', 'Strawberries']\n",
    "years = ['2015', '2016', '2017']\n",
    "\n",
    "data = {'fruits' : fruits,\n",
    "        '2015'   : [2, 1, 4, 3, 2, 4],\n",
    "        '2016'   : [5, 3, 3, 2, 4, 6],\n",
    "        '2017'   : [3, 2, 4, 4, 5, 3]}\n",
    "\n",
    "source = ColumnDataSource(data=data)\n",
    "\n",
    "p = figure(x_range=fruits, y_range=(0, 10), plot_height=250, title=\"Fruit Counts by Year\",\n",
    "           toolbar_location=None, tools=\"\")\n",
    "\n",
    "p.vbar(x=dodge('fruits', -0.25, range=p.x_range), top='2015', width=0.2, source=source,\n",
    "       color=\"#c9d9d3\", legend_label=\"2015\")\n",
    "\n",
    "p.vbar(x=dodge('fruits',  0.0,  range=p.x_range), top='2016', width=0.2, source=source,\n",
    "       color=\"#718dbf\", legend_label=\"2016\")\n",
    "\n",
    "p.vbar(x=dodge('fruits',  0.25, range=p.x_range), top='2017', width=0.2, source=source,\n",
    "       color=\"#e84d60\", legend_label=\"2017\")\n",
    "\n",
    "p.x_range.range_padding = 0.1\n",
    "p.xgrid.grid_line_color = None\n",
    "p.legend.location = \"top_left\"\n",
    "p.legend.orientation = \"horizontal\"\n",
    "\n",
    "show(p)"
   ]
  },
  {
   "cell_type": "markdown",
   "metadata": {},
   "source": [
    "Another common operation or bar charts is to stack bars on top of one another. Bokeh makes this easy to do with the specialized hbar_stack() and vbar_stack() functions. The example below shows the fruits data from above, but with the bars for each fruit type stacked instead of grouped:"
   ]
  },
  {
   "cell_type": "code",
   "execution_count": null,
   "metadata": {},
   "outputs": [],
   "source": [
    "fruits = ['Apples', 'Pears', 'Nectarines', 'Plums', 'Grapes', 'Strawberries']\n",
    "years = [\"2015\", \"2016\", \"2017\"]\n",
    "colors = [\"#34A212\", \"#D3F543\", \"#98F5FF\"]\n",
    "\n",
    "data = {'fruits' : fruits,\n",
    "        '2015'   : [2, 1, 4, 3, 2, 4],\n",
    "        '2016'   : [5, 3, 4, 2, 4, 6],\n",
    "        '2017'   : [3, 2, 4, 4, 5, 3]}\n",
    "\n",
    "source = ColumnDataSource(data=data)\n",
    "\n",
    "p = figure(x_range=fruits, plot_height=250, title=\"Fruit Counts by Year\",\n",
    "           toolbar_location=None, tools=\"\")\n",
    "\n",
    "p.vbar_stack(years, x='fruits', width=0.9, color=colors, source=source,\n",
    "             legend_label=[x for x in years])\n",
    "\n",
    "p.y_range.start = 0\n",
    "p.x_range.range_padding = 0.1\n",
    "p.xgrid.grid_line_color = None\n",
    "p.axis.minor_tick_line_color = None\n",
    "p.outline_line_color = None\n",
    "p.legend.location = \"top_left\"\n",
    "p.legend.orientation = \"horizontal\"\n",
    "\n",
    "show(p)"
   ]
  },
  {
   "cell_type": "markdown",
   "metadata": {},
   "source": [
    "Sometimes we may want to stack bars that have both positive and negative extents. The example below shows how it is possible to create such a stacked bar chart that is split by positive and negative values:"
   ]
  },
  {
   "cell_type": "code",
   "execution_count": null,
   "metadata": {},
   "outputs": [],
   "source": [
    "from bokeh.palettes import GnBu3, OrRd3\n",
    "\n",
    "fruits = ['Apples', 'Pears', 'Nectarines', 'Plums', 'Grapes', 'Strawberries']\n",
    "years = [\"2015\", \"2016\", \"2017\"]\n",
    "\n",
    "exports = {'fruits' : fruits,\n",
    "           '2015'   : [2, 1, 4, 3, 2, 4],\n",
    "           '2016'   : [5, 3, 4, 2, 4, 6],\n",
    "           '2017'   : [3, 2, 4, 4, 5, 3]}\n",
    "imports = {'fruits' : fruits,\n",
    "           '2015'   : [-1, 0, -1, -3, -2, -1],\n",
    "           '2016'   : [-2, -1, -3, -1, -2, -2],\n",
    "           '2017'   : [-1, -2, -1, 0, -2, -2]}\n",
    "\n",
    "p = figure(y_range=fruits, plot_height=250, x_range=(-16, 16), title=\"Fruit import/export, by year\",\n",
    "           toolbar_location=None)\n",
    "\n",
    "p.hbar_stack(years, y='fruits', height=0.9, color=GnBu3, source=ColumnDataSource(exports),\n",
    "             legend_label=[\"%s exports\" % x for x in years])\n",
    "\n",
    "p.hbar_stack(years, y='fruits', height=0.9, color=OrRd3, source=ColumnDataSource(imports),\n",
    "             legend_label=[\"%s imports\" % x for x in years])\n",
    "\n",
    "p.y_range.range_padding = 0.1\n",
    "p.ygrid.grid_line_color = None\n",
    "p.legend.location = \"top_left\"\n",
    "p.axis.minor_tick_line_color = None\n",
    "p.outline_line_color = None\n",
    "\n",
    "show(p)"
   ]
  },
  {
   "cell_type": "markdown",
   "metadata": {},
   "source": [
    "## Mixing Categorical Levels\n",
    "\n",
    "If you have created a range with nested categories as above, it is possible to plot glyphs using only the \"outer\" categories, if desired. The plot below shows monthly values grouped by quarter as bars. The data for these are in the famliar format:\n",
    "\n",
    "    factors = [(\"Q1\", \"jan\"), (\"Q1\", \"feb\"), (\"Q1\", \"mar\"), ....]\n",
    "\n",
    "The plot also overlays a line representing average quarterly values, and this is accomplished by using only the \"quarter\" part of each nexted category:\n",
    "\n",
    "    p.line(x=[\"Q1\", \"Q2\", \"Q3\", \"Q4\"], y=....)"
   ]
  },
  {
   "cell_type": "code",
   "execution_count": null,
   "metadata": {},
   "outputs": [],
   "source": [
    "factors = [(\"Q1\", \"jan\"), (\"Q1\", \"feb\"), (\"Q1\", \"mar\"),\n",
    "           (\"Q2\", \"apr\"), (\"Q2\", \"may\"), (\"Q2\", \"jun\"),\n",
    "           (\"Q3\", \"jul\"), (\"Q3\", \"aug\"), (\"Q3\", \"sep\"),\n",
    "           (\"Q4\", \"oct\"), (\"Q4\", \"nov\"), (\"Q4\", \"dec\")]\n",
    "\n",
    "p = figure(x_range=FactorRange(*factors), plot_height=250)\n",
    "\n",
    "x = [ 10, 12, 16, 9, 10, 8, 12, 13, 14, 14, 12, 16 ]\n",
    "p.vbar(x=factors, top=x, width=0.9, alpha=0.5)\n",
    "\n",
    "qs, aves = [\"Q1\", \"Q2\", \"Q3\", \"Q4\"], [12, 9, 13, 14]\n",
    "p.line(x=qs, y=aves, color=\"red\", line_width=3)\n",
    "p.circle(x=qs, y=aves, line_color=\"red\", fill_color=\"white\", size=10)\n",
    "\n",
    "p.y_range.start = 0\n",
    "p.x_range.range_padding = 0.1\n",
    "p.xgrid.grid_line_color = None\n",
    "\n",
    "show(p)"
   ]
  },
  {
   "cell_type": "markdown",
   "metadata": {},
   "source": [
    "## Using Pandas `GroupBy`\n",
    "\n",
    "We may want to make charts based on the results of \"group by\" operations. Bokeh can utilize Pandas `GroupBy` objects directly to make this simpler. Let's take a look at how Bokeh deals with `GroupBy` objects by examining the \"cars\" data set."
   ]
  },
  {
   "cell_type": "code",
   "execution_count": null,
   "metadata": {},
   "outputs": [],
   "source": [
    "from bokeh.sampledata.autompg import autompg_clean as df\n",
    "\n",
    "df.cyl = df.cyl.astype(str)\n",
    "df.head()"
   ]
  },
  {
   "cell_type": "markdown",
   "metadata": {},
   "source": [
    "Suppose we would like to display some values grouped according to `\"cyl\"`. If we create `df.groupby(('cyl'))` then call `group.describe()` we can see that Pandas automatically computes various statistics for each group. "
   ]
  },
  {
   "cell_type": "code",
   "execution_count": null,
   "metadata": {},
   "outputs": [],
   "source": [
    "group = df.groupby(('cyl'))\n",
    "\n",
    "group.describe()"
   ]
  },
  {
   "cell_type": "markdown",
   "metadata": {},
   "source": [
    "Bokeh allows us to create a `ColumnDataSource` directly from Pandas `GroupBy` objects, and when this happens, the data source is automatically filled with the summary values from `group.desribe()`. Observe the column names below, which correspond to the output above."
   ]
  },
  {
   "cell_type": "code",
   "execution_count": null,
   "metadata": {},
   "outputs": [],
   "source": [
    "source = ColumnDataSource(group)\n",
    "\n",
    "\",\".join(source.column_names)"
   ]
  },
  {
   "cell_type": "markdown",
   "metadata": {},
   "source": [
    "Knowing these column names, we can immediately create bar charts based on Pandas `GroupBy` objects. The example below plots the aveage MPG per cylinder, i.e. columns `\"mpg_mean\"` vs `\"cyl\"`"
   ]
  },
  {
   "cell_type": "code",
   "execution_count": null,
   "metadata": {},
   "outputs": [],
   "source": [
    "from bokeh.palettes import Spectral5\n",
    "\n",
    "cyl_cmap = factor_cmap('cyl', palette=Spectral5, factors=sorted(df.cyl.unique()))\n",
    "\n",
    "p = figure(plot_height=350, x_range=group)\n",
    "p.vbar(x='cyl', top='mpg_mean', width=1, line_color=\"white\", \n",
    "       fill_color=cyl_cmap, source=source)\n",
    "\n",
    "p.xgrid.grid_line_color = None\n",
    "p.xaxis.axis_label = \"number of cylinders\"\n",
    "p.yaxis.axis_label = \"Mean MPG\"\n",
    "p.y_range.start = 0\n",
    "\n",
    "show(p)"
   ]
  },
  {
   "cell_type": "markdown",
   "metadata": {},
   "source": [
    "## Label\n",
    "\n",
    "The `Label` annotation allows you to easily attach single text labels to plots. The position and text to display are configured as `x`, `y`, and `text`:\n",
    "\n",
    "```python\n",
    "Label(x=10, y=5, text=\"Some Label\")\n",
    "```\n",
    "\n",
    "By default the units are in \"data space\" but `x_units` and `y_units` maybe set to `\"screen\"` to position the label relative to the canvas. Labels can also accept `x_offset` and `y_offset` to offset the final position from `x` and `y` by a given screen space distance. \n",
    "\n",
    "`Label` objects also have standard text, line (`border_line`) and fill (`background_fill`) properties. The line and fill properties apply to a bounding box around the text:\n",
    "\n",
    "```python\n",
    "Label(x=10, y=5, text=\"Some Label\", text_font_size=\"12pt\", \n",
    "      border_line_color=\"red\", background_fill_color=\"blue\")\n",
    "```"
   ]
  },
  {
   "cell_type": "code",
   "execution_count": null,
   "metadata": {},
   "outputs": [],
   "source": [
    "from bokeh.models.annotations import Label\n",
    "from bokeh.plotting import figure\n",
    "\n",
    "p = figure(x_range=(0,10), y_range=(0,10))\n",
    "p.circle([2, 5, 8], [4, 7, 6], color=\"olive\", size=10)\n",
    "\n",
    "label = Label(x=5, y=7, x_offset=12, text=\"Second Point\", text_baseline=\"middle\")\n",
    "p.add_layout(label)\n",
    "\n",
    "show(p)"
   ]
  },
  {
   "cell_type": "markdown",
   "metadata": {},
   "source": [
    "## LabelSet\n",
    "\n",
    "The `LabelSet` annotation allows you to create many labels at once, for instance if you want to label an entire set of scatter markers. They are similar to `Label`, but they can also \n",
    "accept a `ColumnDataSource` as the `source` property, and then `x` and `y` may refer to columns in the data source, e.g. `x=\"col2\"` (but may also still be fixed values, e.g. `x=10`)."
   ]
  },
  {
   "cell_type": "code",
   "execution_count": null,
   "metadata": {},
   "outputs": [],
   "source": [
    "from bokeh.plotting import figure\n",
    "from bokeh.models import ColumnDataSource, LabelSet\n",
    "\n",
    "\n",
    "source = ColumnDataSource(data=dict(\n",
    "    temp=[166, 171, 172, 168, 174, 162],\n",
    "    pressure=[165, 189, 220, 141, 260, 174],\n",
    "    names=['A', 'B', 'C', 'D', 'E', 'F']))\n",
    "\n",
    "p = figure(x_range=(160, 175))\n",
    "p.scatter(x='temp', y='pressure', size=8, source=source)\n",
    "p.xaxis.axis_label = 'Temperature (C)'\n",
    "p.yaxis.axis_label = 'Pressure (lbs)'\n",
    "\n",
    "labels = LabelSet(x='temp', y='pressure', text='names', level='glyph',\n",
    "                  x_offset=5, y_offset=5, source=source, render_mode='canvas')\n",
    "\n",
    "\n",
    "p.add_layout(labels)\n",
    "\n",
    "show(p)"
   ]
  },
  {
   "cell_type": "markdown",
   "metadata": {},
   "source": [
    "## Legends\n",
    "\n",
    "When plots have multiple glyphs, it is desirable to include a legend to help users interpret what they see. Bokeh can generate legends easily based on the glyphs that are added. "
   ]
  },
  {
   "cell_type": "markdown",
   "metadata": {},
   "source": [
    "### Simple Legends\n",
    "\n",
    "In the simplest case, you can simply pass a string as the `legend` argument to a glyph function:\n",
    "```python\n",
    "p.circle(x, y, legend=\"sin(x)\")\n",
    "``` \n",
    "In this case Bokeh will automatically create a legend that shows a representation of that glyph, labeled by the test you provided. A full example is below."
   ]
  },
  {
   "cell_type": "code",
   "execution_count": null,
   "metadata": {},
   "outputs": [],
   "source": [
    "import numpy as np\n",
    "\n",
    "x = np.linspace(0, 4*np.pi, 100)\n",
    "y = np.sin(x)\n",
    "\n",
    "p = figure(height=400)\n",
    "\n",
    "p.circle(x, y, legend_label=\"sin(x)\")\n",
    "p.line(x, 2*y, legend_label=\"2*sin(x)\", line_dash=[4, 4], line_color=\"orange\", line_width=2)\n",
    "\n",
    "show(p)"
   ]
  },
  {
   "cell_type": "markdown",
   "metadata": {},
   "source": [
    "### Compound legends\n",
    "\n",
    "In the example above, we provided a different legend label to each glyph method. Sometimes, two (or more) different glyphs are used with a single data source. In this case, you can make compound legends by specifying the same legend argument to multiple glyph methods when creating a plot, for example, if you plot a `sin` curve with both a line and a marker, you may give them the same label to cause them to show up together in the legend:\n",
    "\n",
    "```python\n",
    "p.circle(x, y, legend=\"sin(x)\")\n",
    "p.line(x, y, legend=\"sin(x)\", line_dash=[4, 4], line_color=\"orange\", line_width=2)\n",
    "```\n"
   ]
  },
  {
   "cell_type": "markdown",
   "metadata": {},
   "source": [
    "## Color bars\n",
    "\n",
    "Color bars are especially useful if we vary the color of a glyph according to some color mapping. Bokeh color bars are configured with a color mappewr and added to plots with the `add_layout` method:\n",
    "```python\n",
    "color_mapper = LinearColorMapper(palette=\"Viridis256\", low=data_low, high=data_high)\n",
    "color_bar = ColorBar(color_mapper=color_mapper, location=(0,0))\n",
    "p.add_layout(color_bar, 'right')\n",
    "```\n",
    "The example below shows a complete example that also uses the color mapper to transform the glyph color."
   ]
  },
  {
   "cell_type": "code",
   "execution_count": null,
   "metadata": {},
   "outputs": [],
   "source": [
    "from bokeh.sampledata.autompg import autompg\n",
    "from bokeh.models import LinearColorMapper, ColorBar\n",
    "from bokeh.transform import transform\n",
    "\n",
    "source = ColumnDataSource(autompg)\n",
    "color_mapper = LinearColorMapper(palette=\"Viridis256\", low=autompg.weight.min(), high=autompg.weight.max())\n",
    "\n",
    "p = figure(x_axis_label='Horsepower', y_axis_label='MPG', tools='', toolbar_location=None)\n",
    "p.circle(x='hp', y='mpg', color=transform('weight', color_mapper), size=20, alpha=0.6, source=autompg)\n",
    "\n",
    "color_bar = ColorBar(color_mapper=color_mapper, label_standoff=12, location=(0,0), title='Weight')\n",
    "p.add_layout(color_bar, 'right')\n",
    "\n",
    "show(p)"
   ]
  },
  {
   "cell_type": "markdown",
   "metadata": {},
   "source": [
    "# Configuring tools"
   ]
  },
  {
   "cell_type": "code",
   "execution_count": null,
   "metadata": {},
   "outputs": [],
   "source": [
    "# create a new plot with the toolbar below\n",
    "p = figure(plot_width=400, plot_height=400,\n",
    "           title=None, toolbar_location=\"below\")\n",
    "\n",
    "p.circle([1, 2, 3, 4, 5], [2, 5, 8, 2, 7], size=10)\n",
    "\n",
    "show(p)"
   ]
  },
  {
   "cell_type": "markdown",
   "metadata": {},
   "source": [
    "### Specifying tools\n",
    "In `bokeh` you can specify wich tools include within the toolbar and which one must be active at the plot render\n",
    "\n",
    "The Tools can be supplied conveniently with a comma-separate string containing tool shortcut names:\n",
    "\n",
    "```python\n",
    "tools = \"pan,wheel_zoom,box_zoom,reset\"\n",
    "```\n",
    "However, this method does not allow setting properties of the tools.\n",
    "\n",
    "Finally, it is also always possible to add new tools to a plot by passing a tool object to the add_tools method of a plot. This can also be done in conjunction with the tools keyword described above:\n",
    "```python\n",
    "from bokeh.models import BoxSelectTool\n",
    "\n",
    "plot = figure(tools=\"pan,wheel_zoom,box_zoom,reset\")\n",
    "plot.add_tools(BoxSelectTool(dimensions=[\"width\"]))\n",
    "```"
   ]
  },
  {
   "cell_type": "code",
   "execution_count": null,
   "metadata": {},
   "outputs": [],
   "source": [
    "from bokeh.models import BoxSelectTool\n",
    "\n",
    "tools = \"pan,wheel_zoom,box_zoom,reset\" \n",
    "p = figure(plot_width=400, plot_height=400, \n",
    "           tools=tools, title=None, \n",
    "           toolbar_location=\"below\")\n",
    "p.circle([1, 2, 3, 4, 5], [2, 5, 8, 2, 7], size=10)\n",
    "p.add_tools(BoxSelectTool(dimensions='height'))\n",
    "show(p)"
   ]
  },
  {
   "cell_type": "markdown",
   "metadata": {},
   "source": [
    "### Setting the active tool\n",
    "Bokeh toolbars can have (at most) one active tool from each kind of gesture (drag, scroll, tap). By default, Bokeh will use a default pre-defined order of preference to choose one of each kind from the set of configured tools, to be active.\n",
    "\n",
    "However it is possible to exert control over which tool is active. At the lowest bokeh.models level, this is accomplished by using the active_drag, active_inspect, active_scroll, and active_tap properties of Toolbar. These properties can take the following values:\n",
    "\n",
    "    None — there is no active tool of this kind\n",
    "    \"auto\" — Bokeh chooses a tool of this kind to be active (possibly none)\n",
    "    a Tool instance — Bokeh sets the given tool to be the active tool\n",
    "\n",
    "Additionally, the active_inspect tool may accept: * A sequence of Tool instances to be set as the active tools"
   ]
  },
  {
   "cell_type": "code",
   "execution_count": null,
   "metadata": {},
   "outputs": [],
   "source": [
    "plot = figure(tools=\"pan,lasso_select,box_select\", \n",
    "              plot_width=400, plot_height=400, \n",
    "              active_drag=\"lasso_select\")\n",
    "plot.circle([1, 2, 3, 4, 5], [2, 5, 8, 2, 7], size=10)\n",
    "show(plot)"
   ]
  },
  {
   "cell_type": "markdown",
   "metadata": {},
   "source": [
    "## Tooltip"
   ]
  },
  {
   "cell_type": "markdown",
   "metadata": {},
   "source": [
    "By default, the hover tool will generate a “tabular” tooltip where each row contains a label, and its associated value. The labels and values are supplied as a list of (label, value) tuples. For instance, the tooltip below on the left was created with the accompanying tooltips definition on the right."
   ]
  },
  {
   "cell_type": "markdown",
   "metadata": {},
   "source": [
    "### Basic tooltips"
   ]
  },
  {
   "cell_type": "markdown",
   "metadata": {},
   "source": [
    "<img src=\"http://bokeh.pydata.org/en/latest/_images/hover_basic.png\">"
   ]
  },
  {
   "cell_type": "markdown",
   "metadata": {},
   "source": [
    "```python\n",
    "\t\n",
    "hover.tooltips = [\n",
    "    (\"index\", \"$index\"),\n",
    "    (\"(x,y)\", \"($x, $y)\"),\n",
    "    (\"radius\", \"@radius\"),\n",
    "    (\"fill color\", \"$color[hex, swatch]:fill_color\"),\n",
    "    (\"foo\", \"@foo\"),\n",
    "    (\"bar\", \"@bar\"),\n",
    "]\n",
    "```"
   ]
  },
  {
   "cell_type": "markdown",
   "metadata": {},
   "source": [
    "Field names that begin with $ are `special fields`. These often correspond to values that are intrinsic to the plot, such as the coordinates of the mouse in data or screen space. These special fields are listed here:\n",
    "\n",
    " - `$index`: index of selected point in the data source\n",
    " - `$name`: value of the name property of the hovered glyph renderer\n",
    " - `$x`: x-coordinate under the cursor in data space\n",
    " - `$y`: y-coordinate under the cursor in data space\n",
    " - `$sx`: x-coordinate under the cursor in screen (canvas) space\n",
    " - `$sy`: y-coordinate under the cursor in screen (canvas) space\n",
    " - `$name`: The name property of the glyph that is hovered over\n",
    " - `$color`: colors from a data source, with the syntax: $color[options]:field_name. \n",
    " \n",
    "The available options are: hex (to display the color as a hex value), and swatch to also display a small color swatch.\n",
    "Field names that begin with @ are associated with columns in a ColumnDataSource. For instance the field name \"@price\" will display values from the \"price\" column whenever a hover is triggered. If the hover is for the 17th glyph, then the hover tooltip will correspondingly display the 17th price value.\n",
    "\n",
    "Note that if a column name contains spaces, the it must be supplied by surrounding it in curly braces, e.g. @{adjusted close} will display values from a column named \"adjusted close\".\n",
    "\n",
    "Sometimes (especially with stacked charts) it is desirable to allow the name of the column be specified indirectly. The field name `@$name` is distinguished in that it will look up the name field on the hovered glyph renderer, and use that value as the column name. For instance, if a user hovers with the name \"US East\", then `@$name` is equivalent to `@{US East}`.\n",
    "\n",
    "Here is a complete example of how to configure and use the hover tool by setting the tooltips argument to figure:"
   ]
  },
  {
   "cell_type": "code",
   "execution_count": null,
   "metadata": {},
   "outputs": [],
   "source": [
    "from bokeh.models import ColumnDataSource\n",
    "\n",
    "source = ColumnDataSource(data=dict(\n",
    "    x=[1, 2, 3, 4, 5],\n",
    "    y=[2, 5, 8, 2, 7],\n",
    "    desc=['A', 'b', 'C', 'd', 'E'],\n",
    "))\n",
    "\n",
    "TOOLTIPS = [\n",
    "    (\"index\", \"$index\"),\n",
    "    (\"(x,y)\", \"($x, $y)\"),\n",
    "    (\"desc\", \"@desc\"),\n",
    "]\n",
    "\n",
    "p = figure(plot_width=400, plot_height=400, tooltips=TOOLTIPS,\n",
    "           title=\"Mouse over the dots\")\n",
    "\n",
    "p.circle('x', 'y', size=20, source=source)\n",
    "\n",
    "show(p)"
   ]
  },
  {
   "cell_type": "markdown",
   "metadata": {},
   "source": [
    "### Formatting Tooltip Fields\n",
    "By default, values for fields (e.g. @foo) are displayed in a basic numeric format. However it is possible to control the formatting of values more precisely. Fields can be modified by appending a format specified to the end in curly braces. Some examples are below."
   ]
  },
  {
   "cell_type": "markdown",
   "metadata": {},
   "source": [
    "```python\n",
    "\"@foo{0,0.000}\"    # formats 10000.1234 as: 10,000.123\n",
    "\n",
    "\"@foo{(.00)}\"      # formats -10000.1234 as: (10000.123)\n",
    "\n",
    "\"@foo{($ 0.00 a)}\" # formats 1230974 as: $ 1.23 m\n",
    "```"
   ]
  },
  {
   "cell_type": "code",
   "execution_count": null,
   "metadata": {},
   "outputs": [],
   "source": [
    "import numpy as np\n",
    "from bokeh.models import ColumnDataSource, HoverTool\n",
    "from bokeh.plotting import figure\n",
    "from bokeh.sampledata.stocks import AAPL # Sample stock data [bokeh built-in]\n",
    "\n",
    "def datetime(x):\n",
    "    return np.array(x, dtype=np.datetime64)\n",
    "\n",
    "source = ColumnDataSource(data={\n",
    "    'date'      : datetime(AAPL['date'][::10]),\n",
    "    'adj close' : AAPL['adj_close'][::10],\n",
    "    'volume'    : AAPL['volume'][::10],\n",
    "})\n",
    "\n",
    "p = figure(plot_height=250, x_axis_type=\"datetime\", tools=\"\", toolbar_location=None,\n",
    "           title=\"Hover Tooltip Formatting\", sizing_mode=\"scale_width\")\n",
    "p.background_fill_color=\"#f5f5f5\"\n",
    "p.grid.grid_line_color=\"white\"\n",
    "p.xaxis.axis_label = 'Date'\n",
    "p.yaxis.axis_label = 'Price'\n",
    "p.axis.axis_line_color = None\n",
    "\n",
    "p.line(x='date', y='adj close', line_width=2, color='#ebbd5b', source=source)\n",
    "\n",
    "p.add_tools(HoverTool(\n",
    "    tooltips=[\n",
    "        ( 'date',   '@date{%F}'            ),\n",
    "        ( 'close',  '$@{adj close}{%0.2f}' ), # use @{ } for field names with spaces\n",
    "        ( 'volume', '@volume{0.00 a}'      ),\n",
    "    ],\n",
    "\n",
    "    formatters={\n",
    "        'date'      : 'datetime', # use 'datetime' formatter for 'date' field\n",
    "        'adj close' : 'printf',   # use 'printf' formatter for 'adj close' field\n",
    "                                  # use default 'numeral' formatter for other fields\n",
    "    },\n",
    "\n",
    "    # display a tooltip whenever the cursor is vertically in line with a glyph\n",
    "    mode='vline'\n",
    "))\n",
    "\n",
    "show(p)"
   ]
  },
  {
   "cell_type": "markdown",
   "metadata": {},
   "source": [
    "### Custom HTML Tooltip"
   ]
  },
  {
   "cell_type": "markdown",
   "metadata": {},
   "source": [
    "It is also possible to supply a custom HTML template for a tooltip. To do this, pass an HTML string, with the Bokeh tooltip field name symbols wherever substitutions are desired. Note that you can also use the {safe} format after the column name to disable the escaping of HTML in the data source. An example is shown below:"
   ]
  },
  {
   "cell_type": "code",
   "execution_count": null,
   "metadata": {},
   "outputs": [],
   "source": [
    "source = ColumnDataSource(data=dict(\n",
    "    x=[1, 2, 3, 4, 5],\n",
    "    y=[2, 5, 8, 2, 7],\n",
    "    desc=['A', 'b', 'C', 'd', 'E'],\n",
    "    imgs=[\n",
    "        'https://bokeh.pydata.org/static/snake.jpg',\n",
    "        'https://bokeh.pydata.org/static/snake2.png',\n",
    "        'https://bokeh.pydata.org/static/snake3D.png',\n",
    "        'https://bokeh.pydata.org/static/snake4_TheRevenge.png',\n",
    "        'https://bokeh.pydata.org/static/snakebite.jpg'\n",
    "    ],\n",
    "    fonts=[\n",
    "        '<i>italics</i>',\n",
    "        '<pre>pre</pre>',\n",
    "        '<b>bold</b>',\n",
    "        '<small>small</small>',\n",
    "        '<del>del</del>'\n",
    "    ]\n",
    "))\n",
    "\n",
    "TOOLTIPS = \"\"\"\n",
    "    <div>\n",
    "        <div>\n",
    "            <img\n",
    "                src=\"@imgs\" height=\"42\" alt=\"@imgs\" width=\"42\"\n",
    "                style=\"float: left; margin: 0px 15px 15px 0px;\"\n",
    "                border=\"2\"\n",
    "            ></img>\n",
    "        </div>\n",
    "        <div>\n",
    "            <span style=\"font-size: 17px; font-weight: bold;\">@desc</span>\n",
    "            <span style=\"font-size: 15px; color: #966;\">[$index]</span>\n",
    "        </div>\n",
    "        <div>\n",
    "            <span>@fonts{safe}</span>\n",
    "        </div>\n",
    "        <div>\n",
    "            <span style=\"font-size: 15px;\">Location</span>\n",
    "            <span style=\"font-size: 10px; color: #696;\">($x, $y)</span>\n",
    "        </div>\n",
    "    </div>\n",
    "\"\"\"\n",
    "\n",
    "p = figure(plot_width=400, plot_height=400, tooltips=TOOLTIPS,\n",
    "           title=\"Mouse over the dots\")\n",
    "\n",
    "p.circle('x', 'y', size=20, source=source)\n",
    "\n",
    "show(p)"
   ]
  },
  {
   "cell_type": "markdown",
   "metadata": {},
   "source": [
    "## Gridplots and linked charts\n",
    "In this notebook i will figure out some layout options for `bokeh` charts. The `gridplot()` function can be used to arrange Bokeh Plots in grid layout. Linking together various aspects of different plots can be a useful technique for data visualization. In Bokeh, such linkages are typically accomplished by sharing some plot component between plots."
   ]
  },
  {
   "cell_type": "markdown",
   "metadata": {},
   "source": [
    "### Gridplots\n",
    "gridplot() allows to create a N x M layout for visualise several plots in an ordered way. It also collects all tools into a single toolbar, and the currently active tool is the same for all plots in the grid. **It is possible to leave “empty” spaces in the grid by passing None instead of a plot object.**"
   ]
  },
  {
   "cell_type": "code",
   "execution_count": null,
   "metadata": {},
   "outputs": [],
   "source": [
    "from bokeh.layouts import gridplot\n",
    "from bokeh.palettes import Viridis3\n",
    "from bokeh.plotting import figure\n",
    "import numpy as np"
   ]
  },
  {
   "cell_type": "code",
   "execution_count": null,
   "metadata": {},
   "outputs": [],
   "source": [
    "N = 100\n",
    "x = np.linspace(0, 4*np.pi, N)\n",
    "y0 = np.sin(x)\n",
    "y1 = np.cos(x)\n",
    "y2 = np.sin(x) + np.cos(x)\n",
    "\n",
    "# create three plots\n",
    "p1 = figure(plot_width=250, plot_height=250, title=None)\n",
    "p1.circle(x, y0, size=3, color=Viridis3[0])\n",
    "\n",
    "p2 = figure(plot_width=250, plot_height=250, title=None)\n",
    "p2.circle(x, y1, size=3, color=Viridis3[1])\n",
    "\n",
    "p3 = figure(plot_width=250, plot_height=250, title=None)\n",
    "p3.circle(x, y2, size=3, color=Viridis3[2])\n",
    "\n",
    "# make a grid\n",
    "grid = gridplot([[p1, p2], [None, p3]])\n",
    "\n",
    "# show the results\n",
    "show(grid)"
   ]
  },
  {
   "cell_type": "markdown",
   "metadata": {},
   "source": [
    "For convenience you can also just pass a list of plots, and specify the number of columns you want in your grid. For example,\n",
    "\n",
    "`gridplot([[s1, s2], [s3, None]])`\n",
    "\n",
    "and\n",
    "\n",
    "`gridplot([s1, s2, s3], ncols=2)`\n",
    "\n",
    "Furthermore, you can specify the size of the plots in the gridplot istruction."
   ]
  },
  {
   "cell_type": "code",
   "execution_count": null,
   "metadata": {},
   "outputs": [],
   "source": [
    "N = 100\n",
    "x = np.linspace(0, 4*np.pi, N)\n",
    "y0 = np.sin(x)\n",
    "y1 = np.cos(x)\n",
    "y2 = np.sin(x) + np.cos(x)\n",
    "\n",
    "# create three plots\n",
    "s1 = figure()\n",
    "s1.circle(x, y0, size=3, color=Viridis3[0])\n",
    "s2 = figure()\n",
    "s2.circle(x, y1, size=3, color=Viridis3[1])\n",
    "s3 = figure()\n",
    "s3.circle(x, y2, size=3, color=Viridis3[2])\n",
    "\n",
    "# make a grid\n",
    "grid = gridplot([s1, s2, s3], ncols=2, width=250, height=250)\n",
    "\n",
    "# show the results\n",
    "show(grid)"
   ]
  },
  {
   "cell_type": "markdown",
   "metadata": {},
   "source": [
    "### Linked panning and brushing\n",
    "\n",
    "Linking together various aspects of different plots can be a useful technique for data visualization. In Bokeh, such linkages are typically accomplished by sharing some plot component between plots. Below is an example that demonstrates linked panning (where changing the range of one plot causes others to update) by sharing range objects between the plots. Some other things to look out for in this example:\n",
    "\n",
    "- calling `figure()` multiple times to create multiple plots\n",
    "- using `gridplot()` to arrange several plots in an array\n",
    "- showing new glyphs using new glyph methods Figure.triangle and Figure.square\n",
    "- hiding the toolbar by setting toolbar_location to None\n",
    "- setting convenience arguments color (sets both line_color and fill_color) and alpha (sets both line_alpha and fill_alpha)\n"
   ]
  },
  {
   "cell_type": "code",
   "execution_count": null,
   "metadata": {},
   "outputs": [],
   "source": [
    "# prepare some data\n",
    "N = 100\n",
    "x = np.linspace(0, 4*np.pi, N)\n",
    "y0 = np.sin(x)\n",
    "y1 = np.cos(x)\n",
    "y2 = np.sin(x) + np.cos(x)\n",
    "\n",
    "# create a new plot\n",
    "s1 = figure(title=None)\n",
    "s1.circle(x, y0, size=3, color=\"navy\", alpha=0.5)\n",
    "\n",
    "# NEW: create a new plot and share both ranges\n",
    "s2 = figure(x_range=s1.x_range, y_range=s1.y_range, title=None)\n",
    "s2.circle(x, y1, size=3, color=\"firebrick\", alpha=0.5)\n",
    "\n",
    "# NEW: create a new plot and share only one range\n",
    "s3 = figure(x_range=s1.x_range, title=None)\n",
    "s3.circle(x, y2, size=3, color=\"olive\", alpha=0.5)\n",
    "\n",
    "# NEW: put the subplots in a gridplot\n",
    "p = gridplot([[s1, s2, s3]], toolbar_location=None, width=250, height=250)\n",
    "\n",
    "# show the results\n",
    "show(p)"
   ]
  },
  {
   "cell_type": "markdown",
   "metadata": {},
   "source": [
    "Another linkage that is often useful is linked brushing (where a selection on one plot causes a selection to update on other plots). Below is an example that demonstrates linked brushing by sharing a [ColumnDataSource](https://bokeh.pydata.org/en/latest/docs/reference/models/sources.html#bokeh.models.sources.ColumnDataSource) between two plots:"
   ]
  },
  {
   "cell_type": "code",
   "execution_count": null,
   "metadata": {},
   "outputs": [],
   "source": [
    "from bokeh.models import ColumnDataSource\n",
    "# prepare some date\n",
    "N = 300\n",
    "x = np.linspace(0, 4*np.pi, N)\n",
    "y0 = np.sin(x)\n",
    "y1 = np.cos(x)\n",
    "\n",
    "# NEW: create a column data source for the plots to share\n",
    "source = ColumnDataSource(data=dict(x=x, y0=y0, y1=y1))\n",
    "\n",
    "TOOLS = \"pan,wheel_zoom,box_zoom,reset,save,box_select,lasso_select\"\n",
    "\n",
    "# create a new plot and add a renderer\n",
    "left = figure(tools=TOOLS, width=350, height=350, title=None)\n",
    "left.circle('x', 'y0', source=source)\n",
    "\n",
    "# create another new plot and add a renderer\n",
    "right = figure(tools=TOOLS, width=350, height=350, title=None)\n",
    "right.circle('x', 'y1', source=source)\n",
    "\n",
    "# put the subplots in a gridplot\n",
    "p = gridplot([[left, right]])\n",
    "\n",
    "# show the results\n",
    "show(p)"
   ]
  },
  {
   "cell_type": "markdown",
   "metadata": {},
   "source": [
    "### Linked Selection"
   ]
  },
  {
   "cell_type": "code",
   "execution_count": null,
   "metadata": {},
   "outputs": [],
   "source": [
    "from bokeh.io import output_file, show\n",
    "from bokeh.layouts import gridplot\n",
    "from bokeh.models import ColumnDataSource\n",
    "from bokeh.plotting import figure\n",
    "\n",
    "x = list(range(-20, 21))\n",
    "y0 = [abs(xx) for xx in x]\n",
    "y1 = [xx**2 for xx in x]\n",
    "\n",
    "# create a column data source for the plots to share\n",
    "source = ColumnDataSource(data=dict(x=x, y0=y0, y1=y1))\n",
    "\n",
    "TOOLS = \"box_select,lasso_select,help\"\n",
    "\n",
    "# create a new plot and add a renderer\n",
    "left = figure(tools=TOOLS, plot_width=300, plot_height=300, title=None)\n",
    "left.circle('x', 'y0', source=source)\n",
    "\n",
    "# create another new plot and add a renderer\n",
    "right = figure(tools=TOOLS, plot_width=300, plot_height=300, title=None)\n",
    "right.circle('x', 'y1', source=source)\n",
    "\n",
    "p = gridplot([[left, right]])\n",
    "\n",
    "show(p)"
   ]
  },
  {
   "cell_type": "markdown",
   "metadata": {},
   "source": [
    "### Linked selection with filtered data"
   ]
  },
  {
   "cell_type": "code",
   "execution_count": null,
   "metadata": {},
   "outputs": [],
   "source": [
    "from bokeh.models import ColumnDataSource, CDSView, BooleanFilter\n",
    "\n",
    "x = list(range(-20, 21))\n",
    "y0 = [abs(xx) for xx in x]\n",
    "y1 = [xx**2 for xx in x]\n",
    "\n",
    "# create a column data source for the plots to share\n",
    "source = ColumnDataSource(data=dict(x=x, y0=y0, y1=y1))\n",
    "\n",
    "# create a view of the source for one plot to use\n",
    "view = CDSView(source=source, filters=[BooleanFilter([True if y > 250 or y < 100 else False for y in y1])])\n",
    "\n",
    "TOOLS = \"box_select,lasso_select\"\n",
    "\n",
    "# create a new plot and add a renderer\n",
    "left = figure(tools=TOOLS, plot_width=300, plot_height=300, title=None)\n",
    "left.circle('x', 'y0', size=10, hover_color=\"firebrick\", source=source)\n",
    "\n",
    "# create another new plot, add a renderer that uses the view of the data source\n",
    "right = figure(tools=TOOLS, plot_width=300, plot_height=300, title=None)\n",
    "right.circle('x', 'y1', size=10, hover_color=\"firebrick\", source=source, view=view)\n",
    "\n",
    "p = gridplot([[left, right]])\n",
    "\n",
    "show(p)"
   ]
  },
  {
   "cell_type": "markdown",
   "metadata": {},
   "source": [
    "# Interaction with widgets and JS CallBacks"
   ]
  },
  {
   "cell_type": "markdown",
   "metadata": {},
   "source": [
    "## Adding Widgets"
   ]
  },
  {
   "cell_type": "markdown",
   "metadata": {},
   "source": [
    "Widgets are interactive controls that can be added to Bokeh applications to provide a front end user interface to a visualization. They can drive new computations, update plots, and connect to other programmatic functionality.\n",
    "Widgets can be added directly to the document root or nested inside a layout. There are two ways to program a widget’s functionality:\n",
    "\n",
    "- Use the `CustomJS` callback. This will work in standalone HTML documents.\n",
    "- Use `bokeh serve` to start the Bokeh server and set up event handlers. *[DESCRIBED IN OTHER NOTEBOOKS]*"
   ]
  },
  {
   "cell_type": "markdown",
   "metadata": {},
   "source": [
    "### Buttons"
   ]
  },
  {
   "cell_type": "code",
   "execution_count": null,
   "metadata": {},
   "outputs": [],
   "source": [
    "from bokeh.layouts import widgetbox"
   ]
  },
  {
   "cell_type": "code",
   "execution_count": null,
   "metadata": {},
   "outputs": [],
   "source": [
    "from bokeh.models.widgets import Button\n",
    "from bokeh.models import Column\n",
    "\n",
    "button_warning = Button(label=\"Foo Warning\", button_type=\"warning\")\n",
    "button_success = Button(label=\"Foo Success\", button_type=\"success\")\n",
    "\n",
    "show(Column(button_warning, button_success))"
   ]
  },
  {
   "cell_type": "markdown",
   "metadata": {},
   "source": [
    "### Checkbox button group"
   ]
  },
  {
   "cell_type": "code",
   "execution_count": null,
   "metadata": {},
   "outputs": [],
   "source": [
    "from bokeh.models.widgets import CheckboxButtonGroup\n",
    "\n",
    "checkbox_button_group = CheckboxButtonGroup(\n",
    "        labels=[\"Option 1\", \"Option 2\", \"Option 3\"], \n",
    "        active=[1, 2]) # active param show selected the slice you specify\n",
    "\n",
    "show(Column(checkbox_button_group))"
   ]
  },
  {
   "cell_type": "markdown",
   "metadata": {},
   "source": [
    "### Checkbox group"
   ]
  },
  {
   "cell_type": "code",
   "execution_count": null,
   "metadata": {},
   "outputs": [],
   "source": [
    "from bokeh.models.widgets import CheckboxGroup\n",
    "\n",
    "checkbox_group = CheckboxGroup(\n",
    "        labels=[\"Option 1\", \"Option 2\", \"Option 3\"], active=[0, 1])\n",
    "\n",
    "show(Column(checkbox_group))"
   ]
  },
  {
   "cell_type": "markdown",
   "metadata": {},
   "source": [
    "## Data Table\n",
    "Bokeh provides a sophisticated data table widget based on SlickGrid. Note that since the table is configured with a data source object, any plots that share this data source will automatically have selections linked between the plot and the table (even in static HTML documents). \n",
    "\n",
    "*The data table is sortable by clicking on the column name*"
   ]
  },
  {
   "cell_type": "code",
   "execution_count": null,
   "metadata": {},
   "outputs": [],
   "source": [
    "from datetime import date\n",
    "from random import randint\n",
    "from bokeh.models import ColumnDataSource\n",
    "from bokeh.models.widgets import DataTable, DateFormatter, TableColumn\n",
    "\n",
    "data = dict(\n",
    "        dates=[date(2017, 3, i+1) for i in range(10)],\n",
    "        downloads=[randint(0, 100) for i in range(10)],\n",
    "    )\n",
    "source = ColumnDataSource(data)\n",
    "\n",
    "columns = [\n",
    "        TableColumn(field=\"dates\", title=\"Date\", formatter=DateFormatter()),\n",
    "        TableColumn(field=\"downloads\", title=\"Downloads\"),\n",
    "    ]\n",
    "data_table = DataTable(source=source, columns=columns, width=400, height=280)\n",
    "\n",
    "show(Column(data_table))"
   ]
  },
  {
   "cell_type": "markdown",
   "metadata": {},
   "source": [
    "## Sliders"
   ]
  },
  {
   "cell_type": "code",
   "execution_count": null,
   "metadata": {},
   "outputs": [],
   "source": [
    "from bokeh.models.widgets import Slider, RangeSlider\n",
    "\n",
    "slider = Slider(start=0, end=10, value=3, step=.1, title=\"Slider\")\n",
    "range_slider = RangeSlider(start=0, end=10, value=(5,9), step=.1, title=\"Range Slider\")\n",
    "\n",
    "show(Column(slider, range_slider))"
   ]
  },
  {
   "cell_type": "markdown",
   "metadata": {},
   "source": [
    "## Tab panes"
   ]
  },
  {
   "cell_type": "code",
   "execution_count": null,
   "metadata": {},
   "outputs": [],
   "source": [
    "from bokeh.models.widgets import Panel, Tabs\n",
    "from bokeh.plotting import figure\n",
    "\n",
    "p1 = figure(plot_width=300, plot_height=300)\n",
    "p1.circle([1, 2, 3, 4, 5], [6, 7, 2, 4, 5], size=20, color=\"red\", alpha=0.5)\n",
    "tab1 = Panel(child=p1, title=\"circle\")\n",
    "\n",
    "p2 = figure(plot_width=300, plot_height=300)\n",
    "p2.line([1, 2, 3, 4, 5], [6, 7, 2, 4, 5], line_width=3, color=\"blue\", alpha=0.5)\n",
    "tab2 = Panel(child=p2, title=\"line\")\n",
    "\n",
    "tabs = Tabs(tabs=[ tab1, tab2 ])\n",
    "\n",
    "show(tabs)"
   ]
  },
  {
   "cell_type": "code",
   "execution_count": null,
   "metadata": {},
   "outputs": [],
   "source": [
    "from bokeh.layouts import column\n",
    "from bokeh.models import CustomJS, ColumnDataSource, Slider\n",
    "from bokeh.plotting import figure\n",
    "\n",
    "x = [x*0.005 for x in range(0, 200)]\n",
    "y = x\n",
    "\n",
    "source = ColumnDataSource(data=dict(x=x, y=y))\n",
    "\n",
    "plot = figure(plot_width=400, plot_height=400)\n",
    "plot.line('x', 'y', source=source, line_width=3, line_alpha=0.6)\n",
    "\n",
    "callback = CustomJS(args=dict(source=source), code=\"\"\"\n",
    "    var data = source.data;\n",
    "    var f = cb_obj.value\n",
    "    x = data['x']\n",
    "    y = data['y']\n",
    "    for (i = 0; i < x.length; i++) {\n",
    "        y[i] = Math.pow(x[i], f)\n",
    "    }\n",
    "    source.change.emit();\n",
    "\"\"\")\n",
    "\n",
    "slider = Slider(start=0.1, end=4, value=1, step=.1, title=\"power\")\n",
    "slider.js_on_change('value', callback)\n",
    "\n",
    "layout = column(slider, plot)\n",
    "\n",
    "show(layout)"
   ]
  },
  {
   "cell_type": "markdown",
   "metadata": {},
   "source": [
    "The above example shows how to attach a CustomJS callback to a Slider widget, so that whenever the slider value updates, the callback is executed to update some data."
   ]
  },
  {
   "cell_type": "markdown",
   "metadata": {},
   "source": [
    "# Additional Resources and Further Readings"
   ]
  },
  {
   "cell_type": "markdown",
   "metadata": {},
   "source": [
    "## Doumentation\n",
    "\n",
    "\n",
    "##### Main Page - https://bokeh.pydata.org/en/latest \n",
    "\n",
    "The main documentation front page, with links to many other resources\n",
    "\n",
    "---\n",
    "\n",
    "##### User's Guide - https://bokeh.pydata.org/en/latest/docs/user_guide.html\n",
    "\n",
    "The user's guide has many top-oriented subsections, for example \"Plotting with Basic Glyphs\", \"Configuring Plot Tools\", or \"Adding Interactions\". Each user's guide section typically example code and corresponding live plots that demonstrate how to accomplish various tasks. \n",
    "\n",
    "---\n",
    "\n",
    "##### Gallery - https://bokeh.pydata.org/en/latest/docs/gallery.html\n",
    "\n",
    "One of the best ways to learn is to find an existing example similar to what you want, and to study it and then use it as a starting place. Starting from a known working example can often save time and effort when getting started by allowing you to make small, incremental changes and observing the outcome. The Bokeh docs have a large thumbnail gallery that links to live plots and apps with corresponding code.  \n",
    "\n",
    "\n",
    "---\n",
    "\n",
    "##### Reference Guide - https://bokeh.pydata.org/en/latest/docs/reference.html\n",
    "\n",
    "If you are already familiar with Bokeh and have questions about specific details of the obejcts you are already using, the reference guide is a good resource for finding information. The reference guide is automatically generated from the project source code and is a complete resources for all bokeh models and their properties. \n",
    "\n",
    "---\n",
    "\n",
    "\n",
    "\n",
    "##### Issue tracker - https://github.com/bokeh/bokeh/issues\n",
    "\n",
    "The GitHub issue tracker is the place to go to submit ***bug reports*** and ***feature requests***. It it NOT the right place for general support questions (see the *General Community Support* links below).\n",
    "\n"
   ]
  },
  {
   "cell_type": "markdown",
   "metadata": {},
   "source": [
    "## Example apps and Scripts\n",
    "\n",
    "In addition to all the live gallery examples, Bokeh has many additional scripts and apps that can be instructive to study and emulate. \n",
    "\n",
    "##### Examples folder - https://github.com/bokeh/bokeh/tree/master/examples/\n",
    "\n",
    "The `examples` directory has many subfolders dedicated to different kinds of topics. Some of the hightlights are:\n",
    "\n",
    "* `app` - example Bokeh apps, run with \"`bokeh serve`\"\n",
    "* `howto` - some examples arranged around specific topics such as layout or notebook comms\n",
    "* `models` - examples that demonstrate the low-level `bokeh.models` API\n",
    "* `plotting` - a large collections of examples using the `bokeh.plotting` interface\n",
    "* `webgl` - some examples demonstrating WebGL usage\n",
    "\n",
    "---\n",
    "\n",
    "##### Example zipfile\n",
    "\n",
    "To make the things easier to obtain, a zip file of just the examples is also available at\n",
    "\n",
    "`https://cdn.pydata.org/bokeh/examples/examples-<x.y.z>.zip`\n",
    "\n",
    "For example, the examples zipfile for the `0.13.0` release can be found at:\n",
    "\n",
    "https://cdn.pydata.org/bokeh/examples/examples-0.13.0.zip\n",
    "\n",
    "\n"
   ]
  },
  {
   "cell_type": "markdown",
   "metadata": {},
   "source": [
    "## General Community Support\n",
    "\n",
    "Bokeh has a large and growing community. The best place to go for general support questions (either to ask, or to answer!) is one of the community support resources listed below. \n",
    "\n",
    "* Mailing list - https://groups.google.com/a/anaconda.com/forum/#!forum/bokeh\n",
    "* Gitter chat channel - https://gitter.im/bokeh/bokeh\n",
    "* StackOverflow (use `#bokeh` tag): http://stackoverflow.com/questions/tagged/bokeh\n",
    "\n"
   ]
  },
  {
   "cell_type": "markdown",
   "metadata": {},
   "source": [
    "## Contributor Resources\n",
    "\n",
    "Bokeh has a small but growinf developer community. We are always looking to have new contributors. Below are some resources for people involved in working on Bokeh itself.\n",
    "\n",
    "##### Source code - https://github.com/bokeh/bokeh\n",
    "\n",
    "Go here to clone the GitHub repo (in order to contribute or get the examples), or to submit issues to the issue tracker \n",
    "\n",
    "---\n",
    "\n",
    "##### Issue tracker - https://github.com/bokeh/bokeh/issues\n",
    "\n",
    "The GitHub issue tracker is the place to go to submit ***bug reports*** and ***feature requests***. For general support questions, see the *General Community Support* links above.\n",
    "\n",
    "---\n",
    "\n",
    "#### Developer's Guide - https://bokeh.pydata.org/en/latest/docs/dev_guide.html\n",
    "\n",
    "If you are interesting in becoming a contributor to Bokeh, the developer's guide is the place to start. It has information about getting a development environment set up, the library architecture, writing and running tests, \n",
    "\n",
    "---\n",
    "\n",
    "#### Dev Chat Channel - https://gitter.im/bokeh/bokeh-dev\n",
    "\n",
    "Come here for assistance with any questions about developing Bokeh itself. \n"
   ]
  }
 ],
 "metadata": {
  "kernelspec": {
   "display_name": "Python 3 (ipykernel)",
   "language": "python",
   "name": "python3"
  },
  "language_info": {
   "codemirror_mode": {
    "name": "ipython",
    "version": 3
   },
   "file_extension": ".py",
   "mimetype": "text/x-python",
   "name": "python",
   "nbconvert_exporter": "python",
   "pygments_lexer": "ipython3",
   "version": "3.10.4"
  }
 },
 "nbformat": 4,
 "nbformat_minor": 4
}

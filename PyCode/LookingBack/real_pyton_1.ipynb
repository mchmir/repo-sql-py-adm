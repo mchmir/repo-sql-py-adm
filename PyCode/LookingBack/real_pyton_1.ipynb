{
 "cells": [
  {
   "cell_type": "markdown",
   "source": [
    "# List Comprehensions\n"
   ],
   "metadata": {
    "collapsed": false
   }
  },
  {
   "cell_type": "markdown",
   "source": [
    "## Cписок включения без условия (генератор списка)\n",
    "\n",
    "```python\n",
    "(values) = [(expression) for (value) in (collection) ]\n",
    "```\n",
    "\n",
    "Transform into:\n",
    "\n",
    "```python\n",
    "values = []\n",
    "for (value) in (collection):\n",
    "    (values).append( (expression) )\n",
    "```\n"
   ],
   "metadata": {
    "collapsed": false
   }
  },
  {
   "cell_type": "code",
   "execution_count": 2,
   "outputs": [
    {
     "data": {
      "text/plain": "[0, 1, 4, 9, 16, 25, 36, 49, 64, 81]"
     },
     "execution_count": 2,
     "metadata": {},
     "output_type": "execute_result"
    }
   ],
   "source": [
    "squares = []\n",
    "for x in range(10):\n",
    "    squares.append(x*x)\n",
    "\n",
    "squares"
   ],
   "metadata": {
    "collapsed": false
   }
  },
  {
   "cell_type": "code",
   "execution_count": 3,
   "outputs": [
    {
     "data": {
      "text/plain": "[0, 1, 4, 9, 16, 25, 36, 49, 64, 81]"
     },
     "execution_count": 3,
     "metadata": {},
     "output_type": "execute_result"
    }
   ],
   "source": [
    "[x * x for x in range(10)]"
   ],
   "metadata": {
    "collapsed": false
   }
  },
  {
   "cell_type": "markdown",
   "source": [
    "## Cписок включения с условием (генератор списка с условием)\n",
    "\n",
    "```python\n",
    "(values) = [(expression) for (value) in (collection) if (condition) ]\n",
    "```\n",
    "\n",
    "Transform into:\n",
    "```python\n",
    "values = []\n",
    "for (value) in (collection):\n",
    "    if (condition):\n",
    "       (values).append( (expression) )\n",
    "```"
   ],
   "metadata": {
    "collapsed": false
   }
  },
  {
   "cell_type": "code",
   "execution_count": 5,
   "outputs": [
    {
     "data": {
      "text/plain": "[0, 4, 16, 36, 64]"
     },
     "execution_count": 5,
     "metadata": {},
     "output_type": "execute_result"
    }
   ],
   "source": [
    "even_squares = []\n",
    "for x in range(10):\n",
    "    if x % 2 == 0:\n",
    "        even_squares.append(x * x)\n",
    "\n",
    "even_squares"
   ],
   "metadata": {
    "collapsed": false
   }
  },
  {
   "cell_type": "code",
   "execution_count": 6,
   "outputs": [
    {
     "data": {
      "text/plain": "[0, 4, 16, 36, 64]"
     },
     "execution_count": 6,
     "metadata": {},
     "output_type": "execute_result"
    }
   ],
   "source": [
    "[x * x for x in range(10) if x % 2 == 0]"
   ],
   "metadata": {
    "collapsed": false
   }
  },
  {
   "cell_type": "markdown",
   "source": [
    "Использование list comprehensions немного быстрее, чем Python for-loops, из-за их оптимизированной реализации.\n",
    "В то же время они волшебным образом не изменяют пространственно-временную сложность лежащего в основе “алгоритма”.\n",
    "\n",
    "Это утверждение обозначает две вещи:\n",
    "1. Быстродействие: В Python \"list comprehensions\" (генераторы списков) обычно работают быстрее, чем эквивалентные циклы for, поскольку их реализация оптимизирована и они более эффективно используют ресурсы внутреннего интерпретатора Python. Однако, это не значит, что они всегда лучший выбор: генераторы списков могут быть менее читаемыми или менее очевидными в некоторых ситуациях.\n",
    "2. Пространственно-временная Сложность: Использование \"list comprehensions\" не меняет сложности алгоритма по времени и памяти. Например, если у вас есть алгоритм с временной сложностью O(n) и вы решите использовать \"list comprehension\" вместо цикла for для его реализации, временная сложность останется O(n).\n",
    "\n",
    "С другой стороны, \"list comprehensions\" могут быть более эффективными по памяти в некоторых случаях, так как они не требуют явного создания и обновления переменных в цикле. Однако это не меняет \"основную\" пространственную сложность алгоритма.\n",
    "\n",
    "В общем, \"list comprehensions\" являются удобным и эффективным инструментом для создания списков, но они не решают проблемы с производительностью или сложностью на \"алгоритмическом\" уровне."
   ],
   "metadata": {
    "collapsed": false
   }
  },
  {
   "cell_type": "markdown",
   "source": [
    "# Emulating \"switch/case\" Statements"
   ],
   "metadata": {
    "collapsed": false
   }
  },
  {
   "cell_type": "code",
   "execution_count": 8,
   "outputs": [],
   "source": [
    "def dispatch_if(operator, x, y):\n",
    "    if operator == 'add':\n",
    "        return x + y\n",
    "    elif operator == 'sub':\n",
    "        return x - y\n",
    "    elif operator == 'mul':\n",
    "        return x * y\n",
    "    elif operator == 'div':\n",
    "        return x / y\n",
    "    return None\n",
    "\n",
    "\"\"\"Фича эмулирующая блок switch/case\"\"\"\n",
    "def dispatch_dict(operator, x, y):\n",
    "    return {\n",
    "        'add' : lambda: x + y,\n",
    "        'sub' : lambda: x - y,\n",
    "        'mul' : lambda: x * y,\n",
    "        'div' : lambda: x / y,\n",
    "    }.get(operator, lambda: None)()\n",
    "\n"
   ],
   "metadata": {
    "collapsed": false
   }
  },
  {
   "cell_type": "code",
   "execution_count": 12,
   "outputs": [
    {
     "name": "stdout",
     "output_type": "stream",
     "text": [
      "CPU times: total: 0 ns\n",
      "Wall time: 0 ns\n"
     ]
    },
    {
     "data": {
      "text/plain": "15516921501.84"
     },
     "execution_count": 12,
     "metadata": {},
     "output_type": "execute_result"
    }
   ],
   "source": [
    "%%time\n",
    "\n",
    "dispatch_if('mul', 1236548, 12548.58)\n"
   ],
   "metadata": {
    "collapsed": false
   }
  },
  {
   "cell_type": "code",
   "execution_count": 10,
   "outputs": [
    {
     "name": "stdout",
     "output_type": "stream",
     "text": [
      "CPU times: total: 0 ns\n",
      "Wall time: 0 ns\n"
     ]
    },
    {
     "data": {
      "text/plain": "15516921501.84"
     },
     "execution_count": 10,
     "metadata": {},
     "output_type": "execute_result"
    }
   ],
   "source": [
    "%%time\n",
    "\n",
    "dispatch_dict('mul', 1236548, 12548.58)"
   ],
   "metadata": {
    "collapsed": false
   }
  },
  {
   "cell_type": "code",
   "execution_count": null,
   "outputs": [],
   "source": [],
   "metadata": {
    "collapsed": false
   }
  }
 ],
 "metadata": {
  "kernelspec": {
   "display_name": "Python 3",
   "language": "python",
   "name": "python3"
  },
  "language_info": {
   "codemirror_mode": {
    "name": "ipython",
    "version": 2
   },
   "file_extension": ".py",
   "mimetype": "text/x-python",
   "name": "python",
   "nbconvert_exporter": "python",
   "pygments_lexer": "ipython2",
   "version": "2.7.6"
  }
 },
 "nbformat": 4,
 "nbformat_minor": 0
}

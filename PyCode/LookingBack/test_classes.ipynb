{
 "cells": [
  {
   "cell_type": "code",
   "execution_count": 1,
   "metadata": {
    "collapsed": true
   },
   "outputs": [
    {
     "name": "stdout",
     "output_type": "stream",
     "text": [
      "<class '__main__.EmptyClass'>\n",
      "<class 'type'>\n",
      "Пустой класс без атрибутов и методов.\n",
      "<class 'type'>\n"
     ]
    }
   ],
   "source": [
    "class EmptyClass:\n",
    "    \"\"\"Пустой класс без атрибутов и методов.\"\"\"\n",
    "\n",
    "print(EmptyClass)\n",
    "print(type(EmptyClass))\n",
    "print(EmptyClass.__doc__)\n",
    "print(type(int))"
   ]
  },
  {
   "cell_type": "markdown",
   "source": [
    "## Объект объявления класса"
   ],
   "metadata": {
    "collapsed": false
   }
  },
  {
   "cell_type": "markdown",
   "source": [
    "Инструкции внутри тела класса выполняются сразу после того, как поток программы доберется до объявления класса и интерпретатор прочитает заголовок класса.\n",
    "В результате создаётся объект объявления класса (не экземпляр класса), который имеет тип type, т.е. этот объект задает новый тип данных.\n",
    "Этот объект будет использоваться в качестве фабрики для создания экземпляров\n",
    "\n",
    "Важно понимать, что все инструкции внутри тела класса выполняются в тот момент, когда интерпретатор читает объявление класса, а не когда создаются экземпляры этого класса. В примере ниже объявляется класс, но не создаётся ни один его экземпляр. Инструкция print все равно выполняется."
   ],
   "metadata": {
    "collapsed": false
   }
  },
  {
   "cell_type": "code",
   "execution_count": 2,
   "outputs": [
    {
     "name": "stdout",
     "output_type": "stream",
     "text": [
      "До создания класса MyClass\n",
      "Создаётся класс MyClass\n",
      "Класс MyClass создан\n"
     ]
    }
   ],
   "source": [
    "print(f\"До создания класса MyClass\")\n",
    "\n",
    "class MyClass:\n",
    "    print(f\"Создаётся класс MyClass\")\n",
    "\n",
    "print(f\"Класс {MyClass.__name__} создан\")"
   ],
   "metadata": {
    "collapsed": false
   }
  },
  {
   "cell_type": "markdown",
   "source": [
    "## Создание экземпляра"
   ],
   "metadata": {
    "collapsed": false
   }
  },
  {
   "cell_type": "code",
   "execution_count": 3,
   "outputs": [
    {
     "data": {
      "text/plain": "True"
     },
     "execution_count": 3,
     "metadata": {},
     "output_type": "execute_result"
    }
   ],
   "source": [
    "e = EmptyClass()\n",
    "isinstance(e, EmptyClass)"
   ],
   "metadata": {
    "collapsed": false
   }
  },
  {
   "cell_type": "markdown",
   "source": [
    "Итак, инструкция EmptyClass() создаётся экземпляр класса EmptyClass, который связывается с именем e.\n",
    "\n",
    "Команда isinstance(e, EmptyClass) демонстрирует, что созданный объект — экземпляр искомого класса. Это возможно сделать в runtime, т.к. несмотря на то,\n",
    "что тело класса EmptyClass по сути дела пустое, у созданного объекта всегда создаётся специальный атрибут __class__, который ссылается на класс,\n",
    "к которому относится экземпляр."
   ],
   "metadata": {
    "collapsed": false
   }
  },
  {
   "cell_type": "code",
   "execution_count": 4,
   "outputs": [
    {
     "data": {
      "text/plain": "__main__.EmptyClass"
     },
     "execution_count": 4,
     "metadata": {},
     "output_type": "execute_result"
    }
   ],
   "source": [
    "e.__class__"
   ],
   "metadata": {
    "collapsed": false
   }
  },
  {
   "cell_type": "code",
   "execution_count": 5,
   "outputs": [],
   "source": [
    "# Здесь объявляется атрибут x целочисленного типа, который инициализируется при создании объекта. Но в python нельзя объявить переменную\n",
    "# и не инициализировать её: каждое имя должно ссылаться на какой-то объект. Попробуем построить аналогичное объявление,\n",
    "# инициализировав атрибут числом 100.\n",
    "\n",
    "class A:\n",
    "    x = 100"
   ],
   "metadata": {
    "collapsed": false
   }
  },
  {
   "cell_type": "code",
   "execution_count": 6,
   "outputs": [
    {
     "name": "stdout",
     "output_type": "stream",
     "text": [
      "100\n"
     ]
    }
   ],
   "source": [
    "# Инструкции в теле класса выполняются не в момент создания экземпляра, а в момент чтения объявления класса интерпретатором.\n",
    "# Т.е. атрибут x должен уже существовать, несмотря на то, что не было создано ни одного экземпляра.\n",
    "# Чтобы убедиться в этом, проверим наличие атрибута x у объекта объявления класса A, используя точечную нотацию.\n",
    "\n",
    "print(A.x)"
   ],
   "metadata": {
    "collapsed": false
   }
  },
  {
   "cell_type": "code",
   "execution_count": 7,
   "outputs": [
    {
     "name": "stdout",
     "output_type": "stream",
     "text": [
      "До изменения атрибута\n",
      "100 100 100\n",
      "После изменения атрибута\n",
      "1 1 1\n"
     ]
    }
   ],
   "source": [
    "# Итак, такое объявление создаёт атрибут самого класса (атрибут объекта объявления класса).\n",
    "# В терминах C++ это статический атрибут. Иными словами, этот атрибут разделяется всеми экземплярами этого класса.\n",
    "\n",
    "a1 = A()\n",
    "a2 = A()\n",
    "\n",
    "print(\"До изменения атрибута\")\n",
    "print(A.x, a1.x, a2.x)\n",
    "\n",
    "A.x = 1\n",
    "\n",
    "print(\"После изменения атрибута\")\n",
    "print(A.x, a1.x, a2.x)"
   ],
   "metadata": {
    "collapsed": false
   }
  },
  {
   "cell_type": "markdown",
   "source": [
    "При вызове метода через экземпляр класса первым аргументом неявно передаётся ссылка на этот самый экземпляр.\n",
    "Это позволяет таким методам получать доступ к вызвавшему экземпляру, его атрибутам, методам и т.п.\n",
    "Однако программистам приходится явно указывать дополнительный параметр в объявлении метода класса на первой позиции.\n",
    "Имя этого параметра может быть произвольным, но общепринято называть его self.\n",
    "Этот параметр очень похож на this в C++, но в python приходится явно указывать этот параметр."
   ],
   "metadata": {
    "collapsed": false
   }
  },
  {
   "cell_type": "code",
   "execution_count": 8,
   "outputs": [
    {
     "name": "stdout",
     "output_type": "stream",
     "text": [
      "Метод f класса A\n"
     ]
    }
   ],
   "source": [
    "class A:\n",
    "    def f():\n",
    "        print(\"Метод f класса A\")\n",
    "\n",
    "A.f()"
   ],
   "metadata": {
    "collapsed": false
   }
  },
  {
   "cell_type": "code",
   "execution_count": 9,
   "outputs": [
    {
     "name": "stdout",
     "output_type": "stream",
     "text": [
      "A.f() takes 0 positional arguments but 1 was given\n"
     ]
    }
   ],
   "source": [
    "a = A()\n",
    "\n",
    "try:\n",
    "    a.f()\n",
    "except TypeError as msg:\n",
    "    print(msg)"
   ],
   "metadata": {
    "collapsed": false
   }
  },
  {
   "cell_type": "code",
   "execution_count": 10,
   "outputs": [
    {
     "name": "stdout",
     "output_type": "stream",
     "text": [
      "Метод f класса A\n",
      "Метод g класса A вызван с параметром 42\n"
     ]
    }
   ],
   "source": [
    "class A:\n",
    "    def f(self):\n",
    "        print(\"Метод f класса A\")\n",
    "\n",
    "    def g(self, x):\n",
    "        print(f\"Метод g класса A вызван с параметром {x}\")\n",
    "\n",
    "a = A()\n",
    "\n",
    "a.f()\n",
    "a.g(42)"
   ],
   "metadata": {
    "collapsed": false
   }
  },
  {
   "cell_type": "markdown",
   "source": [
    "Методы класса — можно считать обычными атрибутами класса.\n",
    "Они объявляются в теле класса, а значит их объекты создаются во время создания объекта объявления класса, а не во время создания экземпляра.\n",
    "Однако есть интересная деталь, которая объясняет почему первым параметром передаётся ссылка на вызвавший экземпляр:\n",
    "все функции являются дескрипторами, т.е. функции — объекты, у которых специализирован метод __get__.\n",
    "Если атрибут класса является дескриптором, то при получении доступа к нему через экземпляр класса возвращается не сам дескриптор,\n",
    "а результат вызова его метода __get__.\n",
    "\n",
    "У всех функций по умолчанию, метод __get__ принимает на вход экземпляр и тип этого экземпляра, а возвращает обертку над этой самой функцией,\n",
    "которая подставляет экземпляр класса в качестве первого аргумента при вызове функции.\n",
    "Такая обертка над функцией называется связанным методом (bound method): метод привязан к экземпляру.\n",
    "\n",
    "Ссылка на исходную функцию хранится в атрибуте __func__ связанного метода.\n",
    "\n",
    "Продемонстрируем факт того, что A.f и a.f в предыдущем примере — разные сущности."
   ],
   "metadata": {
    "collapsed": false
   }
  },
  {
   "cell_type": "code",
   "execution_count": 11,
   "outputs": [
    {
     "name": "stdout",
     "output_type": "stream",
     "text": [
      "<function A.f at 0x000001FB1E19ED40>\n",
      "<bound method A.f of <__main__.A object at 0x000001FB1E120C40>>\n",
      "False\n",
      "True\n"
     ]
    }
   ],
   "source": [
    "print(A.f) # <function A.f at 0x...>\n",
    "print(a.f) # <bound method A.f of <__main__.A object at 0x...>>\n",
    "print(A.f is a.f) # False\n",
    "print(A.f is a.f.__func__) # True"
   ],
   "metadata": {
    "collapsed": false
   }
  },
  {
   "cell_type": "code",
   "execution_count": 14,
   "outputs": [
    {
     "name": "stdout",
     "output_type": "stream",
     "text": [
      "<function A.my_static_method at 0x000001FB1E423760>\n",
      "<bound method A.my_instance_method of <__main__.A object at 0x000001FB1E7DA470>>\n",
      "Статический метод.\n",
      "Статический метод.\n"
     ]
    }
   ],
   "source": [
    "# Статические методы\n",
    "\n",
    "class A:\n",
    "    def my_instance_method(self):\n",
    "        print(\"Обычный метод.\")\n",
    "\n",
    "    @staticmethod\n",
    "    def my_static_method():\n",
    "        print(\"Статический метод.\")\n",
    "\n",
    "\n",
    "a = A()\n",
    "\n",
    "print(a.my_static_method)\n",
    "print(a.my_instance_method)\n",
    "A.my_static_method()\n",
    "a.my_static_method()"
   ],
   "metadata": {
    "collapsed": false
   }
  },
  {
   "cell_type": "markdown",
   "source": [
    "### Note\n",
    "Часто возникают сомнения, должен ли метод быть объявлен статическим внутри класса или снаружи в виде обычной функции, если они никак не взаимодействуют с экземпляром. Общего правила на это счет нет. Иногда удобно объявить метод статическим, чтобы поместить его в пространство имен класса и тем самым не только освободить глобальное пространство имен модуля, но и явно указать, что этот метод как-то связан с этим типом данных. Ещё часто статические методы применяют для реализации альтернативных конструкторов: действительно, конструктор класса, по определению не должен принимать на вход экземпляр класса, а должен его возвращать."
   ],
   "metadata": {
    "collapsed": false
   }
  },
  {
   "cell_type": "code",
   "execution_count": 15,
   "outputs": [
    {
     "name": "stdout",
     "output_type": "stream",
     "text": [
      "Инициализируется экземпляр класса A с атрибутом x = 3\n",
      "Инициализируется экземпляр класса A с атрибутом x = 42\n",
      "a1.x = 3\n",
      "a2.x = 42\n"
     ]
    }
   ],
   "source": [
    "# При создании экземпляра класса (вызов объекта объявления класса) сначала вызывается специальный метод __new__ соответствующего класса,\n",
    "# который именно создаёт объект и возвращает его. Затем у этого уже созданного объекта вызывается специальный метод __init__, который его инициализирует.\n",
    "\n",
    "class A:\n",
    "    def __init__(self, x):\n",
    "        print(f\"Инициализируется экземпляр класса A с атрибутом x = {x}\")\n",
    "        self.x = x\n",
    "\n",
    "a1 = A(3)\n",
    "a2 = A(42)\n",
    "print(f\"a1.x = {a1.x}\\na2.x = {a2.x}\")"
   ],
   "metadata": {
    "collapsed": false
   }
  },
  {
   "cell_type": "markdown",
   "source": [
    "### Публичные и не публичные поля. Справка по классу\n",
    "В python нет поистине приватных атрибутов: какие бы меры вы не приняли, будет возможно получить доступ ко всем атрибутам класса.\n",
    "От части в связи с этим, в python не принято принимать больших усилий для скрытия атрибутов.\n",
    "Вместо этого существует общепринятое правило, которое отличает публичные имена в классе от не публичных.\n",
    "\n",
    "Все атрибуты и методы, имена которых начинаются с одинарного нижнего подчеркивания, не считаются публичными.\n",
    "Разработчик класса не рассчитывает, что к ним будет осуществляться доступ напрямую вне самого класса.\n",
    "\n",
    "Все атрибуты и методы, имена которых не начинаются с нижнего подчеркивания, считаются публичными.\n",
    "\n",
    "Так, метод public_method в примере ниже считается публичным, а _private_method нет.\n",
    "\n",
    "Набор публичных атрибутов методов часто называют интерфейсом класса. Разработчик класса (модуля, библиотеки) берет на себя обязательство поддерживать интерфейс в ближайших обновлениях. Публичные методы документируются. Пользователь может смело получать доступ к публичным атрибутам и вызывать публичные методы.\n",
    "\n",
    "Остальные атрибуты и методы не входят интерфейс. Разработчик вправе не составлять исчерпывающую документацию для непубличных методов или не документировать их вовсе. Разработчик может в любой момент убрать или изменить роль любого таких атрибутов и методов по своему усмотрению (например, при рефакторинге). Пользователь обращается к ним на свой страх и риск.\n",
    "\n",
    "В частности, встроенная функция справки help не перечисляет непубличные методы."
   ],
   "metadata": {
    "collapsed": false
   }
  },
  {
   "cell_type": "code",
   "execution_count": 16,
   "outputs": [
    {
     "name": "stdout",
     "output_type": "stream",
     "text": [
      "Help on class A in module __main__:\n",
      "\n",
      "class A(builtins.object)\n",
      " |  docstring of class\n",
      " |  \n",
      " |  Methods defined here:\n",
      " |  \n",
      " |  public_method(self)\n",
      " |      docstring of method\n",
      " |  \n",
      " |  ----------------------------------------------------------------------\n",
      " |  Data descriptors defined here:\n",
      " |  \n",
      " |  __dict__\n",
      " |      dictionary for instance variables (if defined)\n",
      " |  \n",
      " |  __weakref__\n",
      " |      list of weak references to the object (if defined)\n",
      "\n"
     ]
    }
   ],
   "source": [
    "class A:\n",
    "    \"docstring of class\"\n",
    "    def public_method(self):\n",
    "        \"docstring of method\"\n",
    "\n",
    "    def _private_method(self):\n",
    "        pass\n",
    "\n",
    "help(A)"
   ],
   "metadata": {
    "collapsed": false
   }
  },
  {
   "cell_type": "markdown",
   "source": [
    "## Треугольник"
   ],
   "metadata": {
    "collapsed": false
   }
  },
  {
   "cell_type": "code",
   "execution_count": 17,
   "outputs": [],
   "source": [
    "from math import asin, sqrt, cos, sin, pi\n",
    "\n",
    "\n",
    "def degree_to_radian(angle):\n",
    "    return angle * pi / 180\n",
    "\n",
    "class Triangle:\n",
    "    \"Класс для работы с треугольниками. \"\n",
    "    def __init__(self, AB, BC, CA):\n",
    "        \"Конструктор. В качестве параметров принимает длины 3 сторон.\"\n",
    "        if not Triangle.is_valid(AB, BC, CA):\n",
    "            raise ValueError(\"Нарушено неравенство треугольника.\")\n",
    "\n",
    "        self._AB = AB\n",
    "        self._BC = BC\n",
    "        self._CA = CA\n",
    "\n",
    "    @staticmethod\n",
    "    def is_valid(AB, BC, CA):\n",
    "        \"Проверяет выполнение неравенства треугольника.\"\n",
    "        if AB + BC < CA:\n",
    "            return False\n",
    "        if BC + CA < AB:\n",
    "            return False\n",
    "        if CA + AB < BC:\n",
    "            return False\n",
    "        return True\n",
    "\n",
    "    @staticmethod\n",
    "    def _is_valid_angle(angle):\n",
    "        if angle <= 0:\n",
    "            return False\n",
    "        if angle >= pi:\n",
    "            return False\n",
    "        return True\n",
    "\n",
    "    @staticmethod\n",
    "    def from_2_edges_and_1_angle(AB, CA,  CAB, degree=False):\n",
    "        \"Конструктор. В качестве параметров принимает 2 стороны и угол между ними.\"\n",
    "        if degree:\n",
    "            CAB = degree_to_radian(CAB)\n",
    "\n",
    "        if not Triangle._is_valid_angle(CAB):\n",
    "            raise ValueError(\"Угол должен быть в интервале от 0 до Pi.\")\n",
    "\n",
    "        BC = sqrt(CA*CA + AB*AB - 2*AB*CA*cos(CAB))\n",
    "        return Triangle(AB, BC, CA)\n",
    "\n",
    "    @staticmethod\n",
    "    def from_1_edge_and_2_angles(AB, ABC, CAB, degree=False):\n",
    "        \"Конструктор. В качестве параметров принимает сторону и прилежащие углы.\"\n",
    "        if degree:\n",
    "            ABC = degree_to_radian(ABC)\n",
    "            CAB = degree_to_radian(CAB)\n",
    "\n",
    "        if not Triangle._is_valid_angle(ABC):\n",
    "            raise ValueError(\"Угол должен быть в интервале от 0 до Pi.\")\n",
    "        if not Triangle._is_valid_angle(CAB):\n",
    "            raise ValueError(\"Угол должен быть в интервале от 0 до Pi.\")\n",
    "\n",
    "        BCA = pi - ABC - CAB\n",
    "        if not Triangle._is_valid_angle(BCA):\n",
    "            raise ValueError(\"Сумма углов должна быть меньше Pi.\")\n",
    "\n",
    "        CA = AB / sin(BCA) * sin(ABC)\n",
    "        BC = AB / sin(BCA) * sin(CAB)\n",
    "        return Triangle(AB, BC, CA)\n",
    "\n",
    "    def perimeter(self):\n",
    "        \"Возвращает периметр треугольника.\"\n",
    "        return self._AB + self._BC + self._CA\n",
    "\n",
    "    def area(self):\n",
    "        \"Возвращает площадь треугольника.\"\n",
    "        p = self.perimeter() / 2.\n",
    "        return sqrt(p*(p - self._AB)*(p - self._BC)*(p - self._CA))"
   ],
   "metadata": {
    "collapsed": false
   }
  },
  {
   "cell_type": "markdown",
   "source": [
    "* Треугольник однозначно задаётся длинами его сторон, а значит разумно задать эти длины в качестве атрибутов объекта треугольника.\n",
    "\n",
    "* Далее встаёт вопрос, считать ли эти атрибуты публичными или нет? Не из любых отрезков можно сложить треугольник.\n",
    "  Чтобы треугольник с заданным набором длин сторон существовал, необходимо, чтобы выполнялось неравенство треугольника.\n",
    "  Таким образом, если сделать атрибуты публичными, то пользователь сможет по неосторожности сделать из возможного треугольника невозможный.\n",
    "  Сделаем эти атрибуты непубличными.\n",
    "\n",
    "* Треугольник с заданной комбинацией сторон может не существовать, а значит логично будет выделить отдельную процедуру для проверки неравенства треугольника Проверка на существование заданного треугольника по логике должна осуществляться до создания объекта.\n",
    "  Иначе, в какой-то момент будет существовать невозможный треугольник. По этой причине логично считать, что эта процедура должна в качестве параметров принимать длинны сторон, а не экземпляр класса.\n",
    "  Выше принято решение сделать такой метод статическим (Triangle.is_valid).\n",
    "  В качестве альтернативы можно было рассмотреть реализацию этого метода в виде функции снаружи класса.\n",
    "  При этом, так как такой метод может быть полезен и в других ситуациях, то можно сделать его публичным.\n",
    "\n",
    "* Стандартный конструктор принимает в качестве параметров длины отрезков. Если отрезки не удовлетворяют неравенству треугольника, то возбуждается исключение ValueError. В обратной ситуации создаётся объект с непубличными атрибуты.\n",
    "\n",
    "* Два альтернативных конструктора, позволяющие задавать треугольники в виде комбинации сторон и углов, реализованны в качестве статически методов.\n",
    "\n",
    "* Разумно ограничить все углы в отрезке. Для этого реализован непубличный статический метод _is_valid_angle.\n",
    "\n",
    "* Публичные методы perimeter и area вычисляют периметр и площадь треугольника соответственно."
   ],
   "metadata": {
    "collapsed": false
   }
  },
  {
   "cell_type": "code",
   "execution_count": 18,
   "outputs": [
    {
     "name": "stdout",
     "output_type": "stream",
     "text": [
      "6.0 6.0 6.0\n"
     ]
    }
   ],
   "source": [
    "t1 = Triangle(3, 4, 5)\n",
    "t2 = Triangle.from_2_edges_and_1_angle(3, 4, 90, degree=True)\n",
    "\n",
    "alpha = asin(3 / 5)\n",
    "beta = asin(4 / 5)\n",
    "t3 = Triangle.from_1_edge_and_2_angles(5, alpha, beta)\n",
    "\n",
    "print(t1.area(), t2.area(), t3.area())"
   ],
   "metadata": {
    "collapsed": false
   }
  },
  {
   "cell_type": "code",
   "execution_count": 19,
   "outputs": [
    {
     "name": "stdout",
     "output_type": "stream",
     "text": [
      "Help on class Triangle in module __main__:\n",
      "\n",
      "class Triangle(builtins.object)\n",
      " |  Triangle(AB, BC, CA)\n",
      " |  \n",
      " |  Класс для работы с треугольниками.\n",
      " |  \n",
      " |  Methods defined here:\n",
      " |  \n",
      " |  __init__(self, AB, BC, CA)\n",
      " |      Конструктор. В качестве параметров принимает длины 3 сторон.\n",
      " |  \n",
      " |  area(self)\n",
      " |      Возвращает площадь треугольника.\n",
      " |  \n",
      " |  perimeter(self)\n",
      " |      Возвращает периметр треугольника.\n",
      " |  \n",
      " |  ----------------------------------------------------------------------\n",
      " |  Static methods defined here:\n",
      " |  \n",
      " |  from_1_edge_and_2_angles(AB, ABC, CAB, degree=False)\n",
      " |      Конструктор. В качестве параметров принимает сторону и прилежащие углы.\n",
      " |  \n",
      " |  from_2_edges_and_1_angle(AB, CA, CAB, degree=False)\n",
      " |      Конструктор. В качестве параметров принимает 2 стороны и угол между ними.\n",
      " |  \n",
      " |  is_valid(AB, BC, CA)\n",
      " |      Проверяет выполнение неравенства треугольника.\n",
      " |  \n",
      " |  ----------------------------------------------------------------------\n",
      " |  Data descriptors defined here:\n",
      " |  \n",
      " |  __dict__\n",
      " |      dictionary for instance variables (if defined)\n",
      " |  \n",
      " |  __weakref__\n",
      " |      list of weak references to the object (if defined)\n",
      "\n"
     ]
    }
   ],
   "source": [
    "help(Triangle)"
   ],
   "metadata": {
    "collapsed": false
   }
  },
  {
   "cell_type": "markdown",
   "source": [
    "### Абстрактный базовый класс. Абстрактный метод.\n",
    "Модуль abc (сокращение от Abstract Base Class) предоставляет инструменты для реализации абстрактных базовых классов, т.е. классов, которые лишь задают интерфейс и не предназначены для создания экземпляров напрямую. Обычно, абстрактный базовый класс наследует от abc.ABC, а абстрактные методы помечаются декоратором abc.abstractmethod. Производные от такого абстрактного базового класса классы смогут создавать экземпляры, только если они переопределят все абстрактные методы. Если не переопределен хоть один из абстрактных методов, то python возбудит ошибку при попытке создать экземпляр. Так как тело абстрактной функции не играет никакой роли, то в нем часто возбуждают исключение NotImplementedError.\n",
    "\n",
    "В качестве примера реализуем абстрактный базовый класс Shape для геометрической фигуры. Как и в примере с треугольником, будем считать, что каждая фигура должна уметь считать свой периметр и площадь."
   ],
   "metadata": {
    "collapsed": false
   }
  },
  {
   "cell_type": "code",
   "execution_count": 20,
   "outputs": [
    {
     "name": "stdout",
     "output_type": "stream",
     "text": [
      "3.141592653589793 6.283185307179586\n"
     ]
    }
   ],
   "source": [
    "from abc import ABC, abstractmethod\n",
    "from math import pi\n",
    "\n",
    "\n",
    "class Shape(ABC):\n",
    "    @abstractmethod\n",
    "    def perimeter(self):\n",
    "        raise NotImplementedError\n",
    "\n",
    "    @abstractmethod\n",
    "    def area(self):\n",
    "        raise NotImplementedError\n",
    "\n",
    "\n",
    "class Circle(Shape):\n",
    "    def __init__(self, radius):\n",
    "        self.radius = radius\n",
    "\n",
    "    def perimeter(self):\n",
    "        return 2 * pi * self.radius\n",
    "\n",
    "    def area(self):\n",
    "        return pi * self.radius * self.radius\n",
    "\n",
    "c = Circle(1)\n",
    "print(c.area(), c.perimeter())"
   ],
   "metadata": {
    "collapsed": false
   }
  },
  {
   "cell_type": "markdown",
   "source": [
    "## Полиморфизм в python"
   ],
   "metadata": {
    "collapsed": false
   }
  },
  {
   "cell_type": "markdown",
   "source": [
    "**Ad-hoc полиморфизм** пример полиморфизма,\n",
    ">**Ad-hoc-полиморфизм** (*в русской литературе чаще всего переводится как «специальный полиморфизм» или «специализированный полиморфизм», хотя оба варианта не всегда верны*) поддерживается во многих языках посредством перегрузки функций и методов, а в слабо типизированных — также посредством приведения типов.\n",
    "\n",
    "который не свойственен для python, т.к. перегружать функции честным образом в нем нельзя: каждое следующее объявление функции с таким же именем затрет предыдущее.\n",
    "\n",
    "В python нельзя перегружать функции по типу параметров. Лучшее что вы можете сделать — проверить в runtime, какого типа аргумент, и в соответствии с этим проделать необходимые операции.\n",
    "\n",
    "**singledispatch**\n",
    "В ряде ситуаций удобно применить **singledispatch** из модуля **functools**, который позволяет как бы перегружать функции по типу первого аргумента.\n",
    "\n",
    "Сначала объявляется и декорируется наиболее общая функция, которую называют generic. Это приводит к тому, что создаётся объект-обертка с именем этой функции, у которого есть метод-декоратор register. С помощью него регистрируются все остальные реализации этой функции для разного типа первого параметра.\n",
    "\n",
    "Перегруженные версии функции объявляются с именем, отличным от имени исходной функции. Обычно это \"_\"."
   ],
   "metadata": {
    "collapsed": false
   }
  },
  {
   "cell_type": "code",
   "execution_count": 21,
   "outputs": [
    {
     "name": "stdout",
     "output_type": "stream",
     "text": [
      "2\n",
      "[2, 4, 6]\n"
     ]
    }
   ],
   "source": [
    "from functools import singledispatch\n",
    "\n",
    "@singledispatch\n",
    "def double_it(x):\n",
    "    \"\"\"\n",
    "    Generic function.\n",
    "    Общая функция.\n",
    "    Она будет вызвана,\n",
    "    если тип аргумента не соответствует ни одному зарегистрированному.\n",
    "    \"\"\"\n",
    "    raise TypeError(f\"Функция double_it вызвана с неподдерживаемым типом аргумента {type(x).__name__}\")\n",
    "\n",
    "@double_it.register(int)\n",
    "def _(x):\n",
    "    return 2 * x\n",
    "\n",
    "\n",
    "@double_it.register(list)\n",
    "def _(x):\n",
    "    return [double_it(value) for value in x]\n",
    "\n",
    "print(double_it(1))\n",
    "print(double_it([1, 2, 3]))"
   ],
   "metadata": {
    "collapsed": false
   }
  },
  {
   "cell_type": "code",
   "execution_count": null,
   "outputs": [],
   "source": [],
   "metadata": {
    "collapsed": false
   }
  }
 ],
 "metadata": {
  "kernelspec": {
   "display_name": "Python 3",
   "language": "python",
   "name": "python3"
  },
  "language_info": {
   "codemirror_mode": {
    "name": "ipython",
    "version": 2
   },
   "file_extension": ".py",
   "mimetype": "text/x-python",
   "name": "python",
   "nbconvert_exporter": "python",
   "pygments_lexer": "ipython2",
   "version": "2.7.6"
  }
 },
 "nbformat": 4,
 "nbformat_minor": 0
}

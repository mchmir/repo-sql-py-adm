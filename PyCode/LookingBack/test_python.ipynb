{
 "cells": [
  {
   "cell_type": "code",
   "execution_count": 1,
   "metadata": {
    "collapsed": true
   },
   "outputs": [
    {
     "name": "stdout",
     "output_type": "stream",
     "text": [
      "More\n"
     ]
    }
   ],
   "source": [
    "# Тернарный оператор — это оператор, который используется для отображения условных операторов.\n",
    "# Он состоит из истинных или ложных значений с утверждением, которое нужно проверить\n",
    "\n",
    "#Пример тернарного оператора\n",
    "a = 1\n",
    "#Значения true\n",
    "if a < 1:\n",
    "   print('Less')\n",
    "#Если не выполнилось предыдущее значение\n",
    "else:\n",
    "   print('More')\n"
   ]
  },
  {
   "cell_type": "code",
   "execution_count": 2,
   "outputs": [
    {
     "name": "stdout",
     "output_type": "stream",
     "text": [
      "0\n",
      "test\n",
      "1\n",
      "test2\n",
      "2\n",
      "test3\n"
     ]
    }
   ],
   "source": [
    "# Метод enumerate() добавляет счётчик к итерируемому и возвращает его в виде объекта перечисления (enumerate).\n",
    "# Объект будет состоять из счётчика и итерационных значений.\n",
    "\n",
    "#Пример enumerate\n",
    "iter_example = ['test', 'test2', 'test3']\n",
    "for idx, val in enumerate(iter_example):\n",
    "   print(idx)\n",
    "   print(val)"
   ],
   "metadata": {
    "collapsed": false
   }
  },
  {
   "cell_type": "code",
   "execution_count": 4,
   "outputs": [
    {
     "name": "stdout",
     "output_type": "stream",
     "text": [
      "{0: 's', 1: 'a', 2: 'm', 3: 'p', 4: 'l', 5: 'e'}\n",
      "[0, 1, 2, 3, 4]\n"
     ]
    }
   ],
   "source": [
    "# Что такое абстракции у словаря и списка в Python?\n",
    "# Они представляют собой синтаксические конструкции, облегчающие создание словаря или списка на основе существующих итеруемых.\n",
    "# Создание происходит циклом внутри самого объекта.\n",
    "\n",
    "#Абстракция словаря\n",
    "dict_comprehension = {key:val for key, val in enumerate('sample')}\n",
    "print(dict_comprehension)\n",
    "\n",
    "#Абстракция списка\n",
    "list_comprehension = [i for i in range(5)]\n",
    "print(list_comprehension)"
   ],
   "metadata": {
    "collapsed": false
   }
  },
  {
   "cell_type": "code",
   "execution_count": 5,
   "outputs": [
    {
     "name": "stdout",
     "output_type": "stream",
     "text": [
      "[100, 2, 3, 4, 5]\n"
     ]
    }
   ],
   "source": [
    "# Поверхностная копия используется при создании нового типа экземпляра и сохраняет значения, скопированные в новом.\n",
    "# Также она используется для копирования ссылочных указателей. Это означает, что когда мы копируем объект в другую переменную, он будет привязан.\n",
    "\n",
    "#Пример поверхностной копии\n",
    "list_example = [1,2,3,4,5]\n",
    "another_list = list_example\n",
    "another_list[0] = 100\n",
    "print(list_example)"
   ],
   "metadata": {
    "collapsed": false
   }
  },
  {
   "cell_type": "code",
   "execution_count": 6,
   "outputs": [
    {
     "name": "stdout",
     "output_type": "stream",
     "text": [
      "[1, 2, 3, 4, 5]\n"
     ]
    }
   ],
   "source": [
    "# Глубокая копия используется для хранения значений, которые уже скопированы.\n",
    "# Глубокая копия не копирует ссылочные указатели на объекты.\n",
    "# Она создает ссылку на объект, и новый объект, на который указывает другой, сохраняется.\n",
    "# В отличие от неглубокой копии, изменения, внесенные в исходную копию, не повлияют ни на одну другую копию, использующую объект.\n",
    "# Это значит, что они не привязаны.\n",
    "\n",
    "#Пример глубокой копии\n",
    "list_example = [1,2,3,4,5]\n",
    "#Создание глубокой копии с помощью атрибута .copy\n",
    "another_list = list_example.copy()\n",
    "another_list[0] = 100\n",
    "print(list_example)"
   ],
   "metadata": {
    "collapsed": false
   }
  },
  {
   "cell_type": "code",
   "execution_count": 7,
   "outputs": [
    {
     "name": "stdout",
     "output_type": "stream",
     "text": [
      "apple grape orange\n"
     ]
    }
   ],
   "source": [
    "# Как преобразовать список в строку?\n",
    "# В этом случае мы могли бы использовать атрибут .join() из строкового объекта.\n",
    "# Здесь мы передали объект списка в атрибут:\n",
    "\n",
    "list_example = ['apple', 'grape', 'orange']\n",
    "print(' '.join(list_example))"
   ],
   "metadata": {
    "collapsed": false
   }
  },
  {
   "cell_type": "code",
   "execution_count": 9,
   "outputs": [
    {
     "name": "stdout",
     "output_type": "stream",
     "text": [
      "[(1, 'apple', 'x'), (2, 'grape', 2), (3, 'orange', True)]\n",
      "1\n",
      "apple\n",
      "x\n",
      "2\n",
      "grape\n",
      "2\n",
      "3\n",
      "orange\n",
      "True\n"
     ]
    }
   ],
   "source": [
    "# Пример функции Zip\n",
    "\n",
    "print(list(zip([1,2,3], ['apple', 'grape', 'orange'], ['x', 2, True])))\n",
    "\n",
    "# можем итерироваться сразу по нескольким спискам\n",
    "for num, fruit, thing in zip([1,2,3], ['apple', 'grape', 'orange'], ['x', 2, True]):\n",
    "    print(num)\n",
    "    print(fruit)\n",
    "    print(thing)"
   ],
   "metadata": {
    "collapsed": false
   }
  },
  {
   "cell_type": "code",
   "execution_count": 10,
   "outputs": [
    {
     "data": {
      "text/plain": "'C:\\\\_git\\\\repo-sql-py-adm\\\\PyCode\\\\LookingBack'"
     },
     "execution_count": 10,
     "metadata": {},
     "output_type": "execute_result"
    }
   ],
   "source": [
    "# Как получить текущий рабочий каталог с помощью Python?\n",
    "\n",
    "import os\n",
    "os.getcwd()"
   ],
   "metadata": {
    "collapsed": false
   }
  },
  {
   "cell_type": "code",
   "execution_count": 14,
   "outputs": [
    {
     "data": {
      "text/plain": "'3.10.12 | packaged by Anaconda, Inc. | (main, Jul  5 2023, 19:09:20) [MSC v.1916 64 bit (AMD64)]'"
     },
     "execution_count": 14,
     "metadata": {},
     "output_type": "execute_result"
    }
   ],
   "source": [
    "# Как получить текущую версию Python?\n",
    "\n",
    "import sys\n",
    "sys.version"
   ],
   "metadata": {
    "collapsed": false
   }
  },
  {
   "cell_type": "code",
   "execution_count": 18,
   "outputs": [
    {
     "data": {
      "text/plain": "'3.10.12'"
     },
     "execution_count": 18,
     "metadata": {},
     "output_type": "execute_result"
    }
   ],
   "source": [
    "sys.version[:7]"
   ],
   "metadata": {
    "collapsed": false
   }
  },
  {
   "cell_type": "code",
   "execution_count": 21,
   "outputs": [
    {
     "name": "stdout",
     "output_type": "stream",
     "text": [
      "    *\n",
      "   ***\n",
      "  *****\n",
      " *******\n",
      "*********\n"
     ]
    }
   ],
   "source": [
    "# Напишите программу на Python, чтобы создать треугольник из звёзд\n",
    "\n",
    "def star_triangle(r):\n",
    "   for x in range(r):\n",
    "      print(' '*(r-x-1)+'*'*(2*x+1))\n",
    "star_triangle(5)"
   ],
   "metadata": {
    "collapsed": false
   }
  },
  {
   "cell_type": "code",
   "execution_count": 28,
   "outputs": [
    {
     "ename": "UnboundLocalError",
     "evalue": "local variable 'counter' referenced before assignment",
     "output_type": "error",
     "traceback": [
      "\u001B[1;31m---------------------------------------------------------------------------\u001B[0m",
      "\u001B[1;31mUnboundLocalError\u001B[0m                         Traceback (most recent call last)",
      "Cell \u001B[1;32mIn[28], line 5\u001B[0m\n\u001B[0;32m      2\u001B[0m    counter \u001B[38;5;241m+\u001B[39m\u001B[38;5;241m=\u001B[39m \u001B[38;5;241m1\u001B[39m\n\u001B[0;32m      3\u001B[0m    \u001B[38;5;28;01mreturn\u001B[39;00m counter\n\u001B[1;32m----> 5\u001B[0m \u001B[38;5;28mprint\u001B[39m(\u001B[43mincrement\u001B[49m\u001B[43m(\u001B[49m\u001B[43m)\u001B[49m)\n",
      "Cell \u001B[1;32mIn[28], line 2\u001B[0m, in \u001B[0;36mincrement\u001B[1;34m()\u001B[0m\n\u001B[0;32m      1\u001B[0m \u001B[38;5;28;01mdef\u001B[39;00m \u001B[38;5;21mincrement\u001B[39m():\n\u001B[1;32m----> 2\u001B[0m    counter \u001B[38;5;241m+\u001B[39m\u001B[38;5;241m=\u001B[39m \u001B[38;5;241m1\u001B[39m\n\u001B[0;32m      3\u001B[0m    \u001B[38;5;28;01mreturn\u001B[39;00m counter\n",
      "\u001B[1;31mUnboundLocalError\u001B[0m: local variable 'counter' referenced before assignment"
     ]
    }
   ],
   "source": [
    "def increment():\n",
    "   counter += 1\n",
    "   return counter\n",
    "\n",
    "print(increment())"
   ],
   "metadata": {
    "collapsed": false
   }
  },
  {
   "cell_type": "code",
   "execution_count": 29,
   "outputs": [
    {
     "ename": "UnboundLocalError",
     "evalue": "local variable 'counter' referenced before assignment",
     "output_type": "error",
     "traceback": [
      "\u001B[1;31m---------------------------------------------------------------------------\u001B[0m",
      "\u001B[1;31mUnboundLocalError\u001B[0m                         Traceback (most recent call last)",
      "Cell \u001B[1;32mIn[29], line 7\u001B[0m\n\u001B[0;32m      4\u001B[0m    counter \u001B[38;5;241m=\u001B[39m counter \u001B[38;5;241m+\u001B[39m \u001B[38;5;241m1\u001B[39m\n\u001B[0;32m      5\u001B[0m    \u001B[38;5;28;01mreturn\u001B[39;00m counter\n\u001B[1;32m----> 7\u001B[0m \u001B[38;5;28mprint\u001B[39m(\u001B[43mincrement\u001B[49m\u001B[43m(\u001B[49m\u001B[43m)\u001B[49m)\n",
      "Cell \u001B[1;32mIn[29], line 4\u001B[0m, in \u001B[0;36mincrement\u001B[1;34m()\u001B[0m\n\u001B[0;32m      3\u001B[0m \u001B[38;5;28;01mdef\u001B[39;00m \u001B[38;5;21mincrement\u001B[39m():\n\u001B[1;32m----> 4\u001B[0m    counter \u001B[38;5;241m=\u001B[39m \u001B[43mcounter\u001B[49m \u001B[38;5;241m+\u001B[39m \u001B[38;5;241m1\u001B[39m\n\u001B[0;32m      5\u001B[0m    \u001B[38;5;28;01mreturn\u001B[39;00m counter\n",
      "\u001B[1;31mUnboundLocalError\u001B[0m: local variable 'counter' referenced before assignment"
     ]
    }
   ],
   "source": [
    "counter = 0\n",
    "\n",
    "def increment():\n",
    "   counter = counter + 1\n",
    "   return counter\n",
    "\n",
    "print(increment())"
   ],
   "metadata": {
    "collapsed": false
   }
  },
  {
   "cell_type": "code",
   "execution_count": 30,
   "outputs": [
    {
     "name": "stdout",
     "output_type": "stream",
     "text": [
      "1\n"
     ]
    }
   ],
   "source": [
    "# Если вы хотите использовать глобальную переменную counter внутри функции increment(),\n",
    "# вам необходимо явно указать, что переменная counter является глобальной.\n",
    "# Иначе интерпретатор Python будет искать локальную переменную counter внутри функции и возникнет ошибка.\n",
    "\n",
    "counter = 0\n",
    "\n",
    "def increment():\n",
    "    global counter  # Объявление переменной counter как глобальной\n",
    "    counter = counter + 1\n",
    "    return counter\n",
    "\n",
    "print(increment())"
   ],
   "metadata": {
    "collapsed": false
   }
  },
  {
   "cell_type": "code",
   "execution_count": 31,
   "outputs": [
    {
     "name": "stdout",
     "output_type": "stream",
     "text": [
      "1\n"
     ]
    }
   ],
   "source": [
    "def increment():\n",
    "    counter = 0  # Объявление переменной counter и присвоение начального значения\n",
    "    counter = counter + 1  # Увеличение значения переменной counter на 1\n",
    "    return counter\n",
    "\n",
    "print(increment())  # Вывод результата вызова функции"
   ],
   "metadata": {
    "collapsed": false
   }
  },
  {
   "cell_type": "code",
   "execution_count": 33,
   "outputs": [
    {
     "name": "stdout",
     "output_type": "stream",
     "text": [
      "1\n",
      "0\n"
     ]
    }
   ],
   "source": [
    "counter = 0\n",
    "\n",
    "def increment():\n",
    "   counter =  1\n",
    "   return counter\n",
    "\n",
    "print(increment())\n",
    "print(counter)"
   ],
   "metadata": {
    "collapsed": false
   }
  },
  {
   "cell_type": "code",
   "execution_count": 34,
   "outputs": [
    {
     "data": {
      "text/plain": "['hello', 'again', 'world', '!']"
     },
     "execution_count": 34,
     "metadata": {},
     "output_type": "execute_result"
    }
   ],
   "source": [
    "# Как разделить строку на список?\n",
    "# Мы можем использовать атрибут split().\n",
    "# Он принимает разделитель в качестве аргумента и возвращает список, состоящий из результатов разделения строки на его основе.\n",
    "\n",
    "text = 'hello again world !'\n",
    "text.split(' ')"
   ],
   "metadata": {
    "collapsed": false
   }
  },
  {
   "cell_type": "code",
   "execution_count": 35,
   "outputs": [
    {
     "name": "stdout",
     "output_type": "stream",
     "text": [
      "palindrome\n"
     ]
    }
   ],
   "source": [
    "# Напишите программу на Python, чтобы проверить, является ли последовательность, которую вы вводите, палиндромом.\n",
    "\n",
    "a=input(\"enter the sequence: \")\n",
    "b=a[::-1]\n",
    "if a==b:\n",
    "   print(\"palindrome\")\n",
    "else:\n",
    "   print(\"Not a Palindrome\")"
   ],
   "metadata": {
    "collapsed": false
   }
  },
  {
   "cell_type": "code",
   "execution_count": 36,
   "outputs": [
    {
     "name": "stdout",
     "output_type": "stream",
     "text": [
      "5\n",
      "4\n",
      "3\n",
      "2\n",
      "1\n"
     ]
    }
   ],
   "source": [
    "# yield - это ключевое слово в Python, которое используется в определении генераторов. Генераторы являются специальным типом функций,\n",
    "# которые могут приостанавливать свое выполнение и возвращать промежуточное значение.\n",
    "# Когда генератор вызывается, # он возвращает итератор, с помощью которого можно получить последовательность значений, которые генерирует функция.\n",
    "# Основная особенность yield состоит в том, что оно приостанавливает выполнение функции и сохраняет свое состояние.\n",
    "# Затем, при каждом вызове next() на итераторе, выполнение функции возобновляется с сохраненного состояния и продолжает работу\n",
    "# до следующего выражения yield.\n",
    "# Таким образом, значения генерируются по одному в каждой итерации.\n",
    "\n",
    "def countdown(n):\n",
    "    while n > 0:\n",
    "        yield n\n",
    "        n -= 1\n",
    "\n",
    "# Создание генератора\n",
    "generator = countdown(5)\n",
    "\n",
    "# Использование генератора для получения значений\n",
    "print(next(generator))  # Выводит 5\n",
    "print(next(generator))  # Выводит 4\n",
    "print(next(generator))  # Выводит 3\n",
    "print(next(generator))  # Выводит 2\n",
    "print(next(generator))  # Выводит 1"
   ],
   "metadata": {
    "collapsed": false
   }
  },
  {
   "cell_type": "code",
   "execution_count": 38,
   "outputs": [
    {
     "name": "stdout",
     "output_type": "stream",
     "text": [
      "1\n",
      "4\n",
      "9\n",
      "16\n",
      "25\n",
      "36\n",
      "49\n"
     ]
    }
   ],
   "source": [
    "def squares(n):\n",
    "    i=1\n",
    "    while i<=n:\n",
    "        yield i**2\n",
    "        i+=1\n",
    "\n",
    "for i in squares(7):\n",
    "    print(i)"
   ],
   "metadata": {
    "collapsed": false
   }
  },
  {
   "cell_type": "markdown",
   "source": [
    "### Наследование"
   ],
   "metadata": {
    "collapsed": false
   }
  },
  {
   "cell_type": "code",
   "execution_count": 39,
   "outputs": [
    {
     "name": "stdout",
     "output_type": "stream",
     "text": [
      "Child constructor\n",
      "Parent constructor\n",
      "Parent method\n",
      "Child method\n"
     ]
    }
   ],
   "source": [
    "# Единичное наследование:\n",
    "\n",
    "class Parent:\n",
    "    def __init__(self):\n",
    "        print(\"Parent constructor\")\n",
    "\n",
    "    def parent_method(self):\n",
    "        print(\"Parent method\")\n",
    "\n",
    "class Child(Parent):\n",
    "    def __init__(self):\n",
    "        print(\"Child constructor\")\n",
    "        super().__init__()  # Вызов конструктора родительского класса\n",
    "\n",
    "    def child_method(self):\n",
    "        print(\"Child method\")\n",
    "\n",
    "child = Child()\n",
    "child.parent_method()  # Вызов метода родительского класса\n",
    "child.child_method()  # Вызов метода дочернего класса"
   ],
   "metadata": {
    "collapsed": false
   }
  },
  {
   "cell_type": "code",
   "execution_count": 40,
   "outputs": [
    {
     "name": "stdout",
     "output_type": "stream",
     "text": [
      "Grandparent method\n",
      "Parent method\n",
      "Child method\n"
     ]
    }
   ],
   "source": [
    "# Многоуровневое наследование:\n",
    "\n",
    "class Grandparent:\n",
    "    def grandparent_method(self):\n",
    "        print(\"Grandparent method\")\n",
    "\n",
    "class Parent(Grandparent):\n",
    "    def parent_method(self):\n",
    "        print(\"Parent method\")\n",
    "\n",
    "class Child(Parent):\n",
    "    def child_method(self):\n",
    "        print(\"Child method\")\n",
    "\n",
    "child = Child()\n",
    "child.grandparent_method()  # Вызов метода класса-предка\n",
    "child.parent_method()  # Вызов метода родительского класса\n",
    "child.child_method()  # Вызов метода дочернего класса\n"
   ],
   "metadata": {
    "collapsed": false
   }
  },
  {
   "cell_type": "code",
   "execution_count": 41,
   "outputs": [
    {
     "name": "stdout",
     "output_type": "stream",
     "text": [
      "Parent method\n",
      "Child 1 method\n",
      "Parent method\n",
      "Child 2 method\n"
     ]
    }
   ],
   "source": [
    "# Иерархическое наследование:\n",
    "\n",
    "class Parent:\n",
    "    def parent_method(self):\n",
    "        print(\"Parent method\")\n",
    "\n",
    "class Child1(Parent):\n",
    "    def child1_method(self):\n",
    "        print(\"Child 1 method\")\n",
    "\n",
    "class Child2(Parent):\n",
    "    def child2_method(self):\n",
    "        print(\"Child 2 method\")\n",
    "\n",
    "child1 = Child1()\n",
    "child2 = Child2()\n",
    "\n",
    "child1.parent_method()  # Вызов метода родительского класса\n",
    "child1.child1_method()  # Вызов метода дочернего класса 1\n",
    "\n",
    "child2.parent_method()  # Вызов метода родительского класса\n",
    "child2.child2_method()  # Вызов метода дочернего класса 2\n"
   ],
   "metadata": {
    "collapsed": false
   }
  },
  {
   "cell_type": "code",
   "execution_count": 42,
   "outputs": [
    {
     "name": "stdout",
     "output_type": "stream",
     "text": [
      "Parent 1 method\n",
      "Parent 2 method\n",
      "Child method\n"
     ]
    }
   ],
   "source": [
    "# Множественное наследование:\n",
    "\n",
    "class Parent1:\n",
    "    def method1(self):\n",
    "        print(\"Parent 1 method\")\n",
    "\n",
    "class Parent2:\n",
    "    def method2(self):\n",
    "        print(\"Parent 2 method\")\n",
    "\n",
    "class Child(Parent1, Parent2):\n",
    "    def child_method(self):\n",
    "        print(\"Child method\")\n",
    "\n",
    "child = Child()\n",
    "child.method1()  # Вызов метода класса-предка 1\n",
    "child.method2()  # Вызов метода класса-предка 2\n",
    "child.child_method()  # Вызов метода дочернего класса\n"
   ],
   "metadata": {
    "collapsed": false
   }
  },
  {
   "cell_type": "markdown",
   "source": [
    "###"
   ],
   "metadata": {
    "collapsed": false
   }
  },
  {
   "cell_type": "code",
   "execution_count": 43,
   "outputs": [
    {
     "name": "stdout",
     "output_type": "stream",
     "text": [
      "1\n",
      "2\n",
      "3\n",
      "4\n",
      "5\n"
     ]
    }
   ],
   "source": [
    "# Распаковка списка (list unpacking) в Python - это процесс извлечения элементов из списка и присваивания их отдельным переменным.\n",
    "# При распаковке списка каждый элемент списка соответствует одной переменной, и значения элементов присваиваются этим переменным в соответствующем порядке.\n",
    "# Распаковка списка осуществляется с использованием оператора распаковки * (звездочка) перед именем списка.\n",
    "\n",
    "numbers = [1, 2, 3, 4, 5]\n",
    "a, b, c, d, e = numbers\n",
    "\n",
    "print(a)  # Выводит: 1\n",
    "print(b)  # Выводит: 2\n",
    "print(c)  # Выводит: 3\n",
    "print(d)  # Выводит: 4\n",
    "print(e)  # Выводит: 5"
   ],
   "metadata": {
    "collapsed": false
   }
  },
  {
   "cell_type": "code",
   "execution_count": 44,
   "outputs": [
    {
     "name": "stdout",
     "output_type": "stream",
     "text": [
      "6\n",
      "[1, 2, 3, 4, 5, 6]\n"
     ]
    }
   ],
   "source": [
    "# Распаковка списка в аргументы функции\n",
    "def add(a, b, c):\n",
    "    return a + b + c\n",
    "\n",
    "numbers = [1, 2, 3]\n",
    "result = add(*numbers)\n",
    "print(result)  # Выводит: 6\n",
    "\n",
    "# Создание нового списка с помощью оператора распаковки\n",
    "first_list = [1, 2, 3]\n",
    "second_list = [4, 5, 6]\n",
    "combined_list = [*first_list, *second_list]\n",
    "print(combined_list)  # Выводит: [1, 2, 3, 4, 5, 6]"
   ],
   "metadata": {
    "collapsed": false
   }
  },
  {
   "cell_type": "code",
   "execution_count": 45,
   "outputs": [
    {
     "name": "stdout",
     "output_type": "stream",
     "text": [
      "3\n",
      "4\n"
     ]
    }
   ],
   "source": [
    "# Распаковка кортежа (tuple unpacking) в Python работает аналогично распаковке списка.\n",
    "# Она позволяет извлекать элементы из кортежа и присваивать их отдельным переменным.\n",
    "# Распаковка кортежа осуществляется так же, как и распаковка списка, с использованием оператора распаковки * (звездочка) перед именем кортежа.\n",
    "\n",
    "point = (3, 4)\n",
    "x, y = point\n",
    "\n",
    "print(x)  # Выводит: 3\n",
    "print(y)  # Выводит: 4"
   ],
   "metadata": {
    "collapsed": false
   }
  },
  {
   "cell_type": "code",
   "execution_count": 46,
   "outputs": [
    {
     "name": "stdout",
     "output_type": "stream",
     "text": [
      "12\n",
      "(1, 2, 3, 4)\n"
     ]
    }
   ],
   "source": [
    "# Распаковка кортежа в аргументы функции\n",
    "def multiply(a, b):\n",
    "    return a * b\n",
    "\n",
    "point = (3, 4)\n",
    "result = multiply(*point)\n",
    "print(result)  # Выводит: 12\n",
    "\n",
    "# Создание нового кортежа с помощью оператора распаковки\n",
    "first_tuple = (1, 2)\n",
    "second_tuple = (3, 4)\n",
    "combined_tuple = (*first_tuple, *second_tuple)\n",
    "print(combined_tuple)  # Выводит: (1, 2, 3, 4)"
   ],
   "metadata": {
    "collapsed": false
   }
  },
  {
   "cell_type": "code",
   "execution_count": 47,
   "outputs": [
    {
     "name": "stdout",
     "output_type": "stream",
     "text": [
      "Alice\n",
      "25\n",
      "New York\n"
     ]
    }
   ],
   "source": [
    "# Распаковка словаря (dictionary unpacking) в Python позволяет извлекать пары ключ-значение из словаря и присваивать их отдельным переменным.\n",
    "# Это полезно, когда нужно работать с отдельными элементами словаря.\n",
    "# Распаковка словаря осуществляется с использованием двойной звездочки ** перед именем словаря.\n",
    "\n",
    "person = {'name': 'Alice', 'age': 25, 'city': 'New York'}\n",
    "name, age, city = person.values()\n",
    "\n",
    "print(name)  # Выводит: Alice\n",
    "print(age)   # Выводит: 25\n",
    "print(city)  # Выводит: New York"
   ],
   "metadata": {
    "collapsed": false
   }
  },
  {
   "cell_type": "code",
   "execution_count": 48,
   "outputs": [
    {
     "name": "stdout",
     "output_type": "stream",
     "text": [
      "Привет, меня зовут Alice и мне 25 лет.\n"
     ]
    }
   ],
   "source": [
    "def greet(name, age):\n",
    "    print(f\"Привет, меня зовут {name} и мне {age} лет.\")\n",
    "\n",
    "person = {'name': 'Alice', 'age': 25}\n",
    "greet(**person)"
   ],
   "metadata": {
    "collapsed": false
   }
  },
  {
   "cell_type": "code",
   "execution_count": 49,
   "outputs": [
    {
     "name": "stdout",
     "output_type": "stream",
     "text": [
      "H\n",
      "e\n",
      "l\n",
      "l\n",
      "o\n"
     ]
    }
   ],
   "source": [
    "# В Python можно распаковывать строки (string unpacking) для извлечения отдельных символов и присваивания их переменным.\n",
    "# Распаковка строки осуществляется так же, как и распаковка других итерируемых объектов, с использованием оператора распаковки *.\n",
    "# Однако, следует учесть, что каждый символ в строке будет считаться отдельным элементом.\n",
    "\n",
    "word = \"Hello\"\n",
    "a, b, c, d, e = word\n",
    "\n",
    "print(a)  # Выводит: H\n",
    "print(b)  # Выводит: e\n",
    "print(c)  # Выводит: l\n",
    "print(d)  # Выводит: l\n",
    "print(e)  # Выводит: o"
   ],
   "metadata": {
    "collapsed": false
   }
  },
  {
   "cell_type": "code",
   "execution_count": 50,
   "outputs": [
    {
     "name": "stdout",
     "output_type": "stream",
     "text": [
      "Число больше или равно 5\n"
     ]
    }
   ],
   "source": [
    "# тернарный оператор\n",
    "\n",
    "# Тернарный оператор (также известный как условный оператор) - это оператор,\n",
    "# который позволяет сократить запись условного выражения в виде одной строки.\n",
    "\n",
    "x = 10\n",
    "result = \"Число меньше 5\" if x < 5 else \"Число больше или равно 5\"\n",
    "print(result)"
   ],
   "metadata": {
    "collapsed": false
   }
  },
  {
   "cell_type": "code",
   "execution_count": 51,
   "outputs": [
    {
     "data": {
      "text/plain": "'1,2,3,4,5'"
     },
     "execution_count": 51,
     "metadata": {},
     "output_type": "execute_result"
    }
   ],
   "source": [
    "# Функция join() позволяет соединять символы строки (string), чередуя с указанным символом.\n",
    "\n",
    "','.join('12345')"
   ],
   "metadata": {
    "collapsed": false
   }
  },
  {
   "cell_type": "code",
   "execution_count": 52,
   "outputs": [
    {
     "ename": "TypeError",
     "evalue": "object of type 'map' has no len()",
     "output_type": "error",
     "traceback": [
      "\u001B[1;31m---------------------------------------------------------------------------\u001B[0m",
      "\u001B[1;31mTypeError\u001B[0m                                 Traceback (most recent call last)",
      "Cell \u001B[1;32mIn[52], line 3\u001B[0m\n\u001B[0;32m      1\u001B[0m x\u001B[38;5;241m=\u001B[39m[\u001B[38;5;124m'\u001B[39m\u001B[38;5;124mab\u001B[39m\u001B[38;5;124m'\u001B[39m, \u001B[38;5;124m'\u001B[39m\u001B[38;5;124mcd\u001B[39m\u001B[38;5;124m'\u001B[39m]\n\u001B[1;32m----> 3\u001B[0m \u001B[38;5;28mprint\u001B[39m(\u001B[38;5;28;43mlen\u001B[39;49m\u001B[43m(\u001B[49m\u001B[38;5;28;43mmap\u001B[39;49m\u001B[43m(\u001B[49m\u001B[38;5;28;43mlist\u001B[39;49m\u001B[43m,\u001B[49m\u001B[43mx\u001B[49m\u001B[43m)\u001B[49m\u001B[43m)\u001B[49m)\n",
      "\u001B[1;31mTypeError\u001B[0m: object of type 'map' has no len()"
     ]
    }
   ],
   "source": [
    "x=['ab', 'cd']\n",
    "\n",
    "print(len(map(list,x)))\n",
    "\n",
    "# Здесь будет ошибка определения типа (TypeError).\n",
    "# Ее причиной является отсутствие атрибута len() у функции map().\n",
    "# Это можно проверить функцией dir()."
   ],
   "metadata": {
    "collapsed": false
   }
  },
  {
   "cell_type": "code",
   "execution_count": 55,
   "outputs": [
    {
     "name": "stdout",
     "output_type": "stream",
     "text": [
      "[['a', 'b'], ['c', 'd']]\n"
     ]
    }
   ],
   "source": [
    "x=['ab', 'cd']\n",
    "\n",
    "print(list(map(list,x)))"
   ],
   "metadata": {
    "collapsed": false
   }
  },
  {
   "cell_type": "code",
   "execution_count": 56,
   "outputs": [
    {
     "name": "stdout",
     "output_type": "stream",
     "text": [
      "John\n",
      "30\n",
      "New York\n"
     ]
    }
   ],
   "source": [
    "import json\n",
    "\n",
    "# JSON data as a string\n",
    "json_string = '{\"name\": \"John\", \"age\": 30, \"city\": \"New York\"}'\n",
    "\n",
    "# parse JSON data into a Python dictionary\n",
    "data = json.loads(json_string)\n",
    "\n",
    "# access values from the dictionary\n",
    "print(data[\"name\"])  # outputs \"John\"\n",
    "print(data[\"age\"])  # outputs 30\n",
    "print(data[\"city\"])  # outputs \"New Y"
   ],
   "metadata": {
    "collapsed": false
   }
  },
  {
   "cell_type": "code",
   "execution_count": 58,
   "outputs": [
    {
     "data": {
      "text/plain": "{'key1': 'value1', 'key3': 'value3'}"
     },
     "execution_count": 58,
     "metadata": {},
     "output_type": "execute_result"
    }
   ],
   "source": [
    "my_dict = {'key1': 'value1', 'key2': 'value2', 'key3': 'value3'}\n",
    "del my_dict['key2']\n",
    "my_dict"
   ],
   "metadata": {
    "collapsed": false
   }
  },
  {
   "cell_type": "code",
   "execution_count": 60,
   "outputs": [
    {
     "data": {
      "text/plain": "{'key1': 'value1', 'key3': 'value3'}"
     },
     "execution_count": 60,
     "metadata": {},
     "output_type": "execute_result"
    }
   ],
   "source": [
    "my_dict = {'key1': 'value1', 'key2': 'value2', 'key3': 'value3'}\n",
    "my_dict.pop('key2')\n",
    "my_dict"
   ],
   "metadata": {
    "collapsed": false
   }
  },
  {
   "cell_type": "code",
   "execution_count": 61,
   "outputs": [
    {
     "ename": "KeyError",
     "evalue": "'key4'",
     "output_type": "error",
     "traceback": [
      "\u001B[1;31m---------------------------------------------------------------------------\u001B[0m",
      "\u001B[1;31mKeyError\u001B[0m                                  Traceback (most recent call last)",
      "Cell \u001B[1;32mIn[61], line 2\u001B[0m\n\u001B[0;32m      1\u001B[0m my_dict \u001B[38;5;241m=\u001B[39m {\u001B[38;5;124m'\u001B[39m\u001B[38;5;124mkey1\u001B[39m\u001B[38;5;124m'\u001B[39m: \u001B[38;5;124m'\u001B[39m\u001B[38;5;124mvalue1\u001B[39m\u001B[38;5;124m'\u001B[39m, \u001B[38;5;124m'\u001B[39m\u001B[38;5;124mkey2\u001B[39m\u001B[38;5;124m'\u001B[39m: \u001B[38;5;124m'\u001B[39m\u001B[38;5;124mvalue2\u001B[39m\u001B[38;5;124m'\u001B[39m, \u001B[38;5;124m'\u001B[39m\u001B[38;5;124mkey3\u001B[39m\u001B[38;5;124m'\u001B[39m: \u001B[38;5;124m'\u001B[39m\u001B[38;5;124mvalue3\u001B[39m\u001B[38;5;124m'\u001B[39m}\n\u001B[1;32m----> 2\u001B[0m \u001B[43mmy_dict\u001B[49m\u001B[38;5;241;43m.\u001B[39;49m\u001B[43mpop\u001B[49m\u001B[43m(\u001B[49m\u001B[38;5;124;43m'\u001B[39;49m\u001B[38;5;124;43mkey4\u001B[39;49m\u001B[38;5;124;43m'\u001B[39;49m\u001B[43m)\u001B[49m\n",
      "\u001B[1;31mKeyError\u001B[0m: 'key4'"
     ]
    }
   ],
   "source": [
    "my_dict = {'key1': 'value1', 'key2': 'value2', 'key3': 'value3'}\n",
    "my_dict.pop('key4')\n"
   ],
   "metadata": {
    "collapsed": false
   }
  },
  {
   "cell_type": "code",
   "execution_count": 62,
   "outputs": [
    {
     "data": {
      "text/plain": "{'key1': 'value1', 'key2': 'value2', 'key3': 'value3'}"
     },
     "execution_count": 62,
     "metadata": {},
     "output_type": "execute_result"
    }
   ],
   "source": [
    "# В обоих случаях, если указанный ключ отсутствует в словаре, будет возбуждено исключение KeyError.\n",
    "# Если вам необходимо удалить ключ из словаря, но не хотите получать исключение, вы можете использовать метод pop()\n",
    "# с дополнительным аргументом - значение по умолчанию, которое будет возвращено, если ключ не найден:\n",
    "\n",
    "my_dict = {'key1': 'value1', 'key2': 'value2', 'key3': 'value3'}\n",
    "my_dict.pop('key4', None)\n",
    "my_dict"
   ],
   "metadata": {
    "collapsed": false
   }
  },
  {
   "cell_type": "code",
   "execution_count": 63,
   "outputs": [
    {
     "name": "stdout",
     "output_type": "stream",
     "text": [
      "You cannot divide by zero.\n"
     ]
    }
   ],
   "source": [
    "try:\n",
    "    # code that may raise an exception\n",
    "    x = int(input(\"Enter a number: \"))\n",
    "    result = 10 / x\n",
    "    print(\"The result is:\", result)\n",
    "except ZeroDivisionError:\n",
    "    # code that handles the ZeroDivisionError exception\n",
    "    print(\"You cannot divide by zero.\")\n",
    "except ValueError:\n",
    "    # code that handles the ValueError exception\n",
    "    print(\"You must enter a valid number.\")\n",
    "except:\n",
    "    # code that handles any other exception\n",
    "    print(\"An error occurred.\")"
   ],
   "metadata": {
    "collapsed": false
   }
  },
  {
   "cell_type": "code",
   "execution_count": null,
   "outputs": [],
   "source": [],
   "metadata": {
    "collapsed": false
   }
  }
 ],
 "metadata": {
  "kernelspec": {
   "display_name": "Python 3",
   "language": "python",
   "name": "python3"
  },
  "language_info": {
   "codemirror_mode": {
    "name": "ipython",
    "version": 2
   },
   "file_extension": ".py",
   "mimetype": "text/x-python",
   "name": "python",
   "nbconvert_exporter": "python",
   "pygments_lexer": "ipython2",
   "version": "2.7.6"
  }
 },
 "nbformat": 4,
 "nbformat_minor": 0
}

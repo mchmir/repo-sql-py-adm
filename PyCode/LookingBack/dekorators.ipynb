{
 "cells": [
  {
   "cell_type": "markdown",
   "source": [
    "## Декораторы\n",
    "\n",
    "Отчасти по причине того, что в python функции — это объекты первого порядка, в нем распространены то, что в других языках называется функциями высшего порядка, т.е. функции, которые принимают в качестве параметра или возвращают другие функции. Для конкретного вида таких функций в python добавили специальный элемент языка — декораторы."
   ],
   "metadata": {
    "collapsed": false
   }
  },
  {
   "cell_type": "code",
   "execution_count": 1,
   "outputs": [],
   "source": [
    "def announce(func):\n",
    "    def wrap(x):\n",
    "        print(f\"Функция {func.__name__} вызвана с аргументом {x}\")\n",
    "        return func(x)\n",
    "    return wrap"
   ],
   "metadata": {
    "collapsed": false
   }
  },
  {
   "cell_type": "markdown",
   "source": [
    "Функция announce внутри тела объявляет новую функцию wrap и тем самым создаёт объект этой функции. Когда этот объект создан, он сразу возвращается наружу. Функция wrap в свою очередь является оберткой: она возвращает результат вычисления обертываемой функции func, но перед этим делает дополнительные действия, а именно печатает имя функции (атрибут func.__name__) и аргумент, с которым вызывается функция. С этим же аргументом вызывается функция func.\n",
    "\n",
    "Проверим работоспособность это функции. Для этого обернем функции синуса и косинуса."
   ],
   "metadata": {
    "collapsed": false
   }
  },
  {
   "cell_type": "code",
   "execution_count": 2,
   "outputs": [
    {
     "name": "stdout",
     "output_type": "stream",
     "text": [
      "0.0 1.0\n",
      "Функция sin вызвана с аргументом 0\n",
      "Функция cos вызвана с аргументом 0\n",
      "0.0 1.0\n"
     ]
    }
   ],
   "source": [
    "from math import sin, cos\n",
    "\n",
    "print(sin(0), cos(0))\n",
    "\n",
    "sin = announce(sin)\n",
    "cos = announce(cos)\n",
    "\n",
    "print(sin(0), cos(0))"
   ],
   "metadata": {
    "collapsed": false
   }
  },
  {
   "cell_type": "markdown",
   "source": [
    "Видно, что обертывание функций sin и cos приводит к желаемому эффекту.\n",
    "\n",
    "Такого вида функции и называют декораторами. При этом, т.к. такие функции часто применяются и к пользовательским функциям, то в python ввели специальный синтаксический сахар для их применения.\n",
    "\n",
    "Вместо комбинации инструкций\n",
    "```python\n",
    "def my_function(x):\n",
    "    pass\n",
    "\n",
    "my_function = announce(my_function)\n",
    "```\n",
    "можно смело писать\n",
    "```python\n",
    "@announce\n",
    "def my_function(x):\n",
    "    pass\n",
    "```\n",
    "Они эквиваленты между собой с точки зрения синтаксиса.\n",
    "\n",
    "Но у второго подхода есть ряд преимуществ, самый главный из которых, наверное, следующий. При первом подходе читатель анализирует тело функции, ещё не зная, что она потом будет задекорирована, т.е. модифицирована. При втором подходе декоратор встречается ещё до ключевого слова def и явно указывает на модификацию функции."
   ],
   "metadata": {
    "collapsed": false
   }
  },
  {
   "cell_type": "code",
   "execution_count": 3,
   "outputs": [
    {
     "name": "stdout",
     "output_type": "stream",
     "text": [
      "Функция square вызвана с аргументом 2\n",
      "4\n"
     ]
    }
   ],
   "source": [
    "@announce\n",
    "def square(x):\n",
    "    return x * x\n",
    "\n",
    "print(square(2))"
   ],
   "metadata": {
    "collapsed": false
   }
  },
  {
   "cell_type": "code",
   "execution_count": 7,
   "outputs": [
    {
     "name": "stdout",
     "output_type": "stream",
     "text": [
      "Функция обертка!\n",
      "выполняем func\n",
      "Hello world!\n",
      "выходим из обертки\n"
     ]
    }
   ],
   "source": [
    "def decorator_function(func):\n",
    "    def wrapper():\n",
    "        print(f'Функция обертка!')\n",
    "        print(f'выполняем func')\n",
    "        func()\n",
    "        print(f'выходим из обертки')\n",
    "    return wrapper\n",
    "\n",
    "@decorator_function\n",
    "def hello_world():\n",
    "    print('Hello world!')\n",
    "\n",
    "hello_world()"
   ],
   "metadata": {
    "collapsed": false
   }
  },
  {
   "cell_type": "code",
   "execution_count": 13,
   "outputs": [
    {
     "name": "stdout",
     "output_type": "stream",
     "text": [
      "Функция обертка!\n",
      "Функция обертка!\n",
      "Функция обертка!\n",
      "\n",
      "выполняем func\n",
      "выполняем func\n",
      "выполняем func\n",
      "выполняем func\n",
      "\n",
      "________________________________________\n",
      "Hello world!\n",
      "________________________________________\n",
      "выходим из обертки\n",
      "выходим из обертки\n",
      "выходим из обертки\n",
      "\n"
     ]
    }
   ],
   "source": [
    "def decorator_function(iters, param = 1):\n",
    "    def actual_decorator(func):\n",
    "        def wrapper():\n",
    "            print(f'Функция обертка!\\n' * iters)\n",
    "            print(f'выполняем func\\n' * param)\n",
    "            func()\n",
    "            print(f'выходим из обертки\\n' * iters)\n",
    "        return wrapper\n",
    "    return actual_decorator\n",
    "\n",
    "@decorator_function(iters=3, param=4)\n",
    "def hello_world():\n",
    "    print('_' * 40)\n",
    "    print('Hello world!')\n",
    "    print('_' * 40)\n",
    "\n",
    "\n",
    "hello_world()"
   ],
   "metadata": {
    "collapsed": false
   }
  },
  {
   "cell_type": "code",
   "execution_count": 4,
   "outputs": [
    {
     "name": "stdout",
     "output_type": "stream",
     "text": [
      "square\n",
      "<function square at 0x000001B48DF7E3B0>\n"
     ]
    }
   ],
   "source": [
    "from functools import wraps\n",
    "\n",
    "def announce(func):\n",
    "    @wraps(func)\n",
    "    def wrap(x):\n",
    "        print(f\"Функция {func.__name__} вызвана с аргументом {x}\")\n",
    "        return func(x)\n",
    "    return wrap\n",
    "\n",
    "@announce\n",
    "def square(x):\n",
    "    return x * x\n",
    "\n",
    "print(square.__name__)\n",
    "print(square)"
   ],
   "metadata": {
    "collapsed": false
   }
  },
  {
   "cell_type": "code",
   "execution_count": 5,
   "outputs": [
    {
     "name": "stdout",
     "output_type": "stream",
     "text": [
      "Функция add вызвана с позиционными аргументами (42, 3.14) и именованными аргументами {}.\n",
      "45.14\n",
      "Функция add вызвана с позиционными аргументами (7,) и именованными аргументами {'y': 2.71}.\n",
      "9.71\n"
     ]
    }
   ],
   "source": [
    "def announce(func):\n",
    "    def wrap(*args, **kwargs):\n",
    "        print(f\"Функция {func.__name__} вызвана с позиционными аргументами {args}\", end=\"\")\n",
    "        print(f\" и именованными аргументами {kwargs}.\")\n",
    "        return func(*args, **kwargs)\n",
    "    return wrap\n",
    "\n",
    "@announce\n",
    "def add(x, y):\n",
    "    return x + y\n",
    "\n",
    "print(add(42, 3.14))\n",
    "print(add(7, y=2.71))"
   ],
   "metadata": {
    "collapsed": false
   }
  },
  {
   "cell_type": "code",
   "execution_count": 6,
   "outputs": [
    {
     "name": "stdout",
     "output_type": "stream",
     "text": [
      "Вызов countdown занял 0.0005114000014145859 секунд, (параметры (10000,), {})\n",
      "Вызов countdown занял 0.005111499998747604 секунд, (параметры (100000,), {})\n",
      "Вызов countdown занял 0.0468269999983022 секунд, (параметры (1000000,), {})\n",
      "Вызов countdown занял 0.5043105000004289 секунд, (параметры (10000000,), {})\n"
     ]
    }
   ],
   "source": [
    "# Пример: измеряющий время декоратор\n",
    "# Рассмотрим вариант реализации декоратора, который при вызове декорируемой функции измеряет время,\n",
    "# потребовавшееся на её выполнение и выводит его в стандартный поток вывода, прежде чем вернуть результат её вычисления.\n",
    "\n",
    "from functools import wraps\n",
    "from time import perf_counter\n",
    "\n",
    "\n",
    "def timed(func):\n",
    "    @wraps(func)\n",
    "    def wrap(*args, **kwargs):\n",
    "        t1 = perf_counter()\n",
    "        result = func(*args, **kwargs)\n",
    "        t2 = perf_counter()\n",
    "        print(f\"Вызов {func.__name__} занял {t2- t1} секунд, \", end=\"\")\n",
    "        print(f\"(параметры {args}, {kwargs})\")\n",
    "        return result\n",
    "    return wrap\n",
    "\n",
    "\n",
    "@timed\n",
    "def countdown(n):\n",
    "    while n > 0:\n",
    "        n -= 1\n",
    "\n",
    "\n",
    "for n in [10_000, 100_000, 1_000_000, 10_000_000]:\n",
    "    countdown(n)"
   ],
   "metadata": {
    "collapsed": false
   }
  },
  {
   "cell_type": "code",
   "execution_count": 21,
   "outputs": [
    {
     "name": "stdout",
     "output_type": "stream",
     "text": [
      "Время выполнения: 0.3752923011779785 секунд.\n",
      "<!doctype html><html itemscope=\"\" itemtype=\"http://schema.org/WebPage\" lang=\"kk\"><head><meta content=\"text/html; charset=UTF-8\" http-equiv=\"Content-Type\"><meta content=\"/images/branding/googleg/1x/googleg_standard_color_128dp.png\" itemprop=\"image\"><title>Google</title><script nonce=\"4_Y_2XXHlxQIoq0xL9aquA\">(function(){var _g={kEI:'PMyuZInILJuSkdUP05OC-Aw',kEXPI:'0,1359409,1709,4349,207,2415,2389,2316,383,246,5,1129120,1749,1196018,881,379843,16114,28684,22430,1362,12311,17588,4998,17075,35733,2711,889,1983,2891,12360,29877,791,30021,16106,230,20583,4,1528,2304,42127,11443,6652,9358,13243,6636,7596,1,8710,33444,2,39761,5679,1021,25046,6076,4568,6258,23417,1253,5835,19300,5016,2468,445,2,2,1,6960,19672,8155,7381,15970,873,19632,10,1920,9779,12415,30044,20198,928,19209,14,82,2914,17292,8377,24363,2266,764,6111,9705,1804,10472,2884,2495,6986,4255,6005,2171,5250,3537,3027,1632,7951,5909,586,543,3148,2753,2374,3438,1991,3358,2565,450,4501,3899,1477,335,2109,3,3,9,1677,2420,1271,2041,372,5211548,15,2,17,5993494,2804428,3306,141,795,19735,1,1,346,6989,12,22,4,7,6,11,107,10,48,23943268,579,4043528,16673,2893,6250,17097,2792,3918,2977,1144,1402868,23762871,255,1568,897,2106,1974,1376,1022,3587,397,4424,1919,98,863,335,516,446,99,349,438,213,287,1792,612,933,836,74,1,576,301,215,308,595,629,256,263,937,553,93,162,496,473,86,437,201,273,2155,314,482,552,61,865,120,165,228,1278,161,513,326,799,27,185,105,358,1034,970,2325,479,544,128,8,367,1371,23,7,213,731,882,156,7,30,76,132,144,6,3,391,262,51,684,4,219,898,3,714,196,610,433,238,63,1378,333,630,250,594,3,2412,2,909,1586,833,553,453,4',kBL:'SZGQ',kOPI:89978449};(function(){var a;(null==(a=window.google)?0:a.stvsc)?google.kEI=_g.kEI:window.google=_g;}).call(this);})();(function(){google.sn='webhp';google.kHL='kk';})();(function(){\n",
      "var h=this||self;function l(){return void 0!==window.google&&void 0!==window.google.kOPI&&0!==window.google.kOPI?window.google.kOPI:null};var m,n=[];function p(a){for(var b;a&&(!a.getAttribute||!(b=a.getAttribute(\"eid\")));)a=a.parentNode;return b||m}function q(a){for(var b=null;a&&(!a.getAttribute||!(b=a.getAttribute(\"leid\")));)a=a.parentNode;return b}function r(a){/^http:/i.test(a)&&\"https:\"===window.location.protocol&&(google.ml&&google.ml(Error(\"a\"),!1,{src:a,glmm:1}),a=\"\");return a}\n",
      "function t(a,b,c,d,k){var e=\"\";-1===b.search(\"&ei=\")&&(e=\"&ei=\"+p(d),-1===b.search(\"&lei=\")&&(d=q(d))&&(e+=\"&lei=\"+d));d=\"\";var g=-1===b.search(\"&cshid=\")&&\"slh\"!==a,f=[];f.push([\"zx\",Date.now().toString()]);h._cshid&&g&&f.push([\"cshid\",h._cshid]);c=c();null!=c&&f.push([\"opi\",c.toString()]);for(c=0;c<f.length;c++){if(0===c||0<c)d+=\"&\";d+=f[c][0]+\"=\"+f[c][1]}return\"/\"+(k||\"gen_204\")+\"?atyp=i&ct=\"+String(a)+\"&cad=\"+(b+e+d)};m=google.kEI;google.getEI=p;google.getLEI=q;google.ml=function(){return null};google.log=function(a,b,c,d,k,e){e=void 0===e?l:e;c||(c=t(a,b,e,d,k));if(c=r(c)){a=new Image;var g=n.length;n[g]=a;a.onerror=a.onload=a.onabort=function(){delete n[g]};a.src=c}};google.logUrl=function(a,b){b=void 0===b?l:b;return t(\"\",a,b)};}).call(this);(function(){google.y={};google.sy=[];google.x=function(a,b){if(a)var c=a.id;else{do c=Math.random();while(google.y[c])}google.y[c]=[a,b];return!1};google.sx=function(a){google.sy.push(a)};google.lm=[];google.plm=function(a){google.lm.push.apply(google.lm,a)};google.lq=[];google.load=function(a,b,c){google.lq.push([[a],b,c])};google.loadAll=function(a,b){google.lq.push([a,b])};google.bx=!1;google.lx=function(){};}).call(this);google.f={};(function(){\n",
      "document.documentElement.addEventListener(\"submit\",function(b){var a;if(a=b.target){var c=a.getAttribute(\"data-submitfalse\");a=\"1\"===c||\"q\"===c&&!a.elements.q.value?!0:!1}else a=!1;a&&(b.preventDefault(),b.stopPropagation())},!0);document.documentElement.addEventListener(\"click\",function(b){var a;a:{for(a=b.target;a&&a!==document.documentElement;a=a.parentElement)if(\"A\"===a.tagName){a=\"1\"===a.getAttribute(\"data-nohref\");break a}a=!1}a&&b.preventDefault()},!0);}).call(this);</script><style>#gbar,#guser{font-size:13px;padding-top:1px !important;}#gbar{height:22px}#guser{padding-bottom:7px !important;text-align:right}.gbh,.gbd{border-top:1px solid #c9d7f1;font-size:1px}.gbh{height:0;position:absolute;top:24px;width:100%}@media all{.gb1{height:22px;margin-right:.5em;vertical-align:top}#gbar{float:left}}a.gb1,a.gb4{text-decoration:underline !important}a.gb1,a.gb4{color:#00c !important}.gbi .gb4{color:#dd8e27 !important}.gbf .gb4{color:#900 !important}\n",
      "</style><style>body,td,a,p,.h{font-family:arial,sans-serif}body{margin:0;overflow-y:scroll}#gog{padding:3px 8px 0}td{line-height:.8em}.gac_m td{line-height:17px}form{margin-bottom:20px}.h{color:#1967d2}em{font-weight:bold;font-style:normal}.lst{height:25px;width:496px}.gsfi,.lst{font:18px arial,sans-serif}.gsfs{font:17px arial,sans-serif}.ds{display:inline-box;display:inline-block;margin:3px 0 4px;margin-left:4px}input{font-family:inherit}body{background:#fff;color:#000}a{color:#681da8;text-decoration:none}a:hover,a:active{text-decoration:underline}.fl a{color:#1967d2}a:visited{color:#681da8}.sblc{padding-top:5px}.sblc a{display:block;margin:2px 0;margin-left:13px;font-size:11px}.lsbb{background:#f8f9fa;border:solid 1px;border-color:#dadce0 #70757a #70757a #dadce0;height:30px}.lsbb{display:block}#WqQANb a{display:inline-block;margin:0 12px}.lsb{background:url(/images/nav_logo229.png) 0 -261px repeat-x;color:#000;border:none;cursor:pointer;height:30px;margin:0;outline:0;font:15px arial,sans-serif;vertical-align:top}.lsb:active{background:#dadce0}.lst:focus{outline:none}.Ucigb{width:458px}</style><script nonce=\"4_Y_2XXHlxQIoq0xL9aquA\">(function(){window.google.erd={jsr:1,bv:1825,de:true};\n",
      "var l=this||self;var m,n=null!=(m=l.mei)?m:1,p,q=null!=(p=l.sdo)?p:!0,r=0,t,u=google.erd,v=u.jsr;google.ml=function(a,b,d,h,e){e=void 0===e?2:e;b&&(t=a&&a.message);if(google.dl)return google.dl(a,e,d),null;if(0>v){window.console&&console.error(a,d);if(-2===v)throw a;b=!1}else b=!a||!a.message||\"Error loading script\"===a.message||r>=n&&!h?!1:!0;if(!b)return null;r++;d=d||{};b=encodeURIComponent;var c=\"/gen_204?atyp=i&ei=\"+b(google.kEI);google.kEXPI&&(c+=\"&jexpid=\"+b(google.kEXPI));c+=\"&srcpg=\"+b(google.sn)+\"&jsr=\"+b(u.jsr)+\"&bver=\"+b(u.bv);var f=a.lineNumber;void 0!==f&&(c+=\"&line=\"+f);var g=\n",
      "a.fileName;g&&(0<g.indexOf(\"-extension:/\")&&(e=3),c+=\"&script=\"+b(g),f&&g===window.location.href&&(f=document.documentElement.outerHTML.split(\"\\n\")[f],c+=\"&cad=\"+b(f?f.substring(0,300):\"No script found.\")));c+=\"&cad=ple_\"+google.ple;google.ple&&1===google.ple&&(e=2);c+=\"&jsel=\"+e;for(var k in d)c+=\"&\",c+=b(k),c+=\"=\",c+=b(d[k]);c=c+\"&emsg=\"+b(a.name+\": \"+a.message);c=c+\"&jsst=\"+b(a.stack||\"N/A\");12288<=c.length&&(c=c.substr(0,12288));a=c;h||google.log(0,\"\",a);return a};window.onerror=function(a,b,d,h,e){if(t!==a){a=e instanceof Error?e:Error(a);void 0===d||\"lineNumber\"in a||(a.lineNumber=d);void 0===b||\"fileName\"in a||(a.fileName=b);b=void 0;if(a.stack&&(-1!==a.stack.indexOf(\"?xjs=s0\")||-1!==a.stack.indexOf(\"&xjs=s0\"))){b=document.querySelectorAll(\"script[src*=\\\\/xjs\\\\/_\\\\/js\\\\/]\");for(h=d=0;h<b.length;h++)d+=b[h].async?1:0;var c=e=h=-1,f=-1,g=-1;if(performance&&google.xjsu){h=0;e=google.timers.load.t.xjsee?1:0;f=c=0;g=performance.getEntriesByType(\"resource\");for(var k=\n",
      "0;k<g.length;k++)g[k].name===google.xjsu&&(h=1),-1!==g[k].name.indexOf(\"/xjs/_/js/\")&&(c+=1,f+=\"script\"===g[k].initiatorType?1:0);g=c-f}b={cad:\"pl_\"+h+\".pe_\"+e+\".asc_\"+d+\".tsc_\"+b.length+\".fasc_\"+(b.length-d)+\".lxc_\"+c+\".lsx_\"+f+\".lnsx_\"+g}}google.ml(a,!1,b,!1,\"SyntaxError\"===a.name||\"SyntaxError\"===a.message.substring(0,11)||-1!==a.message.indexOf(\"Script error\")?3:0)}t=null;q&&r>=n&&(window.onerror=null)};})();</script></head><body bgcolor=\"#fff\"><script nonce=\"4_Y_2XXHlxQIoq0xL9aquA\">(function(){var src='/images/nav_logo229.png';var iesg=false;document.body.onload = function(){window.n && window.n();if (document.images){new Image().src=src;}\n",
      "if (!iesg){document.f&&document.f.q.focus();document.gbqf&&document.gbqf.q.focus();}\n",
      "}\n",
      "})();</script><div id=\"mngb\"><div id=gbar><nobr><b class=gb1>Іздеу</b> <a class=gb1 href=\"https://www.google.kz/imghp?hl=kk&tab=wi\">Суреттер</a> <a class=gb1 href=\"https://maps.google.kz/maps?hl=kk&tab=wl\">Maps</a> <a class=gb1 href=\"https://play.google.com/?hl=kk&tab=w8\">Play</a> <a class=gb1 href=\"https://www.youtube.com/?tab=w1\">YouTube</a> <a class=gb1 href=\"https://news.google.com/?tab=wn\">Жаңалықтар</a> <a class=gb1 href=\"https://mail.google.com/mail/?tab=wm\">Gmail</a> <a class=gb1 href=\"https://drive.google.com/?tab=wo\">Drive</a> <a class=gb1 style=\"text-decoration:none\" href=\"https://www.google.kz/intl/kk/about/products?tab=wh\"><u>Басқа</u> &raquo;</a></nobr></div><div id=guser width=100%><nobr><span id=gbn class=gbi></span><span id=gbf class=gbf></span><span id=gbe></span><a href=\"http://www.google.kz/history/optout?hl=kk\" class=gb4>Веб Тарих</a> | <a  href=\"/preferences?hl=kk\" class=gb4>Параметрлер</a> | <a target=_top id=gb_70 href=\"https://accounts.google.com/ServiceLogin?hl=kk&passive=true&continue=https://www.google.kz/&ec=GAZAAQ\" class=gb4>Кіру</a></nobr></div><div class=gbh style=left:0></div><div class=gbh style=right:0></div></div><center><br clear=\"all\" id=\"lgpd\"><div id=\"lga\"><img alt=\"Google\" height=\"92\" src=\"/images/branding/googlelogo/1x/googlelogo_white_background_color_272x92dp.png\" style=\"padding:28px 0 14px\" width=\"272\" id=\"hplogo\"><br><br></div><form action=\"/search\" name=\"f\"><table cellpadding=\"0\" cellspacing=\"0\"><tr valign=\"top\"><td width=\"25%\">&nbsp;</td><td align=\"center\" nowrap=\"\"><input value=\"kk\" name=\"hl\" type=\"hidden\"><input name=\"source\" type=\"hidden\" value=\"hp\"><input name=\"biw\" type=\"hidden\"><input name=\"bih\" type=\"hidden\"><div class=\"ds\" style=\"height:32px;margin:4px 0\"><div style=\"position:relative;zoom:1\"><input class=\"lst Ucigb\" style=\"margin:0;padding:5px 8px 0 6px;vertical-align:top;color:#000;padding-right:38px\" value=\"\" title=\"Google-мен іздеу\" maxlength=\"2048\" name=\"q\" size=\"57\"><img src=\"/textinputassistant/tia.png\" style=\"position:absolute;cursor:pointer;right:5px;top:4px;z-index:300\" data-script-url=\"/textinputassistant/12/kk_tia.js\" id=\"tsuid_1\" alt=\"\" height=\"23\" width=\"27\"><script nonce=\"4_Y_2XXHlxQIoq0xL9aquA\">(function(){var id='tsuid_1';document.getElementById(id).onclick = function(){var s = document.createElement('script');s.src = this.getAttribute('data-script-url');(document.getElementById('xjsc')||document.body).appendChild(s);};})();</script></div></div><br style=\"line-height:0\"><span class=\"ds\"><span class=\"lsbb\"><input class=\"lsb\" value=\"Google-мен іздеу\" name=\"btnG\" type=\"submit\"></span></span><span class=\"ds\"><span class=\"lsbb\"><input class=\"lsb\" id=\"tsuid_2\" value=\"Бір сәті түсер\" name=\"btnI\" type=\"submit\"><script nonce=\"4_Y_2XXHlxQIoq0xL9aquA\">(function(){var id='tsuid_2';document.getElementById(id).onclick = function(){if (this.form.q.value){this.checked = 1;if (this.form.iflsig)this.form.iflsig.disabled = false;}\n",
      "else top.location='/doodles/';};})();</script><input value=\"AD69kcEAAAAAZK7aTHzbxP8QIwW214H02e4-hXrRQxLQ\" name=\"iflsig\" type=\"hidden\"></span></span></td><td class=\"fl sblc\" align=\"left\" nowrap=\"\" width=\"25%\"><a href=\"/advanced_search?hl=kk&amp;authuser=0\">Кеңейтілген іздеу</a></td></tr></table><input id=\"gbv\" name=\"gbv\" type=\"hidden\" value=\"1\"><script nonce=\"4_Y_2XXHlxQIoq0xL9aquA\">(function(){var a,b=\"1\";if(document&&document.getElementById)if(\"undefined\"!=typeof XMLHttpRequest)b=\"2\";else if(\"undefined\"!=typeof ActiveXObject){var c,d,e=[\"MSXML2.XMLHTTP.6.0\",\"MSXML2.XMLHTTP.3.0\",\"MSXML2.XMLHTTP\",\"Microsoft.XMLHTTP\"];for(c=0;d=e[c++];)try{new ActiveXObject(d),b=\"2\"}catch(h){}}a=b;if(\"2\"==a&&-1==location.search.indexOf(\"&gbv=2\")){var f=google.gbvu,g=document.getElementById(\"gbv\");g&&(g.value=a);f&&window.setTimeout(function(){location.href=f},0)};}).call(this);</script></form><div id=\"gac_scont\"></div><div style=\"font-size:83%;min-height:3.5em\"><br><div id=\"gws-output-pages-elements-homepage_additional_languages__als\"><style>#gws-output-pages-elements-homepage_additional_languages__als{font-size:small;margin-bottom:24px}#SIvCob{color:#3c4043;display:inline-block;line-height:28px;}#SIvCob a{padding:0 3px;}.H6sW5{display:inline-block;margin:0 2px;white-space:nowrap}.z4hgWe{display:inline-block;margin:0 2px}</style><div id=\"SIvCob\">Google ұсынды:  <a href=\"https://www.google.kz/setprefs?sig=0_LDBcvw7jbl7oYwdHYkozfbxhwZE%3D&amp;hl=ru&amp;source=homepage&amp;sa=X&amp;ved=0ahUKEwiJ1qafw4mAAxUbSaQEHdOJAM8Q2ZgBCAU\">русский</a>  </div></div></div><span id=\"footer\"><div style=\"font-size:10pt\"><div style=\"margin:19px auto;text-align:center\" id=\"WqQANb\"><a href=\"/intl/kk/ads/\">Жарнамалау</a><a href=\"/intl/kk/about.html\">Google туралы барлық нәрсе</a><a href=\"https://www.google.kz/setprefdomain?prefdom=US&amp;sig=K_PaYPENa0h8iJ8jgbzt9-hBML2C0%3D\" id=\"fehl\">Google.com</a></div></div><p style=\"font-size:8pt;color:#70757a\">&copy; 2023</p></span></center><script nonce=\"4_Y_2XXHlxQIoq0xL9aquA\">(function(){window.google.cdo={height:757,width:1440};(function(){var a=window.innerWidth,b=window.innerHeight;if(!a||!b){var c=window.document,d=\"CSS1Compat\"==c.compatMode?c.documentElement:c.body;a=d.clientWidth;b=d.clientHeight}\n",
      "if(a&&b&&(a!=google.cdo.width||b!=google.cdo.height)){var e=google,f=e.log,g=\"/client_204?&atyp=i&biw=\"+a+\"&bih=\"+b+\"&ei=\"+google.kEI,h=\"\",k=[],l=void 0!==window.google&&void 0!==window.google.kOPI&&0!==window.google.kOPI?window.google.kOPI:null;null!=l&&k.push([\"opi\",l.toString()]);for(var m=0;m<k.length;m++){if(0===m||0<m)h+=\"&\";h+=k[m][0]+\"=\"+k[m][1]}f.call(e,\"\",\"\",g+h)};}).call(this);})();</script> <script nonce=\"4_Y_2XXHlxQIoq0xL9aquA\">(function(){google.xjs={ck:'xjs.hp.vwGc1rlVQu8.L.X.O',cs:'ACT90oFaUSunLoo8e4zOWWBM0lj3wRXEgA',csss:'ACT90oFnFloilgJCYoo2u4OK6Q8uwjpozQ',excm:[],sepcss:false};})();</script>    <script nonce=\"4_Y_2XXHlxQIoq0xL9aquA\">(function(){var u='/xjs/_/js/k\\x3dxjs.hp.en.2yb9DC1muAI.O/am\\x3dAAAAAAAAAACAAAAAAAAAAAAgAKATAKAAgAU/d\\x3d1/ed\\x3d1/rs\\x3dACT90oGU6QuWJE2lgHHmTTfMHVwrOVMEdw/m\\x3dd,cEt90b,SNUn3,qddgKe,sTsDMc,dtl0hd,eHDfl';var amd=0;\n",
      "var d=this||self,e=function(b){return b};var f;var h=function(b){this.g=b};h.prototype.toString=function(){return this.g+\"\"};var l={};var n=function(){var b=document;var a=\"SCRIPT\";\"application/xhtml+xml\"===b.contentType&&(a=a.toLowerCase());return b.createElement(a)};\n",
      "function p(){var b=u,a=function(){};google.lx=google.stvsc?a:function(){q(b);google.lx=a};google.bx||google.lx()}\n",
      "function r(b,a){a=null===a?\"null\":void 0===a?\"undefined\":a;if(void 0===f){var c=null;var k=d.trustedTypes;if(k&&k.createPolicy){try{c=k.createPolicy(\"goog#html\",{createHTML:e,createScript:e,createScriptURL:e})}catch(t){d.console&&d.console.error(t.message)}f=c}else f=c}a=(c=f)?c.createScriptURL(a):a;a=new h(a,l);b.src=a instanceof h&&a.constructor===h?a.g:\"type_error:TrustedResourceUrl\";var g,m;(g=(a=null==(m=(g=(b.ownerDocument&&b.ownerDocument.defaultView||window).document).querySelector)?void 0:m.call(g,\"script[nonce]\"))?a.nonce||a.getAttribute(\"nonce\")||\"\":\"\")&&b.setAttribute(\"nonce\",g);document.body.appendChild(b)}function q(b){google.timers&&google.timers.load&&google.tick&&google.tick(\"load\",\"xjsls\");var a=n();a.onerror=function(){google.ple=1};a.onload=function(){google.ple=0};r(a,b);google.psa=!0};google.xjsu=u;d._F_jsUrl=u;setTimeout(function(){0<amd?google.caft(function(){return p()},amd):p()},0);})();window._ = window._ || {};window._DumpException = _._DumpException = function(e){throw e;};window._s = window._s || {};_s._DumpException = _._DumpException;window._qs = window._qs || {};_qs._DumpException = _._DumpException;function _F_installCss(c){}\n",
      "(function(){google.jl={blt:'none',chnk:0,dw:false,dwu:true,emtn:0,end:0,ico:false,ikb:0,ine:false,injs:'none',injt:0,injth:0,injv2:false,lls:'default',pdt:0,rep:0,snet:true,strt:0,ubm:false,uwp:true};})();(function(){var pmc='{\\x22d\\x22:{}}';google.pmc=JSON.parse(pmc);})();(function(){\n",
      "var b=function(a){var c=0;return function(){return c<a.length?{done:!1,value:a[c++]}:{done:!0}}},e=this||self;var g,h;a:{for(var k=[\"CLOSURE_FLAGS\"],l=e,n=0;n<k.length;n++)if(l=l[k[n]],null==l){h=null;break a}h=l}var p=h&&h[610401301];g=null!=p?p:!1;var q,r=e.navigator;q=r?r.userAgentData||null:null;function t(a){return g?q?q.brands.some(function(c){return(c=c.brand)&&-1!=c.indexOf(a)}):!1:!1}function u(a){var c;a:{if(c=e.navigator)if(c=c.userAgent)break a;c=\"\"}return-1!=c.indexOf(a)};function v(){return g?!!q&&0<q.brands.length:!1}function w(){return u(\"Safari\")&&!(x()||(v()?0:u(\"Coast\"))||(v()?0:u(\"Opera\"))||(v()?0:u(\"Edge\"))||(v()?t(\"Microsoft Edge\"):u(\"Edg/\"))||(v()?t(\"Opera\"):u(\"OPR\"))||u(\"Firefox\")||u(\"FxiOS\")||u(\"Silk\")||u(\"Android\"))}function x(){return v()?t(\"Chromium\"):(u(\"Chrome\")||u(\"CriOS\"))&&!(v()?0:u(\"Edge\"))||u(\"Silk\")}function y(){return u(\"Android\")&&!(x()||u(\"Firefox\")||u(\"FxiOS\")||(v()?0:u(\"Opera\"))||u(\"Silk\"))};var z=v()?!1:u(\"Trident\")||u(\"MSIE\");y();x();w();var A=!z&&!w(),D=function(a){if(/-[a-z]/.test(\"ved\"))return null;if(A&&a.dataset){if(y()&&!(\"ved\"in a.dataset))return null;a=a.dataset.ved;return void 0===a?null:a}return a.getAttribute(\"data-\"+\"ved\".replace(/([A-Z])/g,\"-$1\").toLowerCase())};var E=[],F=null;function G(a){a=a.target;var c=performance.now(),f=[],H=f.concat,d=E;if(!(d instanceof Array)){var m=\"undefined\"!=typeof Symbol&&Symbol.iterator&&d[Symbol.iterator];if(m)d=m.call(d);else if(\"number\"==typeof d.length)d={next:b(d)};else throw Error(\"a`\"+String(d));for(var B=[];!(m=d.next()).done;)B.push(m.value);d=B}E=H.call(f,d,[c]);if(a&&a instanceof HTMLElement)if(a===F){if(c=4<=E.length)c=5>(E[E.length-1]-E[E.length-4])/1E3;if(c){c=google.getEI(a);a.hasAttribute(\"data-ved\")?f=a?D(a)||\"\":\"\":f=(f=\n",
      "a.closest(\"[data-ved]\"))?D(f)||\"\":\"\";f=f||\"\";if(a.hasAttribute(\"jsname\"))a=a.getAttribute(\"jsname\");else{var C;a=null==(C=a.closest(\"[jsname]\"))?void 0:C.getAttribute(\"jsname\")}google.log(\"rcm\",\"&ei=\"+c+\"&ved=\"+f+\"&jsname=\"+(a||\"\"))}}else F=a,E=[c]}window.document.addEventListener(\"DOMContentLoaded\",function(){document.body.addEventListener(\"click\",G)});}).call(this);</script></body></html>\n"
     ]
    }
   ],
   "source": [
    "# Замеряем время выполнения функции\n",
    "\n",
    "def benchmark(func):\n",
    "    import time\n",
    "\n",
    "    def wrapper(*args, **kwargs):\n",
    "        start = time.time()\n",
    "        return_value = func(*args, **kwargs)\n",
    "        end = time.time()\n",
    "        print(f'Время выполнения: {end - start} секунд.')\n",
    "        return return_value\n",
    "    return wrapper\n",
    "\n",
    "\n",
    "@benchmark\n",
    "def fetch_webpage(url: str) -> str:\n",
    "    import requests\n",
    "    get_webpage = requests.get(url)\n",
    "    return get_webpage.text\n",
    "\n",
    "\n",
    "webpage = fetch_webpage('https://www.google.kz/')\n",
    "print(webpage)"
   ],
   "metadata": {
    "collapsed": false
   }
  },
  {
   "cell_type": "code",
   "execution_count": null,
   "outputs": [],
   "source": [],
   "metadata": {
    "collapsed": false
   }
  }
 ],
 "metadata": {
  "kernelspec": {
   "display_name": "Python 3",
   "language": "python",
   "name": "python3"
  },
  "language_info": {
   "codemirror_mode": {
    "name": "ipython",
    "version": 2
   },
   "file_extension": ".py",
   "mimetype": "text/x-python",
   "name": "python",
   "nbconvert_exporter": "python",
   "pygments_lexer": "ipython2",
   "version": "2.7.6"
  }
 },
 "nbformat": 4,
 "nbformat_minor": 0
}

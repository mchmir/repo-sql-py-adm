{
 "cells": [
  {
   "cell_type": "markdown",
   "id": "bf1beeb3",
   "metadata": {},
   "source": [
    "# Создание CSV файла"
   ]
  },
  {
   "cell_type": "code",
   "execution_count": 1,
   "id": "2f3a0b3b",
   "metadata": {},
   "outputs": [],
   "source": [
    "!cd C:/PyCode/MSSQL/"
   ]
  },
  {
   "cell_type": "code",
   "execution_count": 2,
   "id": "0288ee5e",
   "metadata": {
    "scrolled": true
   },
   "outputs": [
    {
     "name": "stderr",
     "output_type": "stream",
     "text": [
      "c:\\ProgramData\\Anaconda3\\lib\\site-packages\\pandas\\io\\sql.py:761: UserWarning: pandas only support SQLAlchemy connectable(engine/connection) ordatabase string URI or sqlite3 DBAPI2 connectionother DBAPI2 objects are not tested, please consider using SQLAlchemy\n",
      "  warnings.warn(\n"
     ]
    },
    {
     "name": "stdout",
     "output_type": "stream",
     "text": [
      "Duration: 0:00:17.301411\n"
     ]
    }
   ],
   "source": [
    "#import time\n",
    "import sys\n",
    "sys.path.append('C:/PyCode/MSSQL')\n",
    "import pandas as pd\n",
    "from mod.func_sql import sqlconnect\n",
    "import re    # Импорт модуля для работы с регулярными выражениями\n",
    "from  datetime import datetime\n",
    "\n",
    "serv = \"gg-app\"\n",
    "base = \"Gefest\"\n",
    "user = \"sa\"\n",
    "pasw = \"sa\"\n",
    "\n",
    "def sql_select():\n",
    "    response = input('Запускаем код на выполнение? [Y/N]:')\n",
    "    if re.match(\"[yYдД]\", response):\n",
    "        #sqlfile = input('Имя sql-файла без расширения в папке .sql:')\n",
    "        sqlfile = 'erc'\n",
    "       \n",
    "        con = sqlconnect(serv,base,user,pasw)\n",
    "        if not con:\n",
    "            print (\"Error connect to dataBase!\")\n",
    "            return\n",
    "    \n",
    "        #cursor = con.cursor()\n",
    "        #sqlCommand = sqlCommandfromFile('sql\\\\'+sqlfile+'.sql') #.split(';')\n",
    "        query = open('../MSSQL/sql/'+sqlfile+'.sql', 'r')\n",
    "        #for command in sqlCommand:\n",
    "        #print(command)\n",
    "        sql_reader = pd.read_sql_query(query.read(), con)\n",
    "        #sql_reader = pd.read_sql(query, con)\n",
    "        fileCSV = \"../MSSQL/EIRC_GORGAZ_{:%m%Y}.csv\".format(datetime.now())\n",
    "        sql_reader.to_csv(fileCSV, sep='|', index =False, encoding='utf-8')\n",
    "        \n",
    "        \n",
    "    else:\n",
    "        print(\"Отмена выполнения. Всего хорошего!\")\n",
    "        \n",
    "        \n",
    "\n",
    "#sql_select_pd()\n",
    "start_time = datetime.now()\n",
    "sql_select()\n",
    "end_time = datetime.now()\n",
    "print('Duration: {}'.format(end_time - start_time))\n",
    "\n"
   ]
  },
  {
   "cell_type": "code",
   "execution_count": null,
   "id": "e4d5cfad",
   "metadata": {},
   "outputs": [],
   "source": []
  }
 ],
 "metadata": {
  "kernelspec": {
   "display_name": "Python 3.9.12 ('base')",
   "language": "python",
   "name": "python3"
  },
  "language_info": {
   "codemirror_mode": {
    "name": "ipython",
    "version": 3
   },
   "file_extension": ".py",
   "mimetype": "text/x-python",
   "name": "python",
   "nbconvert_exporter": "python",
   "pygments_lexer": "ipython3",
   "version": "3.9.12"
  },
  "vscode": {
   "interpreter": {
    "hash": "ad2bdc8ecc057115af97d19610ffacc2b4e99fae6737bb82f5d7fb13d2f2c186"
   }
  }
 },
 "nbformat": 4,
 "nbformat_minor": 5
}
